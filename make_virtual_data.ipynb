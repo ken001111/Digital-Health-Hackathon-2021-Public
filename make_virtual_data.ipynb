{
  "nbformat": 4,
  "nbformat_minor": 0,
  "metadata": {
    "colab": {
      "name": "make_virtual_data.ipynb",
      "provenance": [],
      "include_colab_link": true
    },
    "kernelspec": {
      "name": "python3",
      "display_name": "Python 3"
    },
    "language_info": {
      "name": "python"
    }
  },
  "cells": [
    {
      "cell_type": "markdown",
      "metadata": {
        "id": "view-in-github",
        "colab_type": "text"
      },
      "source": [
        "<a href=\"https://colab.research.google.com/github/mostly-sunny/digital-health-hackathon/blob/main/make_virtual_data.ipynb\" target=\"_parent\"><img src=\"https://colab.research.google.com/assets/colab-badge.svg\" alt=\"Open In Colab\"/></a>"
      ]
    },
    {
      "cell_type": "markdown",
      "metadata": {
        "id": "hvjR8EF4hLqJ"
      },
      "source": [
        "# 치료 효능률 계산을 위한 가상 환자 데이터 생성\n",
        "## Requirements\n",
        "### Library\n",
        "- pandas\n",
        "\n",
        "### 가상 환자 데이터\n",
        "- 총 602명의 가상 데이터\n",
        "- 치료 효능률을 계산하기 위한 데이터\n",
        "- (0번째 행) : 유전자 변이 모두 0, 임상 변수 모두 0, 치료 0\n",
        "- (1번째 행) : 유전자 변이 모두 0, 임상 변수 모두 0, 치료 1\n",
        "- (2~301번째 행) : 유전자 변이 n-1에만 1, 임상 변수 모두 0, 치료 0\n",
        "- (302~601번재 행) : 유전자 변이 n-301에만 1, 임상 변수 모두 0, 치료 1"
      ]
    },
    {
      "cell_type": "markdown",
      "metadata": {
        "id": "OFNFJ_SrhYmG"
      },
      "source": [
        "DataFrame 사용을 위한 pandas import"
      ]
    },
    {
      "cell_type": "code",
      "metadata": {
        "id": "uDmZmYz7ZNXY"
      },
      "source": [
        "import pandas as pd"
      ],
      "execution_count": null,
      "outputs": []
    },
    {
      "cell_type": "markdown",
      "metadata": {
        "id": "6ILQyi8uhb6I"
      },
      "source": [
        ""
      ]
    },
    {
      "cell_type": "code",
      "metadata": {
        "id": "N3V7218lYJti"
      },
      "source": [
        "virtual_data=[]"
      ],
      "execution_count": null,
      "outputs": []
    },
    {
      "cell_type": "code",
      "metadata": {
        "id": "NDMC7_AlZR1M"
      },
      "source": [
        "virtual_data.append([0]*311)\n",
        "virtual_data.append([0]*310+[1])"
      ],
      "execution_count": null,
      "outputs": []
    },
    {
      "cell_type": "code",
      "metadata": {
        "id": "QMMPaMLWZhjV"
      },
      "source": [
        "for i in range(300):\n",
        "  untreat_data = [0]*311\n",
        "  untreat_data[i]=1\n",
        "  virtual_data.append(untreat_data)\n",
        "for i in range(300):\n",
        "  treat_data = [0]*310+[1]\n",
        "  treat_data[i]=1\n",
        "  virtual_data.append(treat_data)"
      ],
      "execution_count": null,
      "outputs": []
    },
    {
      "cell_type": "code",
      "metadata": {
        "id": "mcoF_xpQaKje"
      },
      "source": [
        "columns_list = []\n",
        "for i in range(1, 301):\n",
        "  columns_list.append('G' + str(i))\n",
        "for i in range(1, 11):\n",
        "  columns_list.append('Var' + str(i))\n",
        "columns_list.append('Treatment')"
      ],
      "execution_count": null,
      "outputs": []
    },
    {
      "cell_type": "code",
      "metadata": {
        "id": "_MYXtFaCaEUm"
      },
      "source": [
        "pd.DataFrame(virtual_data, columns=columns_list).to_csv('/content/virtual-data.csv')"
      ],
      "execution_count": null,
      "outputs": []
    }
  ]
}