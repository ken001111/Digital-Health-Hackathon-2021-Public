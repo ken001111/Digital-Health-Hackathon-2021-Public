{
  "nbformat": 4,
  "nbformat_minor": 0,
  "metadata": {
    "colab": {
      "name": "logistichazard-with-example-code.ipynb",
      "provenance": []
    },
    "kernelspec": {
      "name": "python3",
      "display_name": "Python 3"
    },
    "language_info": {
      "name": "python"
    },
    "accelerator": "GPU"
  },
  "cells": [
    {
      "cell_type": "markdown",
      "metadata": {
        "id": "WKnuS7my_hyj"
      },
      "source": [
        "# Version 1."
      ]
    },
    {
      "cell_type": "code",
      "metadata": {
        "id": "a8Nh6_Ay_lvH"
      },
      "source": [
        "! pip install pycox"
      ],
      "execution_count": null,
      "outputs": []
    },
    {
      "cell_type": "code",
      "metadata": {
        "id": "IVhckf4fAR3J"
      },
      "source": [
        "import numpy as np\n",
        "import matplotlib.pyplot as plt\n",
        "\n",
        "# For preprocessing\n",
        "import pandas as pd\n",
        "from sklearn.preprocessing import StandardScaler\n",
        "from sklearn_pandas import DataFrameMapper\n",
        "from pycox.datasets import metabric\n",
        "from pycox.models import LogisticHazard\n",
        "import torch # For building the networks \n",
        "import torchtuples as tt # Some useful functions\n",
        "# from pycox.models import PMF\n",
        "# from pycox.models import DeepHitSingle\n",
        "from pycox.evaluation import EvalSurv\n",
        "# We also set some seeds to make this reproducable.\n",
        "# Note that on gpu, there is still some randomness.\n",
        "np.random.seed(1234)\n",
        "_ = torch.manual_seed(123)"
      ],
      "execution_count": null,
      "outputs": []
    },
    {
      "cell_type": "code",
      "metadata": {
        "id": "qfNhgG2kDEoJ"
      },
      "source": [
        "csv = pd.read_csv('/content/hack.csv')"
      ],
      "execution_count": null,
      "outputs": []
    },
    {
      "cell_type": "code",
      "metadata": {
        "id": "su01iaHFERpn"
      },
      "source": [
        "csv"
      ],
      "execution_count": null,
      "outputs": []
    },
    {
      "cell_type": "code",
      "metadata": {
        "colab": {
          "base_uri": "https://localhost:8080/"
        },
        "id": "36lDEo0vEWEf",
        "outputId": "2d9995ca-1381-44c6-e91b-49e3f8b12713"
      },
      "source": [
        "df_untreated_train = csv[csv.Treatment == 0]\n",
        "df_treated_train = csv[csv.Treatment == 1]\n",
        "print(df_untreated_train)\n",
        "print(df_treated_train)"
      ],
      "execution_count": null,
      "outputs": [
        {
          "output_type": "stream",
          "name": "stdout",
          "text": [
            "     G1  G2  G3  G4  G5  G6  ...  Var8  Var9  Var10       time  event  Treatment\n",
            "0     0   1   0   0   0   0  ...     1     0      1  57.448331      1          0\n",
            "1     0   1   0   0   0   0  ...     4     0      1  27.004439      1          0\n",
            "4     0   0   0   0   0   0  ...     3     3      1  44.559284      0          0\n",
            "6     0   0   0   0   0   0  ...     2     6      2  68.660751      1          0\n",
            "10    1   0   0   0   0   0  ...     5     1      3  51.667488      0          0\n",
            "..   ..  ..  ..  ..  ..  ..  ...   ...   ...    ...        ...    ...        ...\n",
            "991   0   0   0   1   0   1  ...     4     4      2  62.919174      1          0\n",
            "993   0   1   1   0   0   0  ...     3     1      1  44.302462      1          0\n",
            "994   0   0   0   0   0   0  ...     4     6      2  19.289036      0          0\n",
            "997   0   1   0   0   0   0  ...     2     0      7  32.736220      1          0\n",
            "998   0   0   0   0   0   0  ...     2     1      3  36.714493      1          0\n",
            "\n",
            "[511 rows x 313 columns]\n",
            "     G1  G2  G3  G4  G5  G6  ...  Var8  Var9  Var10       time  event  Treatment\n",
            "2     0   0   0   0   0   0  ...     2     2      3  43.770511      1          1\n",
            "3     0   0   0   0   0   0  ...     4     5      3  32.281018      1          1\n",
            "5     0   0   0   0   0   0  ...     4     6      1  47.162013      1          1\n",
            "7     0   0   0   1   0   0  ...     1     3      1  53.705056      1          1\n",
            "8     0   0   0   0   0   0  ...     2     2      0  41.222448      1          1\n",
            "..   ..  ..  ..  ..  ..  ..  ...   ...   ...    ...        ...    ...        ...\n",
            "987   0   0   0   0   0   1  ...     1     0      1  85.003376      1          1\n",
            "989   0   0   0   0   0   0  ...     4     3      4  40.108112      1          1\n",
            "992   0   0   0   0   0   0  ...     3     3      4  36.434163      1          1\n",
            "995   0   0   0   0   0   0  ...     1     4      4  66.591235      1          1\n",
            "996   0   0   0   0   0   0  ...     4     2      0  62.986021      0          1\n",
            "\n",
            "[488 rows x 313 columns]\n"
          ]
        }
      ]
    },
    {
      "cell_type": "code",
      "metadata": {
        "id": "1LFl0--kFeEn"
      },
      "source": [
        "df_untreated_test = df_untreated_train.sample(frac=0.2)\n",
        "df_untreated_train = df_untreated_train.drop(df_untreated_test.index)\n",
        "df_untreated_val = df_untreated_train.sample(frac=0.2)\n",
        "df_untreated_train = df_untreated_train.drop(df_untreated_val.index)\n",
        "\n",
        "df_treated_test = df_treated_train.sample(frac=0.2)\n",
        "df_treated_train = df_treated_train.drop(df_treated_test.index)\n",
        "df_treated_val = df_treated_train.sample(frac=0.2)\n",
        "df_treated_train = df_treated_train.drop(df_treated_val.index)"
      ],
      "execution_count": null,
      "outputs": []
    },
    {
      "cell_type": "code",
      "metadata": {
        "colab": {
          "base_uri": "https://localhost:8080/"
        },
        "id": "ZjloghJMrI1i",
        "outputId": "55c82d84-2aee-4918-e238-b7b000d211f0"
      },
      "source": [
        "print(df_untreated_train)"
      ],
      "execution_count": null,
      "outputs": [
        {
          "output_type": "stream",
          "name": "stdout",
          "text": [
            "     G1  G2  G3  G4  G5  G6  ...  Var8  Var9  Var10       time  event  Treatment\n",
            "0     0   1   0   0   0   0  ...     1     0      1  57.448331      1          0\n",
            "1     0   1   0   0   0   0  ...     4     0      1  27.004439      1          0\n",
            "6     0   0   0   0   0   0  ...     2     6      2  68.660751      1          0\n",
            "12    0   0   0   0   0   0  ...     5     0      5  36.172739      1          0\n",
            "20    0   0   0   0   1   0  ...     0     0      1  36.604778      1          0\n",
            "..   ..  ..  ..  ..  ..  ..  ...   ...   ...    ...        ...    ...        ...\n",
            "983   0   0   0   0   0   0  ...     1     1      3  42.732251      1          0\n",
            "984   0   0   0   1   0   0  ...     2     4      1  40.336502      1          0\n",
            "991   0   0   0   1   0   1  ...     4     4      2  62.919174      1          0\n",
            "994   0   0   0   0   0   0  ...     4     6      2  19.289036      0          0\n",
            "997   0   1   0   0   0   0  ...     2     0      7  32.736220      1          0\n",
            "\n",
            "[210 rows x 313 columns]\n"
          ]
        }
      ]
    },
    {
      "cell_type": "code",
      "metadata": {
        "id": "9ts4p8tzrKH5"
      },
      "source": [
        ""
      ],
      "execution_count": null,
      "outputs": []
    },
    {
      "cell_type": "code",
      "metadata": {
        "id": "X9SwheDpG3Ho"
      },
      "source": [
        "cols_standardize = ['Var' + str(i) for i in range(1,11)]\n",
        "cols_leave = ['G' + str(i) for i in range(1,301)]\n",
        "\n",
        "standardize = [([col], StandardScaler()) for col in cols_standardize]\n",
        "leave = [(col, None) for col in cols_leave]\n",
        "\n",
        "x_mapper = DataFrameMapper(standardize + leave)"
      ],
      "execution_count": null,
      "outputs": []
    },
    {
      "cell_type": "code",
      "metadata": {
        "id": "KY0em_S9IXZw"
      },
      "source": [
        "x_untreated_train = x_mapper.fit_transform(df_untreated_train).astype('float32')\n",
        "x_untreated_val = x_mapper.transform(df_untreated_val).astype('float32')\n",
        "x_untreated_test = x_mapper.transform(df_untreated_test).astype('float32')\n",
        "\n",
        "x_treated_train = x_mapper.fit_transform(df_treated_train).astype('float32')\n",
        "x_treated_val = x_mapper.transform(df_treated_val).astype('float32')\n",
        "x_treated_test = x_mapper.transform(df_treated_test).astype('float32')"
      ],
      "execution_count": null,
      "outputs": []
    },
    {
      "cell_type": "code",
      "metadata": {
        "colab": {
          "base_uri": "https://localhost:8080/"
        },
        "id": "EhTSTUCQIUen",
        "outputId": "e5ab63cb-8b0c-4416-b94e-a67d9fa20af7"
      },
      "source": [
        "type(x_untreated_test)"
      ],
      "execution_count": null,
      "outputs": [
        {
          "output_type": "execute_result",
          "data": {
            "text/plain": [
              "numpy.ndarray"
            ]
          },
          "metadata": {},
          "execution_count": 11
        }
      ]
    },
    {
      "cell_type": "markdown",
      "metadata": {
        "id": "E6XwQq4pO_TR"
      },
      "source": [
        "- Duration 가져오는 과정에서 에러 :\n",
        "- TypeError: int() argument must be a string, a bytes-like object or a number, not 'NoneType'\n",
        "- 음수 duration 때문인 것 같아서 제거함.\n"
      ]
    },
    {
      "cell_type": "code",
      "metadata": {
        "id": "xq5YCjGtKb3B"
      },
      "source": [
        "num_durations = 10\n",
        "\n",
        "untreated_labtrans = LogisticHazard.label_transform(num_durations)\n",
        "treated_labtrans = LogisticHazard.label_transform(num_durations)\n",
        "# labtrans = PMF.label_transform(num_durations)\n",
        "# labtrans = DeepHitSingle.label_transform(num_durations)\n",
        "\n",
        "get_target = lambda df: (df['time'].values, df['event'].values)\n",
        "y_untreated_train = untreated_labtrans.fit_transform(*get_target(df_untreated_train))\n",
        "y_untreated_val = untreated_labtrans.transform(*get_target(df_untreated_val))\n",
        "\n",
        "y_treated_train = treated_labtrans.fit_transform(*get_target(df_treated_train))\n",
        "y_treated_val = treated_labtrans.transform(*get_target(df_treated_val))\n",
        "\n",
        "untreated_train = (x_untreated_train, y_untreated_train)\n",
        "untreated_val = (x_untreated_val, y_untreated_val)\n",
        "\n",
        "treated_train = (x_treated_train, y_treated_train)\n",
        "treated_val = (x_treated_val, y_treated_val)\n",
        "\n",
        "# We don't need to transform the test labels\n",
        "# durations_test, events_test = get_target(df_untreated_test)\n",
        "untreated_durations_test, untreated_events_test = get_target(df_untreated_test)\n",
        "treated_durations_test, treated_events_test = get_target(df_treated_test)"
      ],
      "execution_count": null,
      "outputs": []
    },
    {
      "cell_type": "code",
      "metadata": {
        "colab": {
          "base_uri": "https://localhost:8080/"
        },
        "id": "R3zIZUl6YNSR",
        "outputId": "223981e1-3fc3-4461-ba13-81edbd8dabee"
      },
      "source": [
        "print(untreated_labtrans.cuts)\n",
        "print(treated_labtrans.cuts)"
      ],
      "execution_count": null,
      "outputs": [
        {
          "output_type": "stream",
          "name": "stdout",
          "text": [
            "[  0.          12.15911721  24.31823442  36.47735163  48.63646884\n",
            "  60.79558606  72.95470327  85.11382048  97.27293769 109.4320549 ]\n",
            "[  0.          24.11987871  48.23975742  72.35963613  96.47951484\n",
            " 120.59939356 144.71927227 168.83915098 192.95902969 217.0789084 ]\n"
          ]
        }
      ]
    },
    {
      "cell_type": "code",
      "metadata": {
        "colab": {
          "base_uri": "https://localhost:8080/"
        },
        "id": "J2SARo00m1NV",
        "outputId": "94d5caf1-5170-4a3e-b447-5a0423e75a97"
      },
      "source": [
        "print(untreated_labtrans.out_features)"
      ],
      "execution_count": null,
      "outputs": [
        {
          "output_type": "stream",
          "name": "stdout",
          "text": [
            "10\n"
          ]
        }
      ]
    },
    {
      "cell_type": "code",
      "metadata": {
        "id": "X-PmJGUpOpgb"
      },
      "source": [
        "in_features = x_untreated_train.shape[1]\n",
        "num_nodes = [32, 32]\n",
        "out_features = untreated_labtrans.out_features\n",
        "# untreated_out_features = untreated_labtrans.out_features\n",
        "# treated_out_features = treated_labtrans.out_features\n",
        "batch_norm = True\n",
        "dropout = 0.1\n",
        "\n",
        "net = torch.nn.Sequential(\n",
        "    torch.nn.Linear(in_features, 32),\n",
        "    torch.nn.ReLU(),\n",
        "    torch.nn.BatchNorm1d(32),\n",
        "    torch.nn.Dropout(0.1),\n",
        "    \n",
        "    torch.nn.Linear(32, 32),\n",
        "    torch.nn.ReLU(),\n",
        "    torch.nn.BatchNorm1d(32),\n",
        "    torch.nn.Dropout(0.1),\n",
        "    \n",
        "    torch.nn.Linear(32, out_features)\n",
        ")\n",
        "\n",
        "# treated_net = torch.nn.Sequential(\n",
        "#     torch.nn.Linear(in_features, 32),\n",
        "#     torch.nn.ReLU(),\n",
        "#     torch.nn.BatchNorm1d(32),\n",
        "#     torch.nn.Dropout(0.1),\n",
        "    \n",
        "#     torch.nn.Linear(32, 32),\n",
        "#     torch.nn.ReLU(),\n",
        "#     torch.nn.BatchNorm1d(32),\n",
        "#     torch.nn.Dropout(0.1),\n",
        "    \n",
        "#     torch.nn.Linear(32, treated_out_features)\n",
        "# )"
      ],
      "execution_count": null,
      "outputs": []
    },
    {
      "cell_type": "code",
      "metadata": {
        "id": "JdXGxLDKPyL6"
      },
      "source": [
        "untreated_model = LogisticHazard(net, tt.optim.Adam(0.01), duration_index=untreated_labtrans.cuts)\n",
        "# model = PMF(net, tt.optim.Adam(0.01), duration_index=labtrans.cuts)\n",
        "# model = DeepHitSingle(net, tt.optim.Adam(0.01), duration_index=labtrans.cuts)"
      ],
      "execution_count": null,
      "outputs": []
    },
    {
      "cell_type": "code",
      "metadata": {
        "id": "qmtme2kCPuY6"
      },
      "source": [
        "batch_size = 256\n",
        "epochs = 100\n",
        "callbacks = [tt.cb.EarlyStopping()]"
      ],
      "execution_count": null,
      "outputs": []
    },
    {
      "cell_type": "code",
      "metadata": {
        "colab": {
          "base_uri": "https://localhost:8080/"
        },
        "id": "ZSQv4HG1Pi_a",
        "outputId": "61df2e14-fe09-49c8-cbaf-ac5516f10093"
      },
      "source": [
        "untreated_log = untreated_model.fit(x_untreated_train, y_untreated_train, batch_size, epochs, callbacks, val_data=untreated_val)"
      ],
      "execution_count": null,
      "outputs": [
        {
          "output_type": "stream",
          "name": "stdout",
          "text": [
            "0:\t[0s / 0s],\t\ttrain_loss: 4.1135,\tval_loss: 8.5979\n",
            "1:\t[0s / 0s],\t\ttrain_loss: 3.3400,\tval_loss: 7.8264\n",
            "2:\t[0s / 0s],\t\ttrain_loss: 2.5323,\tval_loss: 7.1825\n",
            "3:\t[0s / 0s],\t\ttrain_loss: 2.4904,\tval_loss: 6.6124\n",
            "4:\t[0s / 0s],\t\ttrain_loss: 1.5188,\tval_loss: 6.1180\n",
            "5:\t[0s / 0s],\t\ttrain_loss: 1.3304,\tval_loss: 5.6960\n",
            "6:\t[0s / 0s],\t\ttrain_loss: 1.1220,\tval_loss: 5.3521\n",
            "7:\t[0s / 0s],\t\ttrain_loss: 0.8482,\tval_loss: 5.0396\n",
            "8:\t[0s / 0s],\t\ttrain_loss: 0.7003,\tval_loss: 4.7858\n",
            "9:\t[0s / 0s],\t\ttrain_loss: 0.5524,\tval_loss: 4.5800\n",
            "10:\t[0s / 0s],\t\ttrain_loss: 0.4921,\tval_loss: 4.4149\n",
            "11:\t[0s / 0s],\t\ttrain_loss: 0.5428,\tval_loss: 4.2805\n",
            "12:\t[0s / 0s],\t\ttrain_loss: 0.2321,\tval_loss: 4.1717\n",
            "13:\t[0s / 0s],\t\ttrain_loss: 0.2769,\tval_loss: 4.0831\n",
            "14:\t[0s / 0s],\t\ttrain_loss: 0.2525,\tval_loss: 4.0003\n",
            "15:\t[0s / 0s],\t\ttrain_loss: 0.3808,\tval_loss: 3.9402\n",
            "16:\t[0s / 0s],\t\ttrain_loss: 0.0973,\tval_loss: 3.8942\n",
            "17:\t[0s / 0s],\t\ttrain_loss: 0.1022,\tval_loss: 3.8477\n",
            "18:\t[0s / 0s],\t\ttrain_loss: 0.1269,\tval_loss: 3.8118\n",
            "19:\t[0s / 0s],\t\ttrain_loss: 0.1586,\tval_loss: 3.7824\n",
            "20:\t[0s / 0s],\t\ttrain_loss: 0.1112,\tval_loss: 3.7582\n",
            "21:\t[0s / 0s],\t\ttrain_loss: 0.1028,\tval_loss: 3.7409\n",
            "22:\t[0s / 0s],\t\ttrain_loss: 0.0727,\tval_loss: 3.7153\n",
            "23:\t[0s / 0s],\t\ttrain_loss: 0.1017,\tval_loss: 3.7006\n",
            "24:\t[0s / 0s],\t\ttrain_loss: 0.0449,\tval_loss: 3.6877\n",
            "25:\t[0s / 0s],\t\ttrain_loss: 0.1041,\tval_loss: 3.6811\n",
            "26:\t[0s / 0s],\t\ttrain_loss: 0.0554,\tval_loss: 3.6676\n",
            "27:\t[0s / 0s],\t\ttrain_loss: 0.0508,\tval_loss: 3.6650\n",
            "28:\t[0s / 0s],\t\ttrain_loss: 0.0401,\tval_loss: 3.6585\n",
            "29:\t[0s / 0s],\t\ttrain_loss: 0.0320,\tval_loss: 3.6534\n",
            "30:\t[0s / 0s],\t\ttrain_loss: 0.0631,\tval_loss: 3.6536\n",
            "31:\t[0s / 0s],\t\ttrain_loss: 0.0180,\tval_loss: 3.6508\n",
            "32:\t[0s / 0s],\t\ttrain_loss: 0.0307,\tval_loss: 3.6569\n",
            "33:\t[0s / 0s],\t\ttrain_loss: 0.0084,\tval_loss: 3.6578\n",
            "34:\t[0s / 0s],\t\ttrain_loss: 0.0533,\tval_loss: 3.6588\n",
            "35:\t[0s / 0s],\t\ttrain_loss: 0.0077,\tval_loss: 3.6613\n",
            "36:\t[0s / 0s],\t\ttrain_loss: 0.0414,\tval_loss: 3.6627\n",
            "37:\t[0s / 0s],\t\ttrain_loss: 0.0088,\tval_loss: 3.6684\n",
            "38:\t[0s / 0s],\t\ttrain_loss: 0.0324,\tval_loss: 3.6604\n",
            "39:\t[0s / 0s],\t\ttrain_loss: 0.0263,\tval_loss: 3.6551\n",
            "40:\t[0s / 0s],\t\ttrain_loss: 0.0278,\tval_loss: 3.6505\n",
            "41:\t[0s / 0s],\t\ttrain_loss: 0.0354,\tval_loss: 3.6482\n",
            "42:\t[0s / 0s],\t\ttrain_loss: 0.0221,\tval_loss: 3.6446\n",
            "43:\t[0s / 0s],\t\ttrain_loss: 0.0139,\tval_loss: 3.6413\n",
            "44:\t[0s / 0s],\t\ttrain_loss: 0.0263,\tval_loss: 3.6389\n",
            "45:\t[0s / 0s],\t\ttrain_loss: 0.0064,\tval_loss: 3.6374\n",
            "46:\t[0s / 0s],\t\ttrain_loss: 0.0097,\tval_loss: 3.6388\n",
            "47:\t[0s / 0s],\t\ttrain_loss: 0.0219,\tval_loss: 3.6357\n",
            "48:\t[0s / 0s],\t\ttrain_loss: 0.0142,\tval_loss: 3.6332\n",
            "49:\t[0s / 0s],\t\ttrain_loss: 0.0164,\tval_loss: 3.6269\n",
            "50:\t[0s / 0s],\t\ttrain_loss: 0.0079,\tval_loss: 3.6256\n",
            "51:\t[0s / 0s],\t\ttrain_loss: 0.0069,\tval_loss: 3.6310\n",
            "52:\t[0s / 0s],\t\ttrain_loss: 0.0221,\tval_loss: 3.6350\n",
            "53:\t[0s / 0s],\t\ttrain_loss: 0.0082,\tval_loss: 3.6347\n",
            "54:\t[0s / 0s],\t\ttrain_loss: 0.0078,\tval_loss: 3.6309\n",
            "55:\t[0s / 0s],\t\ttrain_loss: 0.0255,\tval_loss: 3.6340\n",
            "56:\t[0s / 0s],\t\ttrain_loss: 0.0031,\tval_loss: 3.6344\n",
            "57:\t[0s / 0s],\t\ttrain_loss: 0.0046,\tval_loss: 3.6371\n",
            "58:\t[0s / 0s],\t\ttrain_loss: 0.0284,\tval_loss: 3.6353\n",
            "59:\t[0s / 0s],\t\ttrain_loss: 0.0045,\tval_loss: 3.6380\n",
            "60:\t[0s / 0s],\t\ttrain_loss: 0.0259,\tval_loss: 3.6366\n"
          ]
        }
      ]
    },
    {
      "cell_type": "code",
      "metadata": {
        "id": "nVP3vgGkVxfR"
      },
      "source": [
        "treated_model = LogisticHazard(net, tt.optim.Adam(0.01), duration_index=treated_labtrans.cuts)"
      ],
      "execution_count": null,
      "outputs": []
    },
    {
      "cell_type": "code",
      "metadata": {
        "colab": {
          "base_uri": "https://localhost:8080/"
        },
        "id": "ai9XAFYBUMlR",
        "outputId": "915577da-5afd-4107-bf60-1f7fac04f6b8"
      },
      "source": [
        "treated_log = treated_model.fit(x_treated_train, y_treated_train, batch_size, epochs, callbacks, val_data=treated_val)"
      ],
      "execution_count": null,
      "outputs": [
        {
          "output_type": "stream",
          "name": "stdout",
          "text": [
            "0:\t[0s / 0s],\t\ttrain_loss: 5.0018,\tval_loss: 5.6559\n"
          ]
        }
      ]
    },
    {
      "cell_type": "code",
      "metadata": {
        "colab": {
          "base_uri": "https://localhost:8080/",
          "height": 283
        },
        "id": "gvoGB1StQyf7",
        "outputId": "8c1e0cfe-dc8a-4704-d0de-2d3a534eeff0"
      },
      "source": [
        "untreated_log.plot()"
      ],
      "execution_count": null,
      "outputs": [
        {
          "output_type": "execute_result",
          "data": {
            "text/plain": [
              "<matplotlib.axes._subplots.AxesSubplot at 0x7f716be5e510>"
            ]
          },
          "metadata": {},
          "execution_count": 274
        },
        {
          "output_type": "display_data",
          "data": {
            "image/png": "[encoded data removed]",
            "text/plain": [
              "<Figure size 432x288 with 1 Axes>"
            ]
          },
          "metadata": {
            "needs_background": "light"
          }
        }
      ]
    },
    {
      "cell_type": "code",
      "metadata": {
        "colab": {
          "base_uri": "https://localhost:8080/",
          "height": 283
        },
        "id": "ocKBE5NJVcmx",
        "outputId": "7f1e2308-0091-435c-fb01-d3b232e7a8e2"
      },
      "source": [
        "treated_log.plot()"
      ],
      "execution_count": null,
      "outputs": [
        {
          "output_type": "execute_result",
          "data": {
            "text/plain": [
              "<matplotlib.axes._subplots.AxesSubplot at 0x7f716ba5d810>"
            ]
          },
          "metadata": {},
          "execution_count": 275
        },
        {
          "output_type": "display_data",
          "data": {
            "image/png": "[encoded data removed]",
            "text/plain": [
              "<Figure size 432x288 with 1 Axes>"
            ]
          },
          "metadata": {
            "needs_background": "light"
          }
        }
      ]
    },
    {
      "cell_type": "code",
      "metadata": {
        "colab": {
          "base_uri": "https://localhost:8080/"
        },
        "id": "e022JumXOG0x",
        "outputId": "bd47e59d-612f-41c0-d4a0-98608cbcfd3b"
      },
      "source": [
        "log.to_pandas().val_loss.min()"
      ],
      "execution_count": null,
      "outputs": [
        {
          "output_type": "execute_result",
          "data": {
            "text/plain": [
              "2.591615915298462"
            ]
          },
          "metadata": {},
          "execution_count": 43
        }
      ]
    },
    {
      "cell_type": "code",
      "metadata": {
        "colab": {
          "base_uri": "https://localhost:8080/"
        },
        "id": "RhGle86YNtVC",
        "outputId": "c74221df-44e0-45a6-d5f8-c5bd8732d89d"
      },
      "source": [
        "model.score_in_batches(untreated_val)"
      ],
      "execution_count": null,
      "outputs": [
        {
          "output_type": "execute_result",
          "data": {
            "text/plain": [
              "{'loss': 2.591615915298462}"
            ]
          },
          "metadata": {},
          "execution_count": 45
        }
      ]
    },
    {
      "cell_type": "code",
      "metadata": {
        "id": "jYXuqH6THtEg"
      },
      "source": [
        "surv = model.predict_surv_df(x_untreated_test)"
      ],
      "execution_count": null,
      "outputs": []
    },
    {
      "cell_type": "code",
      "metadata": {
        "id": "I5K0bUgYrRnZ"
      },
      "source": [
        ""
      ],
      "execution_count": null,
      "outputs": []
    },
    {
      "cell_type": "code",
      "metadata": {
        "colab": {
          "base_uri": "https://localhost:8080/",
          "height": 279
        },
        "id": "RuJuVsQwHq1I",
        "outputId": "7ac2d4d8-5e30-4e4c-b146-a9be77daeb7b"
      },
      "source": [
        "surv.iloc[:, :5].plot(drawstyle='steps-post')\n",
        "plt.ylabel('S(t | x)')\n",
        "_ = plt.xlabel('Time')"
      ],
      "execution_count": null,
      "outputs": [
        {
          "output_type": "display_data",
          "data": {
            "image/png": "[encoded data removed]",
            "text/plain": [
              "<Figure size 432x288 with 1 Axes>"
            ]
          },
          "metadata": {
            "needs_background": "light"
          }
        }
      ]
    },
    {
      "cell_type": "code",
      "metadata": {
        "id": "eJs2w9ESSwW7"
      },
      "source": [
        ""
      ],
      "execution_count": null,
      "outputs": []
    },
    {
      "cell_type": "code",
      "metadata": {
        "id": "bU5HW-S_HZev"
      },
      "source": [
        "surv = model.interpolate(10).predict_surv_df(x_untreated_test)"
      ],
      "execution_count": null,
      "outputs": []
    },
    {
      "cell_type": "code",
      "metadata": {
        "id": "iP_RG9ujrdS9"
      },
      "source": [
        "surv = model.predict_surv_df(x_untreated_train)"
      ],
      "execution_count": null,
      "outputs": []
    },
    {
      "cell_type": "code",
      "metadata": {
        "colab": {
          "base_uri": "https://localhost:8080/"
        },
        "id": "20J2D1P2rhK-",
        "outputId": "827f8d01-0a73-46db-8bda-b14b8f2b4405"
      },
      "source": [
        "print(surv)"
      ],
      "execution_count": null,
      "outputs": [
        {
          "output_type": "stream",
          "name": "stdout",
          "text": [
            "                 0             1         2    ...       207       208           209\n",
            "0.000000    0.999683  9.998693e-01  0.998708  ...  0.998881  0.999470  9.995924e-01\n",
            "24.119879   0.998431  9.996136e-01  0.997678  ...  0.996550  0.997853  9.995758e-01\n",
            "48.239757   0.998165  9.964609e-01  0.997324  ...  0.995537  0.995668  9.336098e-01\n",
            "72.359636   0.997660  2.114598e-02  0.997311  ...  0.993439  0.776067  9.336097e-08\n",
            "96.479515   0.997382  1.523528e-04  0.997311  ...  0.993436  0.069130  9.336118e-15\n",
            "120.599394  0.080730  4.739781e-06  0.997290  ...  0.638343  0.004124  8.250633e-16\n",
            "144.719272  0.042916  3.781028e-06  0.668582  ...  0.451264  0.000352  8.250382e-16\n",
            "168.839151  0.022694  1.883523e-06  0.667447  ...  0.415063  0.000253  1.162625e-16\n",
            "192.959030  0.006923  4.561442e-08  0.035056  ...  0.099532  0.000019  3.527870e-19\n",
            "217.078908  0.000039  1.832289e-08  0.000016  ...  0.000568  0.000003  3.527803e-19\n",
            "\n",
            "[10 rows x 210 columns]\n"
          ]
        }
      ]
    },
    {
      "cell_type": "code",
      "metadata": {
        "colab": {
          "base_uri": "https://localhost:8080/",
          "height": 279
        },
        "id": "2DCTg8reSQOy",
        "outputId": "a1d432bb-ffea-4f90-c415-0513cc776699"
      },
      "source": [
        "surv.iloc[:, 205:].plot(drawstyle='steps-post')\n",
        "plt.ylabel('S(t | x)')\n",
        "_ = plt.xlabel('Time')"
      ],
      "execution_count": null,
      "outputs": [
        {
          "output_type": "display_data",
          "data": {
            "image/png": "[encoded data removed]",
            "text/plain": [
              "<Figure size 432x288 with 1 Axes>"
            ]
          },
          "metadata": {
            "needs_background": "light"
          }
        }
      ]
    },
    {
      "cell_type": "code",
      "metadata": {
        "id": "B7TCk4g2SYcz"
      },
      "source": [
        "ev = EvalSurv(surv, durations_test, events_test, censor_surv='km')"
      ],
      "execution_count": null,
      "outputs": []
    },
    {
      "cell_type": "code",
      "metadata": {
        "colab": {
          "base_uri": "https://localhost:8080/",
          "height": 335
        },
        "id": "uiEV7DCxSdMG",
        "outputId": "9d99383c-4f25-449d-ed11-673c163c1b90"
      },
      "source": [
        "time_grid = np.linspace(durations_test.min(), durations_test.max(), 100)\n",
        "ev.brier_score(time_grid).plot()\n",
        "plt.ylabel('Brier score')\n",
        "_ = plt.xlabel('Time')"
      ],
      "execution_count": null,
      "outputs": [
        {
          "output_type": "stream",
          "name": "stderr",
          "text": [
            "/usr/local/lib/python3.7/dist-packages/numba/np/ufunc/parallel.py:363: NumbaWarning: The TBB threading layer requires TBB version 2019.5 or later i.e., TBB_INTERFACE_VERSION >= 11005. Found TBB_INTERFACE_VERSION = 9107. The TBB threading layer is disabled.\n",
            "  warnings.warn(problem)\n"
          ]
        },
        {
          "output_type": "display_data",
          "data": {
            "image/png": "[encoded data removed]",
            "text/plain": [
              "<Figure size 432x288 with 1 Axes>"
            ]
          },
          "metadata": {
            "needs_background": "light"
          }
        }
      ]
    }
  ]
}