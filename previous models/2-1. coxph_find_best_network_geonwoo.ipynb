{
  "nbformat": 4,
  "nbformat_minor": 0,
  "metadata": {
    "colab": {
      "name": "coxph-find-best-network.ipynb",
      "provenance": [],
      "collapsed_sections": [],
      "include_colab_link": true
    },
    "kernelspec": {
      "name": "python3",
      "display_name": "Python 3"
    },
    "language_info": {
      "name": "python"
    }
  },
  "cells": [
    {
      "cell_type": "markdown",
      "metadata": {
        "id": "view-in-github",
        "colab_type": "text"
      },
      "source": [
        "<a href=\"https://colab.research.google.com/github/mostly-sunny/digital-health-hackathon/blob/main/Geonwoo's%20version.ipynb\" target=\"_parent\"><img src=\"https://colab.research.google.com/assets/colab-badge.svg\" alt=\"Open In Colab\"/></a>"
      ]
    },
    {
      "cell_type": "markdown",
      "metadata": {
        "id": "L91UX-HYY5Qr"
      },
      "source": [
        "# Pycox - CoxPH Model\n",
        "- Network : Test with sets, and find best network and lr by lowest brier score\n",
        "- Input Variables : G1 ~ G300, Var1 ~ Var10, Treatment\n",
        "- Output Variables : time, event\n",
        "- Scaler : MinMaxScaler -> Var1 ~ Var10\n",
        "\n"
      ]
    },
    {
      "cell_type": "code",
      "metadata": {
        "id": "vlcJyLq91wdA",
        "colab": {
          "base_uri": "https://localhost:8080/"
        },
        "outputId": "1226a1bf-1169-46ad-c72b-f8486d8c233e"
      },
      "source": [
        "pip install pycox"
      ],
      "execution_count": 31,
      "outputs": [
        {
          "output_type": "stream",
          "name": "stdout",
          "text": [
            "Requirement already satisfied: pycox in /usr/local/lib/python3.7/dist-packages (0.2.2)\n",
            "Requirement already satisfied: h5py>=2.9.0 in /usr/local/lib/python3.7/dist-packages (from pycox) (3.1.0)\n",
            "Requirement already satisfied: feather-format>=0.4.0 in /usr/local/lib/python3.7/dist-packages (from pycox) (0.4.1)\n",
            "Requirement already satisfied: torchtuples>=0.2.0 in /usr/local/lib/python3.7/dist-packages (from pycox) (0.2.2)\n",
            "Requirement already satisfied: numba>=0.44 in /usr/local/lib/python3.7/dist-packages (from pycox) (0.51.2)\n",
            "Requirement already satisfied: requests>=2.22.0 in /usr/local/lib/python3.7/dist-packages (from pycox) (2.23.0)\n",
            "Requirement already satisfied: py7zr>=0.11.3 in /usr/local/lib/python3.7/dist-packages (from pycox) (0.16.1)\n",
            "Requirement already satisfied: scikit-learn>=0.21.2 in /usr/local/lib/python3.7/dist-packages (from pycox) (0.22.2.post1)\n",
            "Requirement already satisfied: pyarrow>=0.4.0 in /usr/local/lib/python3.7/dist-packages (from feather-format>=0.4.0->pycox) (3.0.0)\n",
            "Requirement already satisfied: cached-property in /usr/local/lib/python3.7/dist-packages (from h5py>=2.9.0->pycox) (1.5.2)\n",
            "Requirement already satisfied: numpy>=1.14.5 in /usr/local/lib/python3.7/dist-packages (from h5py>=2.9.0->pycox) (1.19.5)\n",
            "Requirement already satisfied: setuptools in /usr/local/lib/python3.7/dist-packages (from numba>=0.44->pycox) (57.4.0)\n",
            "Requirement already satisfied: llvmlite<0.35,>=0.34.0.dev0 in /usr/local/lib/python3.7/dist-packages (from numba>=0.44->pycox) (0.34.0)\n",
            "Requirement already satisfied: importlib-metadata in /usr/local/lib/python3.7/dist-packages (from py7zr>=0.11.3->pycox) (4.8.1)\n",
            "Requirement already satisfied: texttable in /usr/local/lib/python3.7/dist-packages (from py7zr>=0.11.3->pycox) (1.6.4)\n",
            "Requirement already satisfied: multivolumefile>=0.2.3 in /usr/local/lib/python3.7/dist-packages (from py7zr>=0.11.3->pycox) (0.2.3)\n",
            "Requirement already satisfied: bcj-cffi<0.6.0,>=0.5.1 in /usr/local/lib/python3.7/dist-packages (from py7zr>=0.11.3->pycox) (0.5.1)\n",
            "Requirement already satisfied: pyzstd<0.15.0,>=0.14.4 in /usr/local/lib/python3.7/dist-packages (from py7zr>=0.11.3->pycox) (0.14.4)\n",
            "Requirement already satisfied: pyppmd>=0.14.0 in /usr/local/lib/python3.7/dist-packages (from py7zr>=0.11.3->pycox) (0.17.0)\n",
            "Requirement already satisfied: brotli>=1.0.9 in /usr/local/lib/python3.7/dist-packages (from py7zr>=0.11.3->pycox) (1.0.9)\n",
            "Requirement already satisfied: pycryptodomex>=3.6.6 in /usr/local/lib/python3.7/dist-packages (from py7zr>=0.11.3->pycox) (3.10.4)\n",
            "Requirement already satisfied: cffi>=1.14.0 in /usr/local/lib/python3.7/dist-packages (from bcj-cffi<0.6.0,>=0.5.1->py7zr>=0.11.3->pycox) (1.14.6)\n",
            "Requirement already satisfied: pycparser in /usr/local/lib/python3.7/dist-packages (from cffi>=1.14.0->bcj-cffi<0.6.0,>=0.5.1->py7zr>=0.11.3->pycox) (2.20)\n",
            "Requirement already satisfied: idna<3,>=2.5 in /usr/local/lib/python3.7/dist-packages (from requests>=2.22.0->pycox) (2.10)\n",
            "Requirement already satisfied: certifi>=2017.4.17 in /usr/local/lib/python3.7/dist-packages (from requests>=2.22.0->pycox) (2021.5.30)\n",
            "Requirement already satisfied: urllib3!=1.25.0,!=1.25.1,<1.26,>=1.21.1 in /usr/local/lib/python3.7/dist-packages (from requests>=2.22.0->pycox) (1.24.3)\n",
            "Requirement already satisfied: chardet<4,>=3.0.2 in /usr/local/lib/python3.7/dist-packages (from requests>=2.22.0->pycox) (3.0.4)\n",
            "Requirement already satisfied: joblib>=0.11 in /usr/local/lib/python3.7/dist-packages (from scikit-learn>=0.21.2->pycox) (1.0.1)\n",
            "Requirement already satisfied: scipy>=0.17.0 in /usr/local/lib/python3.7/dist-packages (from scikit-learn>=0.21.2->pycox) (1.4.1)\n",
            "Requirement already satisfied: matplotlib>=3.0.3 in /usr/local/lib/python3.7/dist-packages (from torchtuples>=0.2.0->pycox) (3.2.2)\n",
            "Requirement already satisfied: pandas>=0.24.2 in /usr/local/lib/python3.7/dist-packages (from torchtuples>=0.2.0->pycox) (1.1.5)\n",
            "Requirement already satisfied: cycler>=0.10 in /usr/local/lib/python3.7/dist-packages (from matplotlib>=3.0.3->torchtuples>=0.2.0->pycox) (0.10.0)\n",
            "Requirement already satisfied: kiwisolver>=1.0.1 in /usr/local/lib/python3.7/dist-packages (from matplotlib>=3.0.3->torchtuples>=0.2.0->pycox) (1.3.2)\n",
            "Requirement already satisfied: pyparsing!=2.0.4,!=2.1.2,!=2.1.6,>=2.0.1 in /usr/local/lib/python3.7/dist-packages (from matplotlib>=3.0.3->torchtuples>=0.2.0->pycox) (2.4.7)\n",
            "Requirement already satisfied: python-dateutil>=2.1 in /usr/local/lib/python3.7/dist-packages (from matplotlib>=3.0.3->torchtuples>=0.2.0->pycox) (2.8.2)\n",
            "Requirement already satisfied: six in /usr/local/lib/python3.7/dist-packages (from cycler>=0.10->matplotlib>=3.0.3->torchtuples>=0.2.0->pycox) (1.15.0)\n",
            "Requirement already satisfied: pytz>=2017.2 in /usr/local/lib/python3.7/dist-packages (from pandas>=0.24.2->torchtuples>=0.2.0->pycox) (2018.9)\n",
            "Requirement already satisfied: zipp>=0.5 in /usr/local/lib/python3.7/dist-packages (from importlib-metadata->py7zr>=0.11.3->pycox) (3.5.0)\n",
            "Requirement already satisfied: typing-extensions>=3.6.4 in /usr/local/lib/python3.7/dist-packages (from importlib-metadata->py7zr>=0.11.3->pycox) (3.7.4.3)\n"
          ]
        }
      ]
    },
    {
      "cell_type": "code",
      "metadata": {
        "id": "8j42Q8682S-J"
      },
      "source": [
        "import numpy as np\n",
        "import matplotlib.pyplot as plt\n",
        "from sklearn.preprocessing import StandardScaler\n",
        "from sklearn.preprocessing import MinMaxScaler\n",
        "from sklearn_pandas import DataFrameMapper\n",
        "import pandas as pd\n",
        "\n",
        "import torch\n",
        "import torchtuples as tt\n",
        "\n",
        "from pycox.models import CoxPH\n",
        "from pycox.evaluation import EvalSurv"
      ],
      "execution_count": 32,
      "outputs": []
    },
    {
      "cell_type": "code",
      "metadata": {
        "id": "lgHuZOMr6wdT"
      },
      "source": [
        "np.random.seed(123456)\n",
        "_ = torch.manual_seed(123456)"
      ],
      "execution_count": 33,
      "outputs": []
    },
    {
      "cell_type": "markdown",
      "metadata": {
        "id": "zOyFOsuvkXqN"
      },
      "source": [
        "- all-in-one.csv 파일은 유전자 변이 유무, 임상 변수, 생존 기간, 사망 여부, 치료 유무가 열로 존재하는 파일\n",
        "- test-data-treat-and-untreat.csv 파일은 all-in-one의 열은 같은 602개의 데이터.\n",
        "  - (0번째 행) : 유전자 변이 모두 0, 치료 0\n",
        "  - (1번째 행) : 유전자 변이 모두 0, 치료 1\n",
        "  - (2~301번째 행) : 유전자 변이 n-1에만 1, 치료 0\n",
        "  - (302~601번재 행) : 유전자 변이 n-301에만 1, 치료 1\n",
        "- pandas 라이브러리에 있는 csv 파일을 DataFrame으로 바꾸어주는 read_csv 함수를 이용하여 파일을 읽어 들임.\n",
        "- DataFrame은 표를 나타내는 데이터 타입임."
      ]
    },
    {
      "cell_type": "code",
      "metadata": {
        "id": "x3Ww7lpV2Uor"
      },
      "source": [
        "dataset = pd.read_csv('/content/all-in-one.csv')\n",
        "dataset_for_hr = pd.read_csv('/content/test-data-treat-and-untreat.csv')"
      ],
      "execution_count": 34,
      "outputs": []
    },
    {
      "cell_type": "markdown",
      "metadata": {
        "id": "twdq_J1Ym9gf"
      },
      "source": [
        "- 위에서 읽어들인 dataset 중에서 20%는 검증(_val -> validation)을 위해 sampling 한다.\n",
        "- 남은 80%의 데이터에서도 20%는 테스트(_test)를 위해 sampling 한다."
      ]
    },
    {
      "cell_type": "code",
      "metadata": {
        "id": "z4vLVwYM24xW"
      },
      "source": [
        "dataset_val = dataset.sample(frac=0.3)\n",
        "dataset_train = dataset.drop(dataset_val.index)\n",
        "dataset_test = dataset_train.sample(frac=0.3)\n",
        "dataset_train = dataset_train.drop(dataset_test.index)"
      ],
      "execution_count": 35,
      "outputs": []
    },
    {
      "cell_type": "markdown",
      "metadata": {
        "id": "UX1Ddl463deJ"
      },
      "source": [
        "- columns_standardize : 임상변수 - 0~9사이의 값을 표준화\n",
        "- columns_leave : 유전자 변이 유무 + 치료 유무 - 0과 1로 표현돼 있기 때문에 표준화 필요 없음.\n",
        "- DataFrameMapper는 pandas DataFrame에서 원하는 열을 뽑아서 리스트로 만들어줌.\n",
        "- 리스트로 만들때 StandardScaler()가 포함된 열은 표준화를 시킨 뒤, 그리고 None이면 갖고 있는 값을 그대로 넣음."
      ]
    },
    {
      "cell_type": "code",
      "metadata": {
        "id": "LHBg3yDH3Xzf"
      },
      "source": [
        "columns_standardize = ['Var' + str(i) for i in range(1,11)]\n",
        "columns_leave = ['G' + str(i) for i in range(1,301)]\n",
        "columns_leave += ['Treatment']\n",
        "\n",
        "# standardize = [([col], StandardScaler()) for col in columns_standardize]\n",
        "standardize = [([col], MinMaxScaler()) for col in columns_standardize]\n",
        "\n",
        "leave = [(col, None) for col in columns_leave]\n",
        "\n",
        "x_mapper = DataFrameMapper(leave + standardize)"
      ],
      "execution_count": 36,
      "outputs": []
    },
    {
      "cell_type": "markdown",
      "metadata": {
        "id": "RZHTUBBSmWTc"
      },
      "source": [
        "- 위에서 만든 DataFrameMapper로 DataFrame 중 x(입력) 데이터를 모델이 학습할 수 있게끔 리스트 형식으로 바꾸어 준다.\n",
        "\n"
      ]
    },
    {
      "cell_type": "code",
      "metadata": {
        "id": "o4UrVswf3phZ"
      },
      "source": [
        "x_train = x_mapper.fit_transform(dataset_train).astype('float32')\n",
        "x_val = x_mapper.transform(dataset_val).astype('float32')\n",
        "x_test = x_mapper.transform(dataset_test).astype('float32')\n",
        "x_for_hr = x_mapper.transform(dataset_for_hr).astype('float32')"
      ],
      "execution_count": 37,
      "outputs": []
    },
    {
      "cell_type": "markdown",
      "metadata": {
        "id": "W4PCVeJGmx21"
      },
      "source": [
        "- DataFrame (표)에서 Y(출력)데이터인 time(생존기간)과 event(사망여부)를 뽑아 출력 데이터를 추린다.\n",
        "- 검증(Validation)을 위한 입력-출력 세트 val을 만든다."
      ]
    },
    {
      "cell_type": "code",
      "metadata": {
        "id": "UGTF5V3y4Yot"
      },
      "source": [
        "get_target = lambda df: (df['time'].values, df['event'].values)\n",
        "y_train = get_target(dataset_train)\n",
        "y_val = get_target(dataset_val)\n",
        "\n",
        "durations_test, events_test = get_target(dataset_test)\n",
        "val = x_val, y_val"
      ],
      "execution_count": 38,
      "outputs": []
    },
    {
      "cell_type": "markdown",
      "metadata": {
        "id": "J-rPa9mWn1I4"
      },
      "source": [
        "함수 make_net : network을 생성해 리턴하는 함수\n",
        "- input과 output의 노드 수, 은닉층 수, 은닉층의 노드 수 설정 가능"
      ]
    },
    {
      "cell_type": "code",
      "metadata": {
        "id": "Eauwa8i6iGmN"
      },
      "source": [
        "def make_net(in_features, out_features, hidden, nodes):\n",
        "  if hidden == 1:\n",
        "    network =  torch.nn.Sequential(\n",
        "      torch.nn.Linear(in_features, nodes),\n",
        "      torch.nn.ReLU(),\n",
        "      torch.nn.BatchNorm1d(nodes),\n",
        "      torch.nn.Dropout(0.1),\n",
        "            \n",
        "      torch.nn.Linear(nodes, out_features)\n",
        "    )\n",
        "  elif hidden == 2:\n",
        "    network =  torch.nn.Sequential(\n",
        "      torch.nn.Linear(in_features, nodes),\n",
        "      torch.nn.ReLU(),\n",
        "      torch.nn.BatchNorm1d(nodes),\n",
        "      torch.nn.Dropout(0.1),\n",
        "\n",
        "      torch.nn.Linear(nodes, nodes),\n",
        "      torch.nn.ReLU(),\n",
        "      torch.nn.BatchNorm1d(nodes),\n",
        "      torch.nn.Dropout(0.1),\n",
        "            \n",
        "      torch.nn.Linear(nodes, out_features)\n",
        "    )\n",
        "  elif hidden == 3:\n",
        "    network =  torch.nn.Sequential(\n",
        "      torch.nn.Linear(in_features, nodes),\n",
        "      torch.nn.ReLU(),\n",
        "      torch.nn.BatchNorm1d(nodes),\n",
        "      torch.nn.Dropout(0.1),\n",
        "\n",
        "      torch.nn.Linear(nodes, nodes),\n",
        "      torch.nn.ReLU(),\n",
        "      torch.nn.BatchNorm1d(nodes),\n",
        "      torch.nn.Dropout(0.1),\n",
        "\n",
        "      torch.nn.Linear(nodes, nodes),\n",
        "      torch.nn.ReLU(),\n",
        "      torch.nn.BatchNorm1d(nodes),\n",
        "      torch.nn.Dropout(0.1),\n",
        "            \n",
        "      torch.nn.Linear(nodes, out_features)\n",
        "    )\n",
        "  elif hidden == 4:\n",
        "    network =  torch.nn.Sequential(\n",
        "      torch.nn.Linear(in_features, nodes),\n",
        "      torch.nn.ReLU(),\n",
        "      torch.nn.BatchNorm1d(nodes),\n",
        "      torch.nn.Dropout(0.1),\n",
        "\n",
        "      torch.nn.Linear(nodes, nodes),\n",
        "      torch.nn.ReLU(),\n",
        "      torch.nn.BatchNorm1d(nodes),\n",
        "      torch.nn.Dropout(0.1),\n",
        "\n",
        "      torch.nn.Linear(nodes, nodes),\n",
        "      torch.nn.ReLU(),\n",
        "      torch.nn.BatchNorm1d(nodes),\n",
        "      torch.nn.Dropout(0.1),\n",
        "      \n",
        "      torch.nn.Linear(nodes, nodes),\n",
        "      torch.nn.ReLU(),\n",
        "      torch.nn.BatchNorm1d(nodes),\n",
        "      torch.nn.Dropout(0.1),\n",
        "\n",
        "      torch.nn.Linear(nodes, out_features)\n",
        "    )\n",
        "  return network"
      ],
      "execution_count": 39,
      "outputs": []
    },
    {
      "cell_type": "markdown",
      "metadata": {
        "id": "P0BBkip4uOx3"
      },
      "source": [
        "- in_features : 입력데이터의 개수 (x_train.shape : 311 = 300(유전자) + 10(임상변수) + 1(치료유무))\n",
        "- out_features : 출력노드의 개수\n",
        "\n",
        "- hidden_layers : 은닉층 수를 가지고 있는 리스트\n",
        "- number_nodes : 은닉층에 있는 노드 수를 가지고 있는 리스트\n",
        "- learning_rates : 테스트할 학습률을 가지고 있는 리스트\n",
        "- brier_scores = brier score을 계산해 append"
      ]
    },
    {
      "cell_type": "code",
      "metadata": {
        "id": "iJHZogmj5a-4",
        "colab": {
          "base_uri": "https://localhost:8080/"
        },
        "outputId": "a61f77b3-78de-4d01-deac-9e7350fe8934"
      },
      "source": [
        "in_features = x_train.shape[1]\n",
        "out_features = 1\n",
        "\n",
        "hidden_layers = [2]\n",
        "number_nodes = [2060]\n",
        "learning_rates = [0.0001, 0.001, 0]\n",
        "brier_scores = []\n",
        "\n",
        "for i in hidden_layers:\n",
        "  for j in number_nodes:\n",
        "    for k in learning_rates:\n",
        "      net = make_net(in_features, out_features, i, j)\n",
        "      model = CoxPH(net, tt.optim.Adam)\n",
        "      batch_size = 639\n",
        "\n",
        "      if k == 0:\n",
        "        lrfinder = model.lr_finder(x_train, y_train, batch_size, tolerance = 10)\n",
        "        model.optimizer.set_lr(lrfinder.get_best_lr())\n",
        "      else:\n",
        "        model.optimizer.set_lr(k)\n",
        "      \n",
        "      epochs = 512\n",
        "      callbacks = [tt.callbacks.EarlyStopping()]\n",
        "      verbose = True\n",
        "\n",
        "      %%time\n",
        "      model.fit(x_train, y_train, batch_size, epochs, callbacks, verbose, val_data=val, val_batch_size=batch_size)\n",
        "      _ = model.compute_baseline_hazards()\n",
        "      surv = model.predict_surv_df(x_test)\n",
        "      \n",
        "      # calculate ratio\n",
        "      log_partial_hazard = model.predict(x_for_hr)\n",
        "      partial_hazard = [np.exp(lph) for lph in log_partial_hazard]\n",
        "\n",
        "      treat_hr = []\n",
        "      # ratio with treated and untreated\n",
        "      for g in range(300):\n",
        "        treat_hr.append([partial_hazard[g+302]/partial_hazard[g+2],'G' + str(g+1)])\n",
        "      treat_hr.sort()\n",
        "\n",
        "      # evaluation\n",
        "      ev = EvalSurv(surv, durations_test, events_test, censor_surv='km')\n",
        "      time_grid = np.linspace(durations_test.min(), durations_test.max(), 100)\n",
        "      score = ev.integrated_brier_score(time_grid)\n",
        "\n",
        "      if k == 0:\n",
        "        brier_scores.append([score, i, j, lrfinder.get_best_lr(), treat_hr[:10]])\n",
        "      else:\n",
        "        brier_scores.append([score, i, j, k, treat_hr[:10]])"
      ],
      "execution_count": 40,
      "outputs": [
        {
          "output_type": "stream",
          "name": "stdout",
          "text": [
            "CPU times: user 3 µs, sys: 0 ns, total: 3 µs\n",
            "Wall time: 6.2 µs\n",
            "0:\t[0s / 0s],\t\ttrain_loss: 5.3550,\tval_loss: 4.6684\n",
            "1:\t[0s / 1s],\t\ttrain_loss: 5.0566,\tval_loss: 4.6657\n",
            "2:\t[0s / 1s],\t\ttrain_loss: 4.7983,\tval_loss: 4.6624\n",
            "3:\t[0s / 2s],\t\ttrain_loss: 4.6320,\tval_loss: 4.6588\n",
            "4:\t[0s / 2s],\t\ttrain_loss: 4.4746,\tval_loss: 4.6547\n",
            "5:\t[0s / 3s],\t\ttrain_loss: 4.3693,\tval_loss: 4.6503\n",
            "6:\t[0s / 3s],\t\ttrain_loss: 4.2332,\tval_loss: 4.6452\n",
            "7:\t[0s / 4s],\t\ttrain_loss: 4.1383,\tval_loss: 4.6397\n",
            "8:\t[0s / 5s],\t\ttrain_loss: 4.0528,\tval_loss: 4.6336\n",
            "9:\t[0s / 5s],\t\ttrain_loss: 3.9636,\tval_loss: 4.6268\n",
            "10:\t[0s / 6s],\t\ttrain_loss: 3.8791,\tval_loss: 4.6196\n",
            "11:\t[0s / 6s],\t\ttrain_loss: 3.8200,\tval_loss: 4.6115\n",
            "12:\t[0s / 7s],\t\ttrain_loss: 3.7611,\tval_loss: 4.6028\n",
            "13:\t[0s / 7s],\t\ttrain_loss: 3.6951,\tval_loss: 4.5940\n",
            "14:\t[0s / 8s],\t\ttrain_loss: 3.6472,\tval_loss: 4.5852\n",
            "15:\t[0s / 8s],\t\ttrain_loss: 3.6042,\tval_loss: 4.5761\n",
            "16:\t[0s / 9s],\t\ttrain_loss: 3.5781,\tval_loss: 4.5670\n",
            "17:\t[0s / 10s],\t\ttrain_loss: 3.5598,\tval_loss: 4.5592\n",
            "18:\t[0s / 10s],\t\ttrain_loss: 3.4784,\tval_loss: 4.5515\n",
            "19:\t[0s / 11s],\t\ttrain_loss: 3.5194,\tval_loss: 4.5447\n",
            "20:\t[0s / 11s],\t\ttrain_loss: 3.4582,\tval_loss: 4.5383\n",
            "21:\t[0s / 12s],\t\ttrain_loss: 3.4556,\tval_loss: 4.5338\n",
            "22:\t[0s / 12s],\t\ttrain_loss: 3.4771,\tval_loss: 4.5298\n",
            "23:\t[0s / 13s],\t\ttrain_loss: 3.4944,\tval_loss: 4.5286\n",
            "24:\t[0s / 13s],\t\ttrain_loss: 3.4717,\tval_loss: 4.5282\n",
            "25:\t[0s / 14s],\t\ttrain_loss: 3.4624,\tval_loss: 4.5306\n",
            "26:\t[0s / 15s],\t\ttrain_loss: 3.4614,\tval_loss: 4.5353\n",
            "27:\t[0s / 15s],\t\ttrain_loss: 3.4580,\tval_loss: 4.5410\n",
            "28:\t[0s / 15s],\t\ttrain_loss: 3.4655,\tval_loss: 4.5490\n",
            "29:\t[0s / 16s],\t\ttrain_loss: 3.6093,\tval_loss: 4.5594\n",
            "30:\t[0s / 16s],\t\ttrain_loss: 3.6852,\tval_loss: 4.5708\n",
            "31:\t[0s / 17s],\t\ttrain_loss: 3.5923,\tval_loss: 4.5838\n",
            "32:\t[0s / 17s],\t\ttrain_loss: 3.5071,\tval_loss: 4.5977\n",
            "33:\t[0s / 18s],\t\ttrain_loss: 3.4182,\tval_loss: 4.6113\n",
            "34:\t[0s / 18s],\t\ttrain_loss: 3.4472,\tval_loss: 4.6257\n",
            "CPU times: user 3 µs, sys: 0 ns, total: 3 µs\n",
            "Wall time: 6.68 µs\n",
            "0:\t[0s / 0s],\t\ttrain_loss: 5.3418,\tval_loss: 4.6452\n",
            "1:\t[0s / 1s],\t\ttrain_loss: 6.1207,\tval_loss: 4.6359\n",
            "2:\t[0s / 1s],\t\ttrain_loss: 5.3953,\tval_loss: 4.6290\n",
            "3:\t[0s / 2s],\t\ttrain_loss: 5.0847,\tval_loss: 4.6233\n",
            "4:\t[0s / 2s],\t\ttrain_loss: 4.9762,\tval_loss: 4.6149\n",
            "5:\t[0s / 3s],\t\ttrain_loss: 4.8010,\tval_loss: 4.6072\n",
            "6:\t[0s / 3s],\t\ttrain_loss: 4.7301,\tval_loss: 4.6011\n",
            "7:\t[0s / 4s],\t\ttrain_loss: 4.4925,\tval_loss: 4.5959\n",
            "8:\t[0s / 5s],\t\ttrain_loss: 4.3682,\tval_loss: 4.5893\n",
            "9:\t[0s / 5s],\t\ttrain_loss: 4.2837,\tval_loss: 4.5819\n",
            "10:\t[0s / 6s],\t\ttrain_loss: 4.1736,\tval_loss: 4.5739\n",
            "11:\t[0s / 6s],\t\ttrain_loss: 4.0414,\tval_loss: 4.5665\n",
            "12:\t[0s / 7s],\t\ttrain_loss: 3.9728,\tval_loss: 4.5591\n",
            "13:\t[0s / 7s],\t\ttrain_loss: 3.8816,\tval_loss: 4.5524\n",
            "14:\t[0s / 8s],\t\ttrain_loss: 3.8133,\tval_loss: 4.5451\n",
            "15:\t[0s / 8s],\t\ttrain_loss: 3.7490,\tval_loss: 4.5372\n",
            "16:\t[0s / 9s],\t\ttrain_loss: 3.7078,\tval_loss: 4.5289\n",
            "17:\t[0s / 10s],\t\ttrain_loss: 3.6431,\tval_loss: 4.5197\n",
            "18:\t[0s / 10s],\t\ttrain_loss: 3.6080,\tval_loss: 4.5106\n",
            "19:\t[0s / 11s],\t\ttrain_loss: 3.5626,\tval_loss: 4.5012\n",
            "20:\t[0s / 11s],\t\ttrain_loss: 3.6271,\tval_loss: 4.4956\n",
            "21:\t[0s / 12s],\t\ttrain_loss: 3.4854,\tval_loss: 4.4925\n",
            "22:\t[0s / 12s],\t\ttrain_loss: 3.5073,\tval_loss: 4.4879\n",
            "23:\t[0s / 13s],\t\ttrain_loss: 3.4364,\tval_loss: 4.4888\n",
            "24:\t[0s / 13s],\t\ttrain_loss: 3.4712,\tval_loss: 4.4930\n",
            "25:\t[0s / 14s],\t\ttrain_loss: 3.4426,\tval_loss: 4.5001\n",
            "26:\t[0s / 14s],\t\ttrain_loss: 3.4522,\tval_loss: 4.5114\n",
            "27:\t[0s / 15s],\t\ttrain_loss: 3.4765,\tval_loss: 4.5224\n",
            "28:\t[0s / 15s],\t\ttrain_loss: 3.5450,\tval_loss: 4.5351\n",
            "29:\t[0s / 16s],\t\ttrain_loss: 3.5377,\tval_loss: 4.5485\n",
            "30:\t[0s / 16s],\t\ttrain_loss: 3.4851,\tval_loss: 4.5632\n",
            "31:\t[0s / 17s],\t\ttrain_loss: 3.5012,\tval_loss: 4.5778\n",
            "32:\t[0s / 18s],\t\ttrain_loss: 3.4982,\tval_loss: 4.5936\n",
            "CPU times: user 3 µs, sys: 0 ns, total: 3 µs\n",
            "Wall time: 6.2 µs\n",
            "0:\t[0s / 0s],\t\ttrain_loss: 5.3818,\tval_loss: 4.6451\n",
            "1:\t[0s / 1s],\t\ttrain_loss: 6.9508,\tval_loss: 4.6394\n",
            "2:\t[0s / 1s],\t\ttrain_loss: 6.9641,\tval_loss: 4.6472\n",
            "3:\t[0s / 2s],\t\ttrain_loss: 6.5312,\tval_loss: 4.6488\n",
            "4:\t[0s / 2s],\t\ttrain_loss: 5.8343,\tval_loss: 4.6452\n",
            "5:\t[0s / 3s],\t\ttrain_loss: 5.3136,\tval_loss: 4.6399\n",
            "6:\t[0s / 3s],\t\ttrain_loss: 5.0257,\tval_loss: 4.6353\n",
            "7:\t[0s / 4s],\t\ttrain_loss: 4.7457,\tval_loss: 4.6327\n",
            "8:\t[0s / 4s],\t\ttrain_loss: 4.5912,\tval_loss: 4.6325\n",
            "9:\t[0s / 5s],\t\ttrain_loss: 4.4482,\tval_loss: 4.6344\n",
            "10:\t[0s / 5s],\t\ttrain_loss: 4.3591,\tval_loss: 4.6362\n",
            "11:\t[0s / 6s],\t\ttrain_loss: 4.3374,\tval_loss: 4.6352\n",
            "12:\t[0s / 6s],\t\ttrain_loss: 4.2960,\tval_loss: 4.6290\n",
            "13:\t[0s / 7s],\t\ttrain_loss: 4.2074,\tval_loss: 4.6178\n",
            "14:\t[0s / 8s],\t\ttrain_loss: 4.0966,\tval_loss: 4.6024\n",
            "15:\t[0s / 8s],\t\ttrain_loss: 3.9713,\tval_loss: 4.5843\n",
            "16:\t[0s / 9s],\t\ttrain_loss: 3.8493,\tval_loss: 4.5652\n",
            "17:\t[0s / 9s],\t\ttrain_loss: 3.7179,\tval_loss: 4.5476\n",
            "18:\t[0s / 10s],\t\ttrain_loss: 3.6249,\tval_loss: 4.5328\n",
            "19:\t[0s / 10s],\t\ttrain_loss: 3.5326,\tval_loss: 4.5220\n",
            "20:\t[0s / 11s],\t\ttrain_loss: 3.8265,\tval_loss: 4.5169\n",
            "21:\t[0s / 11s],\t\ttrain_loss: 3.4616,\tval_loss: 4.5205\n",
            "22:\t[0s / 12s],\t\ttrain_loss: 3.4210,\tval_loss: 4.5298\n",
            "23:\t[0s / 12s],\t\ttrain_loss: 3.5159,\tval_loss: 4.5420\n",
            "24:\t[0s / 13s],\t\ttrain_loss: 3.7833,\tval_loss: 4.5509\n",
            "25:\t[0s / 13s],\t\ttrain_loss: 3.4516,\tval_loss: 4.5620\n",
            "26:\t[0s / 14s],\t\ttrain_loss: 3.4289,\tval_loss: 4.5717\n",
            "27:\t[0s / 14s],\t\ttrain_loss: 3.4203,\tval_loss: 4.5845\n",
            "28:\t[0s / 15s],\t\ttrain_loss: 3.4362,\tval_loss: 4.6014\n",
            "29:\t[0s / 15s],\t\ttrain_loss: 3.5250,\tval_loss: 4.6178\n",
            "30:\t[0s / 16s],\t\ttrain_loss: 3.5466,\tval_loss: 4.6310\n"
          ]
        }
      ]
    },
    {
      "cell_type": "markdown",
      "metadata": {
        "id": "keho7amdxDPt"
      },
      "source": [
        "- brier_score가 가장 작은 것부터 정렬\n"
      ]
    },
    {
      "cell_type": "code",
      "metadata": {
        "id": "8-vyUqxRtULi"
      },
      "source": [
        "brier_scores.sort()\n",
        "selected_genes = []\n",
        "for i in range(10):\n",
        "  selected_genes.append(brier_scores[0][4][i][1])"
      ],
      "execution_count": 41,
      "outputs": []
    },
    {
      "cell_type": "markdown",
      "metadata": {
        "id": "6yO9ti8SxLPm"
      },
      "source": [
        "- brier_score가 가장 좋은 케이스 출력"
      ]
    },
    {
      "cell_type": "code",
      "metadata": {
        "id": "AhJtHbZlsgMd",
        "outputId": "b7e28ada-5135-4f6b-9ebd-09d807ba27ef",
        "colab": {
          "base_uri": "https://localhost:8080/"
        }
      },
      "source": [
        "gene_count= {}\n",
        "for i in brier_scores:\n",
        "  lst = []\n",
        "  for j in i[4]:\n",
        "    lst.append(j[1])\n",
        "  print(lst)\n",
        "  for k in lst:\n",
        "    if k in gene_count.keys():\n",
        "      gene_count[k] += 1\n",
        "    else:\n",
        "      gene_count[k] = 1\n",
        "sorted(gene_count.items(), key=lambda x: x[1], reverse=True)"
      ],
      "execution_count": 42,
      "outputs": [
        {
          "output_type": "stream",
          "name": "stdout",
          "text": [
            "['G35', 'G131', 'G161', 'G264', 'G259', 'G124', 'G25', 'G47', 'G214', 'G204']\n",
            "['G69', 'G180', 'G198', 'G96', 'G29', 'G233', 'G202', 'G127', 'G265', 'G103']\n",
            "['G35', 'G47', 'G74', 'G16', 'G171', 'G168', 'G34', 'G135', 'G204', 'G186']\n"
          ]
        },
        {
          "output_type": "execute_result",
          "data": {
            "text/plain": [
              "[('G35', 2),\n",
              " ('G47', 2),\n",
              " ('G204', 2),\n",
              " ('G131', 1),\n",
              " ('G161', 1),\n",
              " ('G264', 1),\n",
              " ('G259', 1),\n",
              " ('G124', 1),\n",
              " ('G25', 1),\n",
              " ('G214', 1),\n",
              " ('G69', 1),\n",
              " ('G180', 1),\n",
              " ('G198', 1),\n",
              " ('G96', 1),\n",
              " ('G29', 1),\n",
              " ('G233', 1),\n",
              " ('G202', 1),\n",
              " ('G127', 1),\n",
              " ('G265', 1),\n",
              " ('G103', 1),\n",
              " ('G74', 1),\n",
              " ('G16', 1),\n",
              " ('G171', 1),\n",
              " ('G168', 1),\n",
              " ('G34', 1),\n",
              " ('G135', 1),\n",
              " ('G186', 1)]"
            ]
          },
          "metadata": {},
          "execution_count": 42
        }
      ]
    },
    {
      "cell_type": "code",
      "metadata": {
        "id": "Cd2yOAOz5jME",
        "colab": {
          "base_uri": "https://localhost:8080/"
        },
        "outputId": "ee7f0c60-d683-423f-aa2c-0f83d8742152"
      },
      "source": [
        "print(\"Brier Score :\", brier_scores[0][0])\n",
        "print(\"Hidden Layers :\", brier_scores[0][1])\n",
        "print(\"Number of Nodes :\", brier_scores[0][2])\n",
        "print(\"Learning Rate :\", brier_scores[0][3])\n",
        "print(\"Selection :\", selected_genes)"
      ],
      "execution_count": 43,
      "outputs": [
        {
          "output_type": "stream",
          "name": "stdout",
          "text": [
            "Brier Score : 0.0499072177206306\n",
            "Hidden Layers : 2\n",
            "Number of Nodes : 2060\n",
            "Learning Rate : 0.001484968262254472\n",
            "Selection : ['G35', 'G131', 'G161', 'G264', 'G259', 'G124', 'G25', 'G47', 'G214', 'G204']\n"
          ]
        }
      ]
    },
    {
      "cell_type": "markdown",
      "metadata": {
        "id": "Y-mmybRE9XRp"
      },
      "source": [
        "NAN 값을 기준으로 정렬이 끊어진 문제 발견"
      ]
    },
    {
      "cell_type": "code",
      "metadata": {
        "id": "QcZEju2QvkW3",
        "outputId": "c4daee34-d5c3-4be7-aa6b-e7c4c787d4ad",
        "colab": {
          "base_uri": "https://localhost:8080/"
        }
      },
      "source": [
        "brier_scores"
      ],
      "execution_count": 44,
      "outputs": [
        {
          "output_type": "execute_result",
          "data": {
            "text/plain": [
              "[[0.0499072177206306,\n",
              "  2,\n",
              "  2060,\n",
              "  0.001484968262254472,\n",
              "  [[array([0.601699], dtype=float32), 'G35'],\n",
              "   [array([0.60666573], dtype=float32), 'G131'],\n",
              "   [array([0.60804623], dtype=float32), 'G161'],\n",
              "   [array([0.60933214], dtype=float32), 'G264'],\n",
              "   [array([0.6115791], dtype=float32), 'G259'],\n",
              "   [array([0.61353236], dtype=float32), 'G124'],\n",
              "   [array([0.6161169], dtype=float32), 'G25'],\n",
              "   [array([0.6171879], dtype=float32), 'G47'],\n",
              "   [array([0.6200422], dtype=float32), 'G214'],\n",
              "   [array([0.6205481], dtype=float32), 'G204']]],\n",
              " [0.050703768027525804,\n",
              "  2,\n",
              "  2060,\n",
              "  0.001,\n",
              "  [[array([0.5437677], dtype=float32), 'G69'],\n",
              "   [array([0.54808986], dtype=float32), 'G180'],\n",
              "   [array([0.5550878], dtype=float32), 'G198'],\n",
              "   [array([0.5714226], dtype=float32), 'G96'],\n",
              "   [array([0.57293653], dtype=float32), 'G29'],\n",
              "   [array([0.57497305], dtype=float32), 'G233'],\n",
              "   [array([0.5756375], dtype=float32), 'G202'],\n",
              "   [array([0.57575196], dtype=float32), 'G127'],\n",
              "   [array([0.57608366], dtype=float32), 'G265'],\n",
              "   [array([0.57716995], dtype=float32), 'G103']]],\n",
              " [0.051220967069960065,\n",
              "  2,\n",
              "  2060,\n",
              "  0.0001,\n",
              "  [[array([0.5706521], dtype=float32), 'G35'],\n",
              "   [array([0.5728669], dtype=float32), 'G47'],\n",
              "   [array([0.5821132], dtype=float32), 'G74'],\n",
              "   [array([0.59158945], dtype=float32), 'G16'],\n",
              "   [array([0.5963244], dtype=float32), 'G171'],\n",
              "   [array([0.5963616], dtype=float32), 'G168'],\n",
              "   [array([0.59785163], dtype=float32), 'G34'],\n",
              "   [array([0.5985387], dtype=float32), 'G135'],\n",
              "   [array([0.5988732], dtype=float32), 'G204'],\n",
              "   [array([0.60150814], dtype=float32), 'G186']]]]"
            ]
          },
          "metadata": {},
          "execution_count": 44
        }
      ]
    },
    {
      "cell_type": "code",
      "metadata": {
        "colab": {
          "base_uri": "https://localhost:8080/"
        },
        "id": "nPQucTT270bt",
        "outputId": "c63e6cdb-73b2-4984-fff4-ab1601ac24d0"
      },
      "source": [
        "print(\"brier_score, hidden layer, number of nodes, learning rate\")\n",
        "for i in brier_scores:\n",
        "  print(i[:-1])"
      ],
      "execution_count": 45,
      "outputs": [
        {
          "output_type": "stream",
          "name": "stdout",
          "text": [
            "brier_score, hidden layer, number of nodes, learning rate\n",
            "[0.0499072177206306, 2, 2060, 0.001484968262254472]\n",
            "[0.050703768027525804, 2, 2060, 0.001]\n",
            "[0.051220967069960065, 2, 2060, 0.0001]\n"
          ]
        }
      ]
    }
  ]
}