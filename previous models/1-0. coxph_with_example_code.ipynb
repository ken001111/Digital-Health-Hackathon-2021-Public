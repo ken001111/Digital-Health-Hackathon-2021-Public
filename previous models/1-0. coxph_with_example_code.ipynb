{
  "nbformat": 4,
  "nbformat_minor": 0,
  "metadata": {
    "colab": {
      "name": "coxph-with-example-code.ipynb",
      "provenance": []
    },
    "kernelspec": {
      "display_name": "Python 3",
      "name": "python3"
    },
    "language_info": {
      "name": "python"
    }
  },
  "cells": [
    {
      "cell_type": "code",
      "metadata": {
        "id": "QhzjjeC5d5U3"
      },
      "source": [
        "pip install pycox"
      ],
      "execution_count": null,
      "outputs": []
    },
    {
      "cell_type": "code",
      "metadata": {
        "id": "AzJHXvjBgylI"
      },
      "source": [
        "import numpy as np\n",
        "import matplotlib.pyplot as plt\n",
        "from sklearn.preprocessing import StandardScaler\n",
        "from sklearn_pandas import DataFrameMapper\n",
        "import pandas as pd\n",
        "\n",
        "import torch\n",
        "import torchtuples as tt\n",
        "\n",
        "from pycox.models import CoxPH\n",
        "from pycox.evaluation import EvalSurv"
      ],
      "execution_count": null,
      "outputs": []
    },
    {
      "cell_type": "code",
      "metadata": {
        "id": "CyqKB3NVhaVn"
      },
      "source": [
        "csv = pd.read_csv('/content/all-in-one.csv')\n",
        "test_csv = pd.read_csv('/content/test-data.csv')"
      ],
      "execution_count": null,
      "outputs": []
    },
    {
      "cell_type": "code",
      "metadata": {
        "id": "L9AOvBEXh3Wq"
      },
      "source": [
        "df_untreated_train = csv[csv.Treatment == 0]\n",
        "df_treated_train = csv[csv.Treatment == 1]"
      ],
      "execution_count": null,
      "outputs": []
    },
    {
      "cell_type": "code",
      "metadata": {
        "id": "q3r2L7pBiCtg"
      },
      "source": [
        "df_untreated_test = df_untreated_train.sample(frac=0.2)\n",
        "df_untreated_train = df_untreated_train.drop(df_untreated_test.index)\n",
        "df_untreated_val = df_untreated_train.sample(frac=0.2)\n",
        "df_untreated_train = df_untreated_train.drop(df_untreated_val.index)\n",
        "\n",
        "df_treated_test = df_treated_train.sample(frac=0.2)\n",
        "df_treated_train = df_treated_train.drop(df_treated_test.index)\n",
        "df_treated_val = df_treated_train.sample(frac=0.2)\n",
        "df_treated_train = df_treated_train.drop(df_treated_val.index)"
      ],
      "execution_count": null,
      "outputs": []
    },
    {
      "cell_type": "code",
      "metadata": {
        "id": "P9u9m9sOjGeg"
      },
      "source": [
        "cols_standardize = ['Var' + str(i) for i in range(1,11)]\n",
        "cols_leave = ['G' + str(i) for i in range(1,301)]\n",
        "\n",
        "standardize = [([col], StandardScaler()) for col in cols_standardize]\n",
        "leave = [(col, None) for col in cols_leave]\n",
        "\n",
        "x_mapper = DataFrameMapper(standardize + leave)"
      ],
      "execution_count": null,
      "outputs": []
    },
    {
      "cell_type": "code",
      "metadata": {
        "id": "tan9AKxxjUJy"
      },
      "source": [
        "x_untreated_train = x_mapper.fit_transform(df_untreated_train).astype('float32')\n",
        "x_untreated_val = x_mapper.transform(df_untreated_val).astype('float32')\n",
        "x_untreated_test = x_mapper.transform(df_untreated_test).astype('float32')\n",
        "\n",
        "x_treated_train = x_mapper.fit_transform(df_treated_train).astype('float32')\n",
        "x_treated_val = x_mapper.transform(df_treated_val).astype('float32')\n",
        "x_treated_test = x_mapper.transform(df_treated_test).astype('float32')"
      ],
      "execution_count": null,
      "outputs": []
    },
    {
      "cell_type": "code",
      "metadata": {
        "id": "UqhryR_7pkJY"
      },
      "source": [
        "x_mapper_gene = [(col, None) for col in ['G' + str(i) for i in range(1,301)] +  ['Var' + str(i) for i in range(1,11)]]\n",
        "x_gene = x_mapper.transform(test_csv).astype('float32')"
      ],
      "execution_count": null,
      "outputs": []
    },
    {
      "cell_type": "code",
      "metadata": {
        "id": "1-4zjAjCpv9q"
      },
      "source": [
        ""
      ],
      "execution_count": null,
      "outputs": []
    },
    {
      "cell_type": "code",
      "metadata": {
        "colab": {
          "base_uri": "https://localhost:8080/"
        },
        "id": "fCYXSCjRfb7n",
        "outputId": "79b7bcad-0414-4ba3-bb77-0430f166162d"
      },
      "source": [
        "print(df_treated_test)"
      ],
      "execution_count": null,
      "outputs": [
        {
          "output_type": "stream",
          "name": "stdout",
          "text": [
            "     G1  G2  G3  G4  G5  G6  ...  Var8  Var9  Var10        time  event  Treatment\n",
            "174   0   0   0   0   0   0  ...     1     2      0   68.820951      1          1\n",
            "41    0   0   0   0   1   0  ...     5     1      2   43.478232      1          1\n",
            "873   0   0   0   1   0   1  ...     3     3      2  101.567678      1          1\n",
            "704   0   0   0   0   0   0  ...     1     2      0   42.712902      1          1\n",
            "680   0   0   0   0   0   0  ...     4     2      2   55.413826      1          1\n",
            "..   ..  ..  ..  ..  ..  ..  ...   ...   ...    ...         ...    ...        ...\n",
            "321   0   0   0   0   0   0  ...     2     3      6   28.407132      1          1\n",
            "646   0   0   0   0   0   0  ...     2     0      0   57.786192      1          1\n",
            "906   0   0   0   0   0   0  ...     5     2      2   44.197178      1          1\n",
            "91    0   0   0   0   0   0  ...     2     1      2   34.073270      1          1\n",
            "480   0   0   0   0   0   0  ...     2     5      5   65.661130      1          1\n",
            "\n",
            "[98 rows x 313 columns]\n"
          ]
        }
      ]
    },
    {
      "cell_type": "code",
      "metadata": {
        "colab": {
          "base_uri": "https://localhost:8080/"
        },
        "id": "B0ozz262vgJ8",
        "outputId": "cf4ab4db-bbb2-4f41-a028-cfbfefa3f7ad"
      },
      "source": [
        "print(test_csv)"
      ],
      "execution_count": null,
      "outputs": [
        {
          "output_type": "stream",
          "name": "stdout",
          "text": [
            "     G1  G2  G3  G4  G5  G6  ...  Var8  Var9  Var10  time  event  Treatment\n",
            "0     0   0   0   0   0   0  ...     0     0      0     0      0          0\n",
            "1     1   0   0   0   0   0  ...     0     0      0     0      0          0\n",
            "2     0   1   0   0   0   0  ...     0     0      0     0      0          0\n",
            "3     0   0   1   0   0   0  ...     0     0      0     0      0          0\n",
            "4     0   0   0   1   0   0  ...     0     0      0     0      0          0\n",
            "..   ..  ..  ..  ..  ..  ..  ...   ...   ...    ...   ...    ...        ...\n",
            "296   0   0   0   0   0   0  ...     0     0      0     0      0          0\n",
            "297   0   0   0   0   0   0  ...     0     0      0     0      0          0\n",
            "298   0   0   0   0   0   0  ...     0     0      0     0      0          0\n",
            "299   0   0   0   0   0   0  ...     0     0      0     0      0          0\n",
            "300   0   0   0   0   0   0  ...     0     0      0     0      0          0\n",
            "\n",
            "[301 rows x 313 columns]\n"
          ]
        }
      ]
    },
    {
      "cell_type": "code",
      "metadata": {
        "id": "in1_7oWbkCQg"
      },
      "source": [
        "get_target = lambda df: (df['time'].values, df['event'].values)\n",
        "y_untreated_train = get_target(df_untreated_train)\n",
        "y_untreated_val = get_target(df_untreated_val)\n",
        "\n",
        "\n",
        "y_treated_train = get_target(df_treated_train)\n",
        "y_treated_val = get_target(df_treated_val)\n",
        "\n",
        "untreated_durations_test, untreated_events_test = get_target(df_untreated_test)\n",
        "untreated_val = x_untreated_val, y_untreated_val\n",
        "\n",
        "treated_durations_test, treated_events_test = get_target(df_treated_test)\n",
        "treated_val = x_treated_val, y_treated_val"
      ],
      "execution_count": null,
      "outputs": []
    },
    {
      "cell_type": "code",
      "metadata": {
        "id": "uWptD-fxknMt"
      },
      "source": [
        "in_features = x_treated_train.shape[1]\n",
        "num_nodes = [32, 32]\n",
        "out_features = 1\n",
        "batch_norm = True\n",
        "dropout = 0.1\n",
        "output_bias = False\n",
        "\n",
        "net = torch.nn.Sequential(\n",
        "    torch.nn.Linear(in_features, 32),\n",
        "    torch.nn.ReLU(),\n",
        "    torch.nn.BatchNorm1d(32),\n",
        "    torch.nn.Dropout(0.1),\n",
        "    \n",
        "    torch.nn.Linear(32, 32),\n",
        "    torch.nn.ReLU(),\n",
        "    torch.nn.BatchNorm1d(32),\n",
        "    torch.nn.Dropout(0.1),\n",
        "\n",
        "    torch.nn.Linear(32, 32),\n",
        "    torch.nn.ReLU(),\n",
        "    torch.nn.BatchNorm1d(32),\n",
        "    torch.nn.Dropout(0.1),\n",
        "\n",
        "    \n",
        "    torch.nn.Linear(32, out_features)\n",
        ")\n",
        "\n",
        "net2 = torch.nn.Sequential(\n",
        "    torch.nn.Linear(in_features, 32),\n",
        "    torch.nn.ReLU(),\n",
        "    torch.nn.BatchNorm1d(32),\n",
        "    torch.nn.Dropout(0.1),\n",
        "    \n",
        "    torch.nn.Linear(32, 32),\n",
        "    torch.nn.ReLU(),\n",
        "    torch.nn.BatchNorm1d(32),\n",
        "    torch.nn.Dropout(0.1),\n",
        "\n",
        "    torch.nn.Linear(32, 32),\n",
        "    torch.nn.ReLU(),\n",
        "    torch.nn.BatchNorm1d(32),\n",
        "    torch.nn.Dropout(0.1),\n",
        "\n",
        "    \n",
        "    torch.nn.Linear(32, out_features)\n",
        ")"
      ],
      "execution_count": null,
      "outputs": []
    },
    {
      "cell_type": "code",
      "metadata": {
        "id": "-ylKulKJmN7Q"
      },
      "source": [
        "model = CoxPH(net, tt.optim.Adam)"
      ],
      "execution_count": null,
      "outputs": []
    },
    {
      "cell_type": "code",
      "metadata": {
        "id": "oevTDqDcRacW"
      },
      "source": [
        "model2 = CoxPH(net2, tt.optim.Adam)"
      ],
      "execution_count": null,
      "outputs": []
    },
    {
      "cell_type": "code",
      "metadata": {
        "colab": {
          "base_uri": "https://localhost:8080/",
          "height": 283
        },
        "id": "Cpaka4sumOsz",
        "outputId": "19c7c5ac-c381-439a-ef00-99d80399b6d5"
      },
      "source": [
        "batch_size = 256\n",
        "lrfinder = model.lr_finder(x_treated_train, y_treated_train, batch_size, tolerance=10)\n",
        "_ = lrfinder.plot()"
      ],
      "execution_count": null,
      "outputs": [
        {
          "output_type": "display_data",
          "data": {
            "image/png": "[encoded data removed]",
            "text/plain": [
              "<Figure size 432x288 with 1 Axes>"
            ]
          },
          "metadata": {
            "needs_background": "light"
          }
        }
      ]
    },
    {
      "cell_type": "code",
      "metadata": {
        "colab": {
          "base_uri": "https://localhost:8080/",
          "height": 283
        },
        "id": "Cks-MPbzReWK",
        "outputId": "f130052e-1f02-46bc-fb73-438e9e8c58cc"
      },
      "source": [
        "batch_size = 256\n",
        "lrfinder2 = model.lr_finder(x_untreated_train, y_untreated_train, batch_size, tolerance=10)\n",
        "_ = lrfinder.plot()"
      ],
      "execution_count": null,
      "outputs": [
        {
          "output_type": "display_data",
          "data": {
            "image/png": "[encoded data removed]",
            "text/plain": [
              "<Figure size 432x288 with 1 Axes>"
            ]
          },
          "metadata": {
            "needs_background": "light"
          }
        }
      ]
    },
    {
      "cell_type": "code",
      "metadata": {
        "colab": {
          "base_uri": "https://localhost:8080/"
        },
        "id": "efYAhdJtmWJ1",
        "outputId": "78847890-efe1-47c6-9225-1fa016e37226"
      },
      "source": [
        "lrfinder.get_best_lr()"
      ],
      "execution_count": null,
      "outputs": [
        {
          "output_type": "execute_result",
          "data": {
            "text/plain": [
              "0.15556761439304817"
            ]
          },
          "metadata": {},
          "execution_count": 80
        }
      ]
    },
    {
      "cell_type": "code",
      "metadata": {
        "colab": {
          "base_uri": "https://localhost:8080/"
        },
        "id": "jBDsYTRISdHe",
        "outputId": "a7c632da-0a7c-4652-f669-d04cfea59c59"
      },
      "source": [
        "lrfinder2.get_best_lr()"
      ],
      "execution_count": null,
      "outputs": [
        {
          "output_type": "execute_result",
          "data": {
            "text/plain": [
              "0.10722672220103299"
            ]
          },
          "metadata": {},
          "execution_count": 81
        }
      ]
    },
    {
      "cell_type": "code",
      "metadata": {
        "id": "a3B-einLmfex"
      },
      "source": [
        "model.optimizer.set_lr(lrfinder.get_best_lr())"
      ],
      "execution_count": null,
      "outputs": []
    },
    {
      "cell_type": "code",
      "metadata": {
        "id": "eEyjOWg6SiUv"
      },
      "source": [
        "model2.optimizer.set_lr(lrfinder2.get_best_lr())"
      ],
      "execution_count": null,
      "outputs": []
    },
    {
      "cell_type": "code",
      "metadata": {
        "id": "sfPqJeeCmQmx"
      },
      "source": [
        "epochs = 512\n",
        "callbacks = [tt.callbacks.EarlyStopping()]\n",
        "verbose = True"
      ],
      "execution_count": null,
      "outputs": []
    },
    {
      "cell_type": "code",
      "metadata": {
        "colab": {
          "base_uri": "https://localhost:8080/"
        },
        "id": "cwBtjoOWmrf9",
        "outputId": "fba99732-88f8-47d8-cebd-64cc53ce76eb"
      },
      "source": [
        "%%time\n",
        "log = model.fit(x_treated_train, y_treated_train, batch_size, epochs, callbacks, verbose,\n",
        "                val_data=treated_val, val_batch_size=batch_size)"
      ],
      "execution_count": null,
      "outputs": [
        {
          "output_type": "stream",
          "name": "stdout",
          "text": [
            "0:\t[0s / 0s],\t\ttrain_loss: 4.1074,\tval_loss: 4.4300\n",
            "1:\t[0s / 0s],\t\ttrain_loss: 4.8703,\tval_loss: 8.3895\n",
            "2:\t[0s / 0s],\t\ttrain_loss: 3.8443,\tval_loss: 13.5242\n",
            "3:\t[0s / 0s],\t\ttrain_loss: 3.9070,\tval_loss: 8.9190\n",
            "4:\t[0s / 0s],\t\ttrain_loss: 3.7079,\tval_loss: 4.4596\n",
            "5:\t[0s / 0s],\t\ttrain_loss: 3.6062,\tval_loss: 3.6616\n",
            "6:\t[0s / 0s],\t\ttrain_loss: 3.5530,\tval_loss: 4.2023\n",
            "7:\t[0s / 0s],\t\ttrain_loss: 3.5527,\tval_loss: 5.3472\n",
            "8:\t[0s / 0s],\t\ttrain_loss: 3.4967,\tval_loss: 5.3833\n",
            "9:\t[0s / 0s],\t\ttrain_loss: 3.4809,\tval_loss: 4.3735\n",
            "10:\t[0s / 0s],\t\ttrain_loss: 3.3867,\tval_loss: 3.8541\n",
            "11:\t[0s / 0s],\t\ttrain_loss: 3.3832,\tval_loss: 3.6626\n",
            "12:\t[0s / 0s],\t\ttrain_loss: 3.3678,\tval_loss: 3.6017\n",
            "13:\t[0s / 0s],\t\ttrain_loss: 3.1603,\tval_loss: 3.7292\n",
            "14:\t[0s / 0s],\t\ttrain_loss: 3.2351,\tval_loss: 3.9595\n",
            "15:\t[0s / 0s],\t\ttrain_loss: 3.2500,\tval_loss: 3.8767\n",
            "16:\t[0s / 0s],\t\ttrain_loss: 2.9274,\tval_loss: 3.7796\n",
            "17:\t[0s / 0s],\t\ttrain_loss: 3.1210,\tval_loss: 3.8501\n",
            "18:\t[0s / 0s],\t\ttrain_loss: 3.0229,\tval_loss: 3.8725\n",
            "19:\t[0s / 0s],\t\ttrain_loss: 2.9220,\tval_loss: 3.8603\n",
            "20:\t[0s / 0s],\t\ttrain_loss: 2.7782,\tval_loss: 4.0790\n",
            "21:\t[0s / 0s],\t\ttrain_loss: 2.9655,\tval_loss: 4.3039\n",
            "22:\t[0s / 0s],\t\ttrain_loss: 2.9258,\tval_loss: 4.1334\n",
            "CPU times: user 251 ms, sys: 6.67 ms, total: 258 ms\n",
            "Wall time: 256 ms\n"
          ]
        }
      ]
    },
    {
      "cell_type": "code",
      "metadata": {
        "id": "FG0L_rUBWtFI"
      },
      "source": [
        "epochs = 512\n",
        "callbacks = [tt.callbacks.EarlyStopping()]\n",
        "verbose = True\n"
      ],
      "execution_count": null,
      "outputs": []
    },
    {
      "cell_type": "code",
      "metadata": {
        "colab": {
          "base_uri": "https://localhost:8080/"
        },
        "id": "GDedV7IGSn9h",
        "outputId": "526def29-f298-4fa4-b22a-754a384d9a67"
      },
      "source": [
        "\n",
        "%%time\n",
        "log = model2.fit(x_untreated_train, y_untreated_train, batch_size, epochs, callbacks, verbose,\n",
        "                val_data=untreated_val, val_batch_size=batch_size)"
      ],
      "execution_count": null,
      "outputs": [
        {
          "output_type": "stream",
          "name": "stdout",
          "text": [
            "1:\t[0s / 0s],\t\ttrain_loss: 3.9651,\tval_loss: 3.3986\n",
            "2:\t[0s / 0s],\t\ttrain_loss: 3.9068,\tval_loss: 3.3063\n",
            "3:\t[0s / 0s],\t\ttrain_loss: 3.5982,\tval_loss: 4.9070\n",
            "4:\t[0s / 0s],\t\ttrain_loss: 3.6684,\tval_loss: 5.9344\n",
            "5:\t[0s / 0s],\t\ttrain_loss: 3.5707,\tval_loss: 4.5405\n",
            "6:\t[0s / 0s],\t\ttrain_loss: 3.4450,\tval_loss: 4.4357\n",
            "7:\t[0s / 0s],\t\ttrain_loss: 3.4256,\tval_loss: 5.6454\n",
            "8:\t[0s / 0s],\t\ttrain_loss: 3.5886,\tval_loss: 5.3954\n",
            "9:\t[0s / 0s],\t\ttrain_loss: 3.3149,\tval_loss: 4.2609\n",
            "10:\t[0s / 0s],\t\ttrain_loss: 3.3003,\tval_loss: 3.8291\n",
            "11:\t[0s / 0s],\t\ttrain_loss: 3.3107,\tval_loss: 3.7234\n",
            "12:\t[0s / 0s],\t\ttrain_loss: 3.2050,\tval_loss: 3.7377\n",
            "CPU times: user 133 ms, sys: 4.57 ms, total: 137 ms\n",
            "Wall time: 139 ms\n"
          ]
        }
      ]
    },
    {
      "cell_type": "code",
      "metadata": {
        "colab": {
          "base_uri": "https://localhost:8080/",
          "height": 265
        },
        "id": "8mcUaE_SmtxC",
        "outputId": "3ab9b109-61df-4d09-ac9a-1a2e50cdc2cf"
      },
      "source": [
        "_ = log.plot()"
      ],
      "execution_count": null,
      "outputs": [
        {
          "output_type": "display_data",
          "data": {
            "image/png": "[encoded data removed]",
            "text/plain": [
              "<Figure size 432x288 with 1 Axes>"
            ]
          },
          "metadata": {
            "needs_background": "light"
          }
        }
      ]
    },
    {
      "cell_type": "code",
      "metadata": {
        "id": "NSK-Me2ZS6RD"
      },
      "source": [
        "_"
      ],
      "execution_count": null,
      "outputs": []
    },
    {
      "cell_type": "code",
      "metadata": {
        "id": "bod17rA-Y7ES"
      },
      "source": [
        "_ = model.compute_baseline_hazards()"
      ],
      "execution_count": null,
      "outputs": []
    },
    {
      "cell_type": "code",
      "metadata": {
        "id": "XTWQQqLBTh6L"
      },
      "source": [
        "_ = model2.compute_baseline_hazards()"
      ],
      "execution_count": null,
      "outputs": []
    },
    {
      "cell_type": "code",
      "metadata": {
        "id": "SOl39ZMEY69t",
        "colab": {
          "base_uri": "https://localhost:8080/"
        },
        "outputId": "661e922f-98ea-47c4-adf4-54a0229e2fcf"
      },
      "source": [
        "model.baseline_hazards_"
      ],
      "execution_count": null,
      "outputs": [
        {
          "output_type": "execute_result",
          "data": {
            "text/plain": [
              "duration\n",
              "7.070708           0.000000\n",
              "9.843261           0.000000\n",
              "11.274018          0.000000\n",
              "11.442581          0.000000\n",
              "19.308586          0.000000\n",
              "                  ...      \n",
              "130.121877        65.765831\n",
              "135.736399        65.774037\n",
              "137.888591        65.864175\n",
              "138.861338       344.760052\n",
              "217.078908    175056.576792\n",
              "Name: baseline_hazards, Length: 312, dtype: float64"
            ]
          },
          "metadata": {},
          "execution_count": 109
        }
      ]
    },
    {
      "cell_type": "code",
      "metadata": {
        "colab": {
          "base_uri": "https://localhost:8080/"
        },
        "id": "M5vI74GsTmfi",
        "outputId": "a90fd1c9-fe60-4b02-ba30-f55b384cdd44"
      },
      "source": [
        "model2.baseline_hazards_"
      ],
      "execution_count": null,
      "outputs": [
        {
          "output_type": "execute_result",
          "data": {
            "text/plain": [
              "duration\n",
              "17.640615     0.000000e+00\n",
              "22.874687     8.107236e-03\n",
              "23.102221     8.134659e-03\n",
              "23.187958     8.152619e-03\n",
              "23.247105     8.182087e-03\n",
              "                  ...     \n",
              "94.897598     1.542945e+01\n",
              "96.098117     0.000000e+00\n",
              "97.761355     4.436976e+02\n",
              "106.444390    8.348120e+02\n",
              "133.364200    7.871239e+06\n",
              "Name: baseline_hazards, Length: 327, dtype: float64"
            ]
          },
          "metadata": {},
          "execution_count": 110
        }
      ]
    },
    {
      "cell_type": "code",
      "metadata": {
        "colab": {
          "base_uri": "https://localhost:8080/"
        },
        "id": "peetFA5UPYT-",
        "outputId": "1ba51d32-8efa-475d-f898-dbe32726e450"
      },
      "source": [
        "len(x_gene)"
      ],
      "execution_count": null,
      "outputs": [
        {
          "output_type": "execute_result",
          "data": {
            "text/plain": [
              "301"
            ]
          },
          "metadata": {},
          "execution_count": 38
        }
      ]
    },
    {
      "cell_type": "code",
      "metadata": {
        "colab": {
          "base_uri": "https://localhost:8080/"
        },
        "id": "n39KI1HGXJnj",
        "outputId": "41c89156-713d-4e06-cf39-9ec82fc32ec8"
      },
      "source": [
        "treated_value = model.predict(x_gene)\n",
        "untreated_value = model2.predict(x_gene)\n",
        "treated_base = treated_value[0]\n",
        "untreated_base = untreated_value[0]\n",
        "\n",
        "\n",
        "print(treated_value)\n",
        "\n",
        "# print(\"treated: \")\n",
        "# for i in treated_value[10:20]:\n",
        "#   print(np.exp(i)/np.exp(treated_base))\n",
        "\n",
        "# print(\"untreated:\")\n",
        "\n",
        "# for i in untreated_value[10:20]:\n",
        "#   print(np.exp(i)/np.exp(untreated_base)) \n",
        "\n",
        "# print(list(zip(treated_value[:10], untreated_value[:10])))\n",
        "\n",
        "# zip_values = zip(treated_value, untreated_value)\n",
        "\n",
        "# for i, j in zip_values:\n",
        "#   print(abs(np.log((np.exp(i)/np.exp(treated_base))/(np.exp(j)/np.exp(untreated_base)))))"
      ],
      "execution_count": null,
      "outputs": [
        {
          "output_type": "stream",
          "name": "stdout",
          "text": [
            "[[1.4672298 ]\n",
            " [1.3350527 ]\n",
            " [1.9017677 ]\n",
            " [1.3274555 ]\n",
            " [1.4404507 ]\n",
            " [1.7765923 ]\n",
            " [1.0158944 ]\n",
            " [1.8188813 ]\n",
            " [1.6200118 ]\n",
            " [1.7122064 ]\n",
            " [1.9461784 ]\n",
            " [1.5373533 ]\n",
            " [1.7308764 ]\n",
            " [1.6942124 ]\n",
            " [1.0561992 ]\n",
            " [1.4585259 ]\n",
            " [1.9726734 ]\n",
            " [1.3247571 ]\n",
            " [1.804723  ]\n",
            " [1.448137  ]\n",
            " [1.7742565 ]\n",
            " [1.4363306 ]\n",
            " [1.6010556 ]\n",
            " [1.7230117 ]\n",
            " [1.2269053 ]\n",
            " [1.6827843 ]\n",
            " [1.7114763 ]\n",
            " [1.4268544 ]\n",
            " [1.1132468 ]\n",
            " [1.2434337 ]\n",
            " [1.7100832 ]\n",
            " [1.5780821 ]\n",
            " [1.7526615 ]\n",
            " [1.124665  ]\n",
            " [1.130549  ]\n",
            " [0.61874366]\n",
            " [1.7657602 ]\n",
            " [1.9027958 ]\n",
            " [1.2640283 ]\n",
            " [1.4528487 ]\n",
            " [0.83020437]\n",
            " [1.3352695 ]\n",
            " [1.9208815 ]\n",
            " [1.4310017 ]\n",
            " [1.5978234 ]\n",
            " [1.0783567 ]\n",
            " [1.2694434 ]\n",
            " [1.4281528 ]\n",
            " [1.5777166 ]\n",
            " [1.1963882 ]\n",
            " [1.3760788 ]\n",
            " [1.3282678 ]\n",
            " [1.3794506 ]\n",
            " [1.8168926 ]\n",
            " [0.63708127]\n",
            " [1.6574287 ]\n",
            " [1.6937715 ]\n",
            " [1.4244733 ]\n",
            " [1.5323982 ]\n",
            " [1.489624  ]\n",
            " [1.7906277 ]\n",
            " [1.860322  ]\n",
            " [1.4207826 ]\n",
            " [1.9885795 ]\n",
            " [1.7818532 ]\n",
            " [1.9651749 ]\n",
            " [2.0480807 ]\n",
            " [1.6691169 ]\n",
            " [1.9318347 ]\n",
            " [1.7359228 ]\n",
            " [1.1139058 ]\n",
            " [1.8256576 ]\n",
            " [1.5369966 ]\n",
            " [1.7597554 ]\n",
            " [1.5938799 ]\n",
            " [1.1830134 ]\n",
            " [1.5828607 ]\n",
            " [1.9746184 ]\n",
            " [1.5874631 ]\n",
            " [1.75631   ]\n",
            " [1.5329487 ]\n",
            " [1.6078358 ]\n",
            " [1.1393917 ]\n",
            " [1.6243091 ]\n",
            " [1.6072707 ]\n",
            " [1.3620291 ]\n",
            " [1.7068126 ]\n",
            " [1.2555661 ]\n",
            " [0.92324287]\n",
            " [1.5158681 ]\n",
            " [1.710155  ]\n",
            " [1.6731994 ]\n",
            " [1.536202  ]\n",
            " [1.4087279 ]\n",
            " [1.59745   ]\n",
            " [1.5473702 ]\n",
            " [1.7654562 ]\n",
            " [1.1570652 ]\n",
            " [1.6500635 ]\n",
            " [1.7247362 ]\n",
            " [0.90046406]\n",
            " [1.4794142 ]\n",
            " [1.4699397 ]\n",
            " [1.7303677 ]\n",
            " [1.7582972 ]\n",
            " [1.5494734 ]\n",
            " [1.8507597 ]\n",
            " [0.77153987]\n",
            " [1.6630405 ]\n",
            " [1.8514247 ]\n",
            " [1.7637038 ]\n",
            " [1.5002205 ]\n",
            " [1.4161944 ]\n",
            " [1.4700592 ]\n",
            " [1.1291721 ]\n",
            " [1.6182585 ]\n",
            " [1.4057534 ]\n",
            " [1.7693162 ]\n",
            " [1.6071124 ]\n",
            " [1.6017921 ]\n",
            " [1.4154848 ]\n",
            " [1.3340342 ]\n",
            " [1.3712687 ]\n",
            " [1.4849119 ]\n",
            " [1.8263698 ]\n",
            " [1.5468109 ]\n",
            " [1.4811534 ]\n",
            " [1.4446207 ]\n",
            " [1.7930634 ]\n",
            " [1.841358  ]\n",
            " [1.3911364 ]\n",
            " [1.2009596 ]\n",
            " [1.7739828 ]\n",
            " [1.0705445 ]\n",
            " [1.8169186 ]\n",
            " [1.2123196 ]\n",
            " [0.84326375]\n",
            " [0.7986177 ]\n",
            " [1.4042218 ]\n",
            " [1.5671351 ]\n",
            " [1.5607886 ]\n",
            " [1.2250624 ]\n",
            " [1.542216  ]\n",
            " [1.1939142 ]\n",
            " [1.8384092 ]\n",
            " [1.7701604 ]\n",
            " [1.804399  ]\n",
            " [1.8228495 ]\n",
            " [1.0156112 ]\n",
            " [1.3642483 ]\n",
            " [1.5751398 ]\n",
            " [1.1881977 ]\n",
            " [1.1232423 ]\n",
            " [1.5483086 ]\n",
            " [1.5511696 ]\n",
            " [1.0872253 ]\n",
            " [1.6333642 ]\n",
            " [1.6427631 ]\n",
            " [2.1123838 ]\n",
            " [1.2699289 ]\n",
            " [1.1149999 ]\n",
            " [1.2861432 ]\n",
            " [1.6170382 ]\n",
            " [1.8677604 ]\n",
            " [1.8432844 ]\n",
            " [1.5245016 ]\n",
            " [1.795291  ]\n",
            " [1.5640404 ]\n",
            " [1.5834577 ]\n",
            " [1.5144665 ]\n",
            " [1.5575109 ]\n",
            " [1.5967631 ]\n",
            " [1.5510828 ]\n",
            " [1.1384706 ]\n",
            " [1.5831757 ]\n",
            " [0.8740934 ]\n",
            " [1.74383   ]\n",
            " [1.1423872 ]\n",
            " [1.7418272 ]\n",
            " [1.9813232 ]\n",
            " [0.89632654]\n",
            " [1.5533769 ]\n",
            " [0.9911747 ]\n",
            " [1.973165  ]\n",
            " [1.7747827 ]\n",
            " [1.2238377 ]\n",
            " [1.3200405 ]\n",
            " [0.8752613 ]\n",
            " [1.0163418 ]\n",
            " [1.1108847 ]\n",
            " [1.7774992 ]\n",
            " [1.4128215 ]\n",
            " [1.5450612 ]\n",
            " [1.0914675 ]\n",
            " [1.9119625 ]\n",
            " [1.8333814 ]\n",
            " [0.9048475 ]\n",
            " [1.1885444 ]\n",
            " [1.6320643 ]\n",
            " [1.9445169 ]\n",
            " [1.835177  ]\n",
            " [1.1975405 ]\n",
            " [1.3456409 ]\n",
            " [1.7985387 ]\n",
            " [1.4302837 ]\n",
            " [1.3861063 ]\n",
            " [1.6829431 ]\n",
            " [1.8637667 ]\n",
            " [1.7140434 ]\n",
            " [1.2315986 ]\n",
            " [1.6368046 ]\n",
            " [1.507287  ]\n",
            " [1.3647954 ]\n",
            " [1.1908416 ]\n",
            " [1.2974815 ]\n",
            " [1.9076626 ]\n",
            " [1.9448524 ]\n",
            " [1.8716886 ]\n",
            " [1.2167041 ]\n",
            " [1.6838176 ]\n",
            " [1.8596892 ]\n",
            " [1.8289809 ]\n",
            " [1.4599497 ]\n",
            " [1.577003  ]\n",
            " [1.7450576 ]\n",
            " [1.4963274 ]\n",
            " [1.0761437 ]\n",
            " [1.5040114 ]\n",
            " [1.6320479 ]\n",
            " [1.6092098 ]\n",
            " [1.1318762 ]\n",
            " [1.8144188 ]\n",
            " [1.8269193 ]\n",
            " [1.7132065 ]\n",
            " [1.2945215 ]\n",
            " [1.6835134 ]\n",
            " [1.0169946 ]\n",
            " [1.5828247 ]\n",
            " [1.2307773 ]\n",
            " [1.8820851 ]\n",
            " [2.0243063 ]\n",
            " [1.6721839 ]\n",
            " [1.3375359 ]\n",
            " [1.4990728 ]\n",
            " [1.3280463 ]\n",
            " [1.4580884 ]\n",
            " [1.6905088 ]\n",
            " [1.2245736 ]\n",
            " [1.3245826 ]\n",
            " [1.5050564 ]\n",
            " [1.4738674 ]\n",
            " [1.7800953 ]\n",
            " [1.9182131 ]\n",
            " [1.8703742 ]\n",
            " [1.6393929 ]\n",
            " [1.4353004 ]\n",
            " [1.3923495 ]\n",
            " [2.016611  ]\n",
            " [1.7695878 ]\n",
            " [1.2139443 ]\n",
            " [1.5518727 ]\n",
            " [1.5993512 ]\n",
            " [1.7253423 ]\n",
            " [1.6096249 ]\n",
            " [1.8290498 ]\n",
            " [1.5046523 ]\n",
            " [1.845087  ]\n",
            " [1.8527305 ]\n",
            " [1.9037755 ]\n",
            " [1.7755511 ]\n",
            " [1.6134706 ]\n",
            " [1.5053754 ]\n",
            " [1.805825  ]\n",
            " [1.6998196 ]\n",
            " [1.3008841 ]\n",
            " [1.4246335 ]\n",
            " [1.6676345 ]\n",
            " [0.940068  ]\n",
            " [1.3223042 ]\n",
            " [1.6381693 ]\n",
            " [1.00003   ]\n",
            " [1.3085599 ]\n",
            " [1.442544  ]\n",
            " [1.652247  ]\n",
            " [1.3612902 ]\n",
            " [1.451359  ]\n",
            " [1.4751542 ]\n",
            " [1.787102  ]\n",
            " [1.3588023 ]\n",
            " [1.8367677 ]\n",
            " [1.8998692 ]\n",
            " [1.7337189 ]\n",
            " [1.8886151 ]\n",
            " [2.0435152 ]\n",
            " [1.9802077 ]\n",
            " [1.4083664 ]\n",
            " [1.2766485 ]\n",
            " [1.9090917 ]\n",
            " [1.3714714 ]\n",
            " [1.8002999 ]\n",
            " [1.7254908 ]]\n"
          ]
        }
      ]
    },
    {
      "cell_type": "code",
      "metadata": {
        "id": "1jULhH9frtYS"
      },
      "source": [
        "print(untreated_value)"
      ],
      "execution_count": null,
      "outputs": []
    },
    {
      "cell_type": "code",
      "metadata": {
        "colab": {
          "base_uri": "https://localhost:8080/"
        },
        "id": "ueOGdvnintg6",
        "outputId": "97e2ea7b-ec20-4761-d163-98d10acd15f7"
      },
      "source": [
        "hr_untreated = [np.exp(i) for i in untreated_value[1:]]\n",
        "hr_treated = [np.exp(i) for i in treated_value[1:]]\n",
        "hyunbin = [i/j for i,j in zip(hr_treated, hr_untreated)]\n",
        "print(hyunbin)\n",
        "\n",
        "li = []\n",
        "for i in range(len(hyunbin)):\n",
        "  li.append([hyunbin[i], i])\n",
        "print(li)\n",
        "li.sort()\n",
        "sort_index = []\n",
        "for x in li:\n",
        "  sort_index.append(x[1])\n",
        "print(sort_index[290:])\n",
        "print(li[290:])\n",
        "\n"
      ],
      "execution_count": null,
      "outputs": [
        {
          "output_type": "stream",
          "name": "stdout",
          "text": [
            "[array([7.983142], dtype=float32), array([15.257143], dtype=float32), array([7.7450256], dtype=float32), array([8.7101965], dtype=float32), array([12.442802], dtype=float32), array([5.5459347], dtype=float32), array([13.194865], dtype=float32), array([10.050526], dtype=float32), array([11.171395], dtype=float32), array([14.404741], dtype=float32), array([9.0884075], dtype=float32), array([10.220311], dtype=float32), array([12.273939], dtype=float32), array([6.885257], dtype=float32), array([9.072856], dtype=float32), array([14.861306], dtype=float32), array([8.908974], dtype=float32), array([11.960909], dtype=float32), array([8.2829485], dtype=float32), array([13.121654], dtype=float32), array([9.227385], dtype=float32), array([10.276898], dtype=float32), array([13.066428], dtype=float32), array([6.9214344], dtype=float32), array([10.807192], dtype=float32), array([10.139263], dtype=float32), array([9.339791], dtype=float32), array([6.309644], dtype=float32), array([6.706705], dtype=float32), array([10.430444], dtype=float32), array([8.503836], dtype=float32), array([11.372761], dtype=float32), array([5.828066], dtype=float32), array([8.027], dtype=float32), array([4.4520497], dtype=float32), array([13.988786], dtype=float32), array([14.845024], dtype=float32), array([6.4575763], dtype=float32), array([9.174717], dtype=float32), array([4.6750884], dtype=float32), array([7.4055634], dtype=float32), array([16.376705], dtype=float32), array([9.032708], dtype=float32), array([11.30359], dtype=float32), array([5.505185], dtype=float32), array([6.7405305], dtype=float32), array([8.4433365], dtype=float32), array([10.329656], dtype=float32), array([7.2298617], dtype=float32), array([7.8644147], dtype=float32), array([8.669055], dtype=float32), array([7.2944956], dtype=float32), array([14.346584], dtype=float32), array([4.5411987], dtype=float32), array([10.463908], dtype=float32), array([12.334743], dtype=float32), array([9.033291], dtype=float32), array([9.048719], dtype=float32), array([9.462276], dtype=float32), array([12.279715], dtype=float32), array([14.729271], dtype=float32), array([8.540409], dtype=float32), array([14.4944725], dtype=float32), array([12.6258955], dtype=float32), array([14.659776], dtype=float32), array([17.19005], dtype=float32), array([9.270038], dtype=float32), array([15.874146], dtype=float32), array([11.646846], dtype=float32), array([6.2534456], dtype=float32), array([14.3356495], dtype=float32), array([8.5494795], dtype=float32), array([12.737429], dtype=float32), array([8.239713], dtype=float32), array([7.027338], dtype=float32), array([10.766444], dtype=float32), array([13.508096], dtype=float32), array([10.873465], dtype=float32), array([12.345407], dtype=float32), array([8.634425], dtype=float32), array([11.74279], dtype=float32), array([6.234895], dtype=float32), array([9.27941], dtype=float32), array([10.321958], dtype=float32), array([7.760729], dtype=float32), array([11.415682], dtype=float32), array([7.421552], dtype=float32), array([5.0441027], dtype=float32), array([9.483227], dtype=float32), array([10.874929], dtype=float32), array([13.110198], dtype=float32), array([9.497188], dtype=float32), array([7.579184], dtype=float32), array([10.938627], dtype=float32), array([11.002384], dtype=float32), array([12.80083], dtype=float32), array([6.952554], dtype=float32), array([10.633927], dtype=float32), array([10.668007], dtype=float32), array([4.9405227], dtype=float32), array([9.887667], dtype=float32), array([9.515752], dtype=float32), array([13.041488], dtype=float32), array([13.874731], dtype=float32), array([9.481084], dtype=float32), array([12.441273], dtype=float32), array([4.209367], dtype=float32), array([11.478535], dtype=float32), array([12.512986], dtype=float32), array([13.280786], dtype=float32), array([9.446327], dtype=float32), array([8.524313], dtype=float32), array([9.393087], dtype=float32), array([6.4783306], dtype=float32), array([10.829825], dtype=float32), array([9.226541], dtype=float32), array([12.230883], dtype=float32), array([10.566179], dtype=float32), array([11.632479], dtype=float32), array([9.037325], dtype=float32), array([8.413509], dtype=float32), array([7.9032426], dtype=float32), array([8.314908], dtype=float32), array([12.392132], dtype=float32), array([10.465575], dtype=float32), array([9.549988], dtype=float32), array([8.954231], dtype=float32), array([11.388816], dtype=float32), array([12.2396965], dtype=float32), array([9.151653], dtype=float32), array([6.6064286], dtype=float32), array([10.51508], dtype=float32), array([5.431845], dtype=float32), array([11.191775], dtype=float32), array([5.7292886], dtype=float32), array([4.631529], dtype=float32), array([4.5698886], dtype=float32), array([8.468764], dtype=float32), array([11.980795], dtype=float32), array([10.670544], dtype=float32), array([7.79117], dtype=float32), array([9.529957], dtype=float32), array([7.387793], dtype=float32), array([11.588889], dtype=float32), array([12.467], dtype=float32), array([13.723769], dtype=float32), array([10.005922], dtype=float32), array([5.74021], dtype=float32), array([7.804632], dtype=float32), array([10.165196], dtype=float32), array([6.625267], dtype=float32), array([6.4470444], dtype=float32), array([10.932029], dtype=float32), array([10.42965], dtype=float32), array([6.363348], dtype=float32), array([11.15473], dtype=float32), array([11.2648], dtype=float32), array([17.407728], dtype=float32), array([7.8660684], dtype=float32), array([6.977122], dtype=float32), array([6.7259355], dtype=float32), array([9.840017], dtype=float32), array([14.755562], dtype=float32), array([12.7038555], dtype=float32), array([9.5683565], dtype=float32), array([10.896764], dtype=float32), array([9.921031], dtype=float32), array([9.047339], dtype=float32), array([8.771175], dtype=float32), array([9.984611], dtype=float32), array([10.781118], dtype=float32), array([10.354873], dtype=float32), array([6.2214212], dtype=float32), array([9.857572], dtype=float32), array([4.0769763], dtype=float32), array([14.020086], dtype=float32), array([7.4674892], dtype=float32), array([12.668688], dtype=float32), array([15.156125], dtype=float32), array([5.586984], dtype=float32), array([10.3812], dtype=float32), array([5.6709423], dtype=float32), array([14.963964], dtype=float32), array([13.749117], dtype=float32), array([7.3158937], dtype=float32), array([8.787944], dtype=float32), array([4.890217], dtype=float32), array([5.720835], dtype=float32), array([6.5562057], dtype=float32), array([12.380274], dtype=float32), array([8.358283], dtype=float32), array([8.331008], dtype=float32), array([6.379483], dtype=float32), array([14.436573], dtype=float32), array([12.614825], dtype=float32), array([5.0759478], dtype=float32), array([5.827833], dtype=float32), array([10.893253], dtype=float32), array([13.7077], dtype=float32), array([11.921707], dtype=float32), array([7.5572047], dtype=float32), array([7.189731], dtype=float32), array([13.693852], dtype=float32), array([10.113615], dtype=float32), array([9.110576], dtype=float32), array([10.538318], dtype=float32), array([13.041558], dtype=float32), array([11.14036], dtype=float32), array([6.7028503], dtype=float32), array([11.352044], dtype=float32), array([9.2660055], dtype=float32), array([9.982269], dtype=float32), array([6.528601], dtype=float32), array([6.0827947], dtype=float32), array([14.632316], dtype=float32), array([14.758893], dtype=float32), array([12.653075], dtype=float32), array([6.7307396], dtype=float32), array([11.499564], dtype=float32), array([12.228901], dtype=float32), array([11.899373], dtype=float32), array([10.454003], dtype=float32), array([8.634245], dtype=float32), array([13.215741], dtype=float32), array([8.442198], dtype=float32), array([5.66027], dtype=float32), array([10.061192], dtype=float32), array([10.878164], dtype=float32), array([9.567756], dtype=float32), array([6.2731395], dtype=float32), array([12.820415], dtype=float32), array([17.041319], dtype=float32), array([11.462227], dtype=float32), array([7.6839285], dtype=float32), array([10.21543], dtype=float32), array([6.0770316], dtype=float32), array([9.3915825], dtype=float32), array([6.8001704], dtype=float32), array([13.715652], dtype=float32), array([14.430168], dtype=float32), array([10.157653], dtype=float32), array([8.593806], dtype=float32), array([9.461367], dtype=float32), array([8.281509], dtype=float32), array([8.497726], dtype=float32), array([12.328495], dtype=float32), array([6.923885], dtype=float32), array([8.191878], dtype=float32), array([9.009952], dtype=float32), array([9.1293545], dtype=float32), array([11.882247], dtype=float32), array([12.294225], dtype=float32), array([13.320084], dtype=float32), array([12.913347], dtype=float32), array([8.400779], dtype=float32), array([9.0390215], dtype=float32), array([15.281946], dtype=float32), array([10.186845], dtype=float32), array([7.286899], dtype=float32), array([9.592364], dtype=float32), array([10.378993], dtype=float32), array([11.683219], dtype=float32), array([10.687966], dtype=float32), array([11.87205], dtype=float32), array([7.966722], dtype=float32), array([13.031232], dtype=float32), array([12.80836], dtype=float32), array([11.253937], dtype=float32), array([11.5914135], dtype=float32), array([9.887297], dtype=float32), array([9.2162695], dtype=float32), array([13.2435665], dtype=float32), array([10.624005], dtype=float32), array([6.7462816], dtype=float32), array([8.446147], dtype=float32), array([10.369783], dtype=float32), array([4.5952654], dtype=float32), array([7.390205], dtype=float32), array([11.309905], dtype=float32), array([5.0731587], dtype=float32), array([7.334518], dtype=float32), array([9.007253], dtype=float32), array([11.501784], dtype=float32), array([8.188945], dtype=float32), array([8.515794], dtype=float32), array([9.407966], dtype=float32), array([12.496638], dtype=float32), array([8.227569], dtype=float32), array([12.348004], dtype=float32), array([12.520083], dtype=float32), array([12.978428], dtype=float32), array([11.912301], dtype=float32), array([17.083448], dtype=float32), array([15.70726], dtype=float32), array([8.126342], dtype=float32), array([7.2872634], dtype=float32), array([13.834683], dtype=float32), array([7.666714], dtype=float32), array([13.610325], dtype=float32), array([12.361111], dtype=float32)]\n",
            "[[array([7.983142], dtype=float32), 0], [array([15.257143], dtype=float32), 1], [array([7.7450256], dtype=float32), 2], [array([8.7101965], dtype=float32), 3], [array([12.442802], dtype=float32), 4], [array([5.5459347], dtype=float32), 5], [array([13.194865], dtype=float32), 6], [array([10.050526], dtype=float32), 7], [array([11.171395], dtype=float32), 8], [array([14.404741], dtype=float32), 9], [array([9.0884075], dtype=float32), 10], [array([10.220311], dtype=float32), 11], [array([12.273939], dtype=float32), 12], [array([6.885257], dtype=float32), 13], [array([9.072856], dtype=float32), 14], [array([14.861306], dtype=float32), 15], [array([8.908974], dtype=float32), 16], [array([11.960909], dtype=float32), 17], [array([8.2829485], dtype=float32), 18], [array([13.121654], dtype=float32), 19], [array([9.227385], dtype=float32), 20], [array([10.276898], dtype=float32), 21], [array([13.066428], dtype=float32), 22], [array([6.9214344], dtype=float32), 23], [array([10.807192], dtype=float32), 24], [array([10.139263], dtype=float32), 25], [array([9.339791], dtype=float32), 26], [array([6.309644], dtype=float32), 27], [array([6.706705], dtype=float32), 28], [array([10.430444], dtype=float32), 29], [array([8.503836], dtype=float32), 30], [array([11.372761], dtype=float32), 31], [array([5.828066], dtype=float32), 32], [array([8.027], dtype=float32), 33], [array([4.4520497], dtype=float32), 34], [array([13.988786], dtype=float32), 35], [array([14.845024], dtype=float32), 36], [array([6.4575763], dtype=float32), 37], [array([9.174717], dtype=float32), 38], [array([4.6750884], dtype=float32), 39], [array([7.4055634], dtype=float32), 40], [array([16.376705], dtype=float32), 41], [array([9.032708], dtype=float32), 42], [array([11.30359], dtype=float32), 43], [array([5.505185], dtype=float32), 44], [array([6.7405305], dtype=float32), 45], [array([8.4433365], dtype=float32), 46], [array([10.329656], dtype=float32), 47], [array([7.2298617], dtype=float32), 48], [array([7.8644147], dtype=float32), 49], [array([8.669055], dtype=float32), 50], [array([7.2944956], dtype=float32), 51], [array([14.346584], dtype=float32), 52], [array([4.5411987], dtype=float32), 53], [array([10.463908], dtype=float32), 54], [array([12.334743], dtype=float32), 55], [array([9.033291], dtype=float32), 56], [array([9.048719], dtype=float32), 57], [array([9.462276], dtype=float32), 58], [array([12.279715], dtype=float32), 59], [array([14.729271], dtype=float32), 60], [array([8.540409], dtype=float32), 61], [array([14.4944725], dtype=float32), 62], [array([12.6258955], dtype=float32), 63], [array([14.659776], dtype=float32), 64], [array([17.19005], dtype=float32), 65], [array([9.270038], dtype=float32), 66], [array([15.874146], dtype=float32), 67], [array([11.646846], dtype=float32), 68], [array([6.2534456], dtype=float32), 69], [array([14.3356495], dtype=float32), 70], [array([8.5494795], dtype=float32), 71], [array([12.737429], dtype=float32), 72], [array([8.239713], dtype=float32), 73], [array([7.027338], dtype=float32), 74], [array([10.766444], dtype=float32), 75], [array([13.508096], dtype=float32), 76], [array([10.873465], dtype=float32), 77], [array([12.345407], dtype=float32), 78], [array([8.634425], dtype=float32), 79], [array([11.74279], dtype=float32), 80], [array([6.234895], dtype=float32), 81], [array([9.27941], dtype=float32), 82], [array([10.321958], dtype=float32), 83], [array([7.760729], dtype=float32), 84], [array([11.415682], dtype=float32), 85], [array([7.421552], dtype=float32), 86], [array([5.0441027], dtype=float32), 87], [array([9.483227], dtype=float32), 88], [array([10.874929], dtype=float32), 89], [array([13.110198], dtype=float32), 90], [array([9.497188], dtype=float32), 91], [array([7.579184], dtype=float32), 92], [array([10.938627], dtype=float32), 93], [array([11.002384], dtype=float32), 94], [array([12.80083], dtype=float32), 95], [array([6.952554], dtype=float32), 96], [array([10.633927], dtype=float32), 97], [array([10.668007], dtype=float32), 98], [array([4.9405227], dtype=float32), 99], [array([9.887667], dtype=float32), 100], [array([9.515752], dtype=float32), 101], [array([13.041488], dtype=float32), 102], [array([13.874731], dtype=float32), 103], [array([9.481084], dtype=float32), 104], [array([12.441273], dtype=float32), 105], [array([4.209367], dtype=float32), 106], [array([11.478535], dtype=float32), 107], [array([12.512986], dtype=float32), 108], [array([13.280786], dtype=float32), 109], [array([9.446327], dtype=float32), 110], [array([8.524313], dtype=float32), 111], [array([9.393087], dtype=float32), 112], [array([6.4783306], dtype=float32), 113], [array([10.829825], dtype=float32), 114], [array([9.226541], dtype=float32), 115], [array([12.230883], dtype=float32), 116], [array([10.566179], dtype=float32), 117], [array([11.632479], dtype=float32), 118], [array([9.037325], dtype=float32), 119], [array([8.413509], dtype=float32), 120], [array([7.9032426], dtype=float32), 121], [array([8.314908], dtype=float32), 122], [array([12.392132], dtype=float32), 123], [array([10.465575], dtype=float32), 124], [array([9.549988], dtype=float32), 125], [array([8.954231], dtype=float32), 126], [array([11.388816], dtype=float32), 127], [array([12.2396965], dtype=float32), 128], [array([9.151653], dtype=float32), 129], [array([6.6064286], dtype=float32), 130], [array([10.51508], dtype=float32), 131], [array([5.431845], dtype=float32), 132], [array([11.191775], dtype=float32), 133], [array([5.7292886], dtype=float32), 134], [array([4.631529], dtype=float32), 135], [array([4.5698886], dtype=float32), 136], [array([8.468764], dtype=float32), 137], [array([11.980795], dtype=float32), 138], [array([10.670544], dtype=float32), 139], [array([7.79117], dtype=float32), 140], [array([9.529957], dtype=float32), 141], [array([7.387793], dtype=float32), 142], [array([11.588889], dtype=float32), 143], [array([12.467], dtype=float32), 144], [array([13.723769], dtype=float32), 145], [array([10.005922], dtype=float32), 146], [array([5.74021], dtype=float32), 147], [array([7.804632], dtype=float32), 148], [array([10.165196], dtype=float32), 149], [array([6.625267], dtype=float32), 150], [array([6.4470444], dtype=float32), 151], [array([10.932029], dtype=float32), 152], [array([10.42965], dtype=float32), 153], [array([6.363348], dtype=float32), 154], [array([11.15473], dtype=float32), 155], [array([11.2648], dtype=float32), 156], [array([17.407728], dtype=float32), 157], [array([7.8660684], dtype=float32), 158], [array([6.977122], dtype=float32), 159], [array([6.7259355], dtype=float32), 160], [array([9.840017], dtype=float32), 161], [array([14.755562], dtype=float32), 162], [array([12.7038555], dtype=float32), 163], [array([9.5683565], dtype=float32), 164], [array([10.896764], dtype=float32), 165], [array([9.921031], dtype=float32), 166], [array([9.047339], dtype=float32), 167], [array([8.771175], dtype=float32), 168], [array([9.984611], dtype=float32), 169], [array([10.781118], dtype=float32), 170], [array([10.354873], dtype=float32), 171], [array([6.2214212], dtype=float32), 172], [array([9.857572], dtype=float32), 173], [array([4.0769763], dtype=float32), 174], [array([14.020086], dtype=float32), 175], [array([7.4674892], dtype=float32), 176], [array([12.668688], dtype=float32), 177], [array([15.156125], dtype=float32), 178], [array([5.586984], dtype=float32), 179], [array([10.3812], dtype=float32), 180], [array([5.6709423], dtype=float32), 181], [array([14.963964], dtype=float32), 182], [array([13.749117], dtype=float32), 183], [array([7.3158937], dtype=float32), 184], [array([8.787944], dtype=float32), 185], [array([4.890217], dtype=float32), 186], [array([5.720835], dtype=float32), 187], [array([6.5562057], dtype=float32), 188], [array([12.380274], dtype=float32), 189], [array([8.358283], dtype=float32), 190], [array([8.331008], dtype=float32), 191], [array([6.379483], dtype=float32), 192], [array([14.436573], dtype=float32), 193], [array([12.614825], dtype=float32), 194], [array([5.0759478], dtype=float32), 195], [array([5.827833], dtype=float32), 196], [array([10.893253], dtype=float32), 197], [array([13.7077], dtype=float32), 198], [array([11.921707], dtype=float32), 199], [array([7.5572047], dtype=float32), 200], [array([7.189731], dtype=float32), 201], [array([13.693852], dtype=float32), 202], [array([10.113615], dtype=float32), 203], [array([9.110576], dtype=float32), 204], [array([10.538318], dtype=float32), 205], [array([13.041558], dtype=float32), 206], [array([11.14036], dtype=float32), 207], [array([6.7028503], dtype=float32), 208], [array([11.352044], dtype=float32), 209], [array([9.2660055], dtype=float32), 210], [array([9.982269], dtype=float32), 211], [array([6.528601], dtype=float32), 212], [array([6.0827947], dtype=float32), 213], [array([14.632316], dtype=float32), 214], [array([14.758893], dtype=float32), 215], [array([12.653075], dtype=float32), 216], [array([6.7307396], dtype=float32), 217], [array([11.499564], dtype=float32), 218], [array([12.228901], dtype=float32), 219], [array([11.899373], dtype=float32), 220], [array([10.454003], dtype=float32), 221], [array([8.634245], dtype=float32), 222], [array([13.215741], dtype=float32), 223], [array([8.442198], dtype=float32), 224], [array([5.66027], dtype=float32), 225], [array([10.061192], dtype=float32), 226], [array([10.878164], dtype=float32), 227], [array([9.567756], dtype=float32), 228], [array([6.2731395], dtype=float32), 229], [array([12.820415], dtype=float32), 230], [array([17.041319], dtype=float32), 231], [array([11.462227], dtype=float32), 232], [array([7.6839285], dtype=float32), 233], [array([10.21543], dtype=float32), 234], [array([6.0770316], dtype=float32), 235], [array([9.3915825], dtype=float32), 236], [array([6.8001704], dtype=float32), 237], [array([13.715652], dtype=float32), 238], [array([14.430168], dtype=float32), 239], [array([10.157653], dtype=float32), 240], [array([8.593806], dtype=float32), 241], [array([9.461367], dtype=float32), 242], [array([8.281509], dtype=float32), 243], [array([8.497726], dtype=float32), 244], [array([12.328495], dtype=float32), 245], [array([6.923885], dtype=float32), 246], [array([8.191878], dtype=float32), 247], [array([9.009952], dtype=float32), 248], [array([9.1293545], dtype=float32), 249], [array([11.882247], dtype=float32), 250], [array([12.294225], dtype=float32), 251], [array([13.320084], dtype=float32), 252], [array([12.913347], dtype=float32), 253], [array([8.400779], dtype=float32), 254], [array([9.0390215], dtype=float32), 255], [array([15.281946], dtype=float32), 256], [array([10.186845], dtype=float32), 257], [array([7.286899], dtype=float32), 258], [array([9.592364], dtype=float32), 259], [array([10.378993], dtype=float32), 260], [array([11.683219], dtype=float32), 261], [array([10.687966], dtype=float32), 262], [array([11.87205], dtype=float32), 263], [array([7.966722], dtype=float32), 264], [array([13.031232], dtype=float32), 265], [array([12.80836], dtype=float32), 266], [array([11.253937], dtype=float32), 267], [array([11.5914135], dtype=float32), 268], [array([9.887297], dtype=float32), 269], [array([9.2162695], dtype=float32), 270], [array([13.2435665], dtype=float32), 271], [array([10.624005], dtype=float32), 272], [array([6.7462816], dtype=float32), 273], [array([8.446147], dtype=float32), 274], [array([10.369783], dtype=float32), 275], [array([4.5952654], dtype=float32), 276], [array([7.390205], dtype=float32), 277], [array([11.309905], dtype=float32), 278], [array([5.0731587], dtype=float32), 279], [array([7.334518], dtype=float32), 280], [array([9.007253], dtype=float32), 281], [array([11.501784], dtype=float32), 282], [array([8.188945], dtype=float32), 283], [array([8.515794], dtype=float32), 284], [array([9.407966], dtype=float32), 285], [array([12.496638], dtype=float32), 286], [array([8.227569], dtype=float32), 287], [array([12.348004], dtype=float32), 288], [array([12.520083], dtype=float32), 289], [array([12.978428], dtype=float32), 290], [array([11.912301], dtype=float32), 291], [array([17.083448], dtype=float32), 292], [array([15.70726], dtype=float32), 293], [array([8.126342], dtype=float32), 294], [array([7.2872634], dtype=float32), 295], [array([13.834683], dtype=float32), 296], [array([7.666714], dtype=float32), 297], [array([13.610325], dtype=float32), 298], [array([12.361111], dtype=float32), 299]]\n",
            "[178, 1, 256, 293, 67, 41, 231, 292, 65, 157]\n",
            "[[array([15.156125], dtype=float32), 178], [array([15.257143], dtype=float32), 1], [array([15.281946], dtype=float32), 256], [array([15.70726], dtype=float32), 293], [array([15.874146], dtype=float32), 67], [array([16.376705], dtype=float32), 41], [array([17.041319], dtype=float32), 231], [array([17.083448], dtype=float32), 292], [array([17.19005], dtype=float32), 65], [array([17.407728], dtype=float32), 157]]\n"
          ]
        }
      ]
    },
    {
      "cell_type": "code",
      "metadata": {
        "colab": {
          "base_uri": "https://localhost:8080/"
        },
        "id": "PwS1vP78tTOP",
        "outputId": "9a7a0813-bf60-4b8b-f2df-3bccd3e19f08"
      },
      "source": [
        "print(hr_untreated)"
      ],
      "execution_count": null,
      "outputs": [
        {
          "output_type": "stream",
          "name": "stdout",
          "text": [
            "[array([0.47602767], dtype=float32), array([0.4389894], dtype=float32), array([0.4869493], dtype=float32), array([0.4847879], dtype=float32), array([0.4749479], dtype=float32), array([0.49799225], dtype=float32), array([0.46722397], dtype=float32), array([0.5027747], dtype=float32), array([0.4960145], dtype=float32), array([0.48608148], dtype=float32), array([0.5118895], dtype=float32), array([0.55239016], dtype=float32), array([0.44340762], dtype=float32), array([0.41762006], dtype=float32), array([0.47389895], dtype=float32), array([0.48379818], dtype=float32), array([0.42218906], dtype=float32), array([0.50817937], dtype=float32), array([0.51372766], dtype=float32), array([0.44932562], dtype=float32), array([0.45573437], dtype=float32), array([0.4824669], dtype=float32), array([0.42868435], dtype=float32), array([0.49276757], dtype=float32), array([0.49786443], dtype=float32), array([0.5461077], dtype=float32), array([0.44600308], dtype=float32), array([0.4824719], dtype=float32), array([0.5170198], dtype=float32), array([0.53012335], dtype=float32), array([0.5698197], dtype=float32), array([0.50734717], dtype=float32), array([0.5283374], dtype=float32), array([0.38586718], dtype=float32), array([0.41702002], dtype=float32), array([0.4179072], dtype=float32), array([0.45164043], dtype=float32), array([0.5481394], dtype=float32), array([0.46598452], dtype=float32), array([0.49064043], dtype=float32), array([0.5132655], dtype=float32), array([0.416871], dtype=float32), array([0.46308228], dtype=float32), array([0.43722954], dtype=float32), array([0.53401375], dtype=float32), array([0.52798086], dtype=float32), array([0.49399754], dtype=float32), array([0.4689297], dtype=float32), array([0.45756716], dtype=float32), array([0.5034508], dtype=float32), array([0.4353992], dtype=float32), array([0.54461867], dtype=float32), array([0.42886233], dtype=float32), array([0.41639963], dtype=float32), array([0.5013237], dtype=float32), array([0.44102734], dtype=float32), array([0.46003926], dtype=float32), array([0.5115934], dtype=float32), array([0.46874854], dtype=float32), array([0.48805797], dtype=float32), array([0.43626094], dtype=float32), array([0.4847964], dtype=float32), array([0.50399554], dtype=float32), array([0.47052947], dtype=float32), array([0.48678508], dtype=float32), array([0.4510171], dtype=float32), array([0.57254124], dtype=float32), array([0.43480524], dtype=float32), array([0.4871844], dtype=float32), array([0.48712873], dtype=float32), array([0.4329678], dtype=float32), array([0.54396313], dtype=float32), array([0.4562157], dtype=float32), array([0.5974495], dtype=float32), array([0.4644996], dtype=float32), array([0.4522258], dtype=float32), array([0.5333002], dtype=float32), array([0.4498405], dtype=float32), array([0.46908367], dtype=float32), array([0.5364358], dtype=float32), array([0.42511156], dtype=float32), array([0.5011899], dtype=float32), array([0.54690015], dtype=float32), array([0.48335558], dtype=float32), array([0.5030593], dtype=float32), array([0.48278907], dtype=float32), array([0.47292328], dtype=float32), array([0.499086], dtype=float32), array([0.48015004], dtype=float32), array([0.50849235], dtype=float32), array([0.406492], dtype=float32), array([0.48929304], dtype=float32), array([0.53973466], dtype=float32), array([0.4516489], dtype=float32), array([0.427098], dtype=float32), array([0.4565515], dtype=float32), array([0.45747003], dtype=float32), array([0.4896884], dtype=float32), array([0.52596897], dtype=float32), array([0.4980738], dtype=float32), array([0.44402516], dtype=float32), array([0.45702884], dtype=float32), array([0.43267515], dtype=float32), array([0.41820976], dtype=float32), array([0.49667206], dtype=float32), array([0.5115757], dtype=float32), array([0.51387644], dtype=float32), array([0.45958182], dtype=float32), array([0.5089821], dtype=float32), array([0.43928164], dtype=float32), array([0.4745418], dtype=float32), array([0.48348838], dtype=float32), array([0.46305248], dtype=float32), array([0.47745243], dtype=float32), array([0.4657783], dtype=float32), array([0.4420507], dtype=float32), array([0.47967428], dtype=float32), array([0.4721088], dtype=float32), array([0.4265571], dtype=float32), array([0.4557192], dtype=float32), array([0.45121807], dtype=float32), array([0.49857345], dtype=float32), array([0.5309231], dtype=float32), array([0.5012291], dtype=float32), array([0.44875395], dtype=float32), array([0.46052572], dtype=float32), array([0.4735464], dtype=float32), array([0.52752006], dtype=float32), array([0.5151349], dtype=float32), array([0.43920103], dtype=float32), array([0.50304097], dtype=float32), array([0.56055516], dtype=float32), array([0.53701216], dtype=float32), array([0.54976714], dtype=float32), array([0.5866823], dtype=float32), array([0.5017651], dtype=float32), array([0.48632848], dtype=float32), array([0.48086783], dtype=float32), array([0.40004835], dtype=float32), array([0.44632924], dtype=float32), array([0.43695346], dtype=float32), array([0.49055186], dtype=float32), array([0.44667906], dtype=float32), array([0.5424618], dtype=float32), array([0.47098702], dtype=float32), array([0.44275874], dtype=float32), array([0.6185807], dtype=float32), array([0.48100162], dtype=float32), array([0.5013408], dtype=float32), array([0.47529006], dtype=float32), array([0.4952498], dtype=float32), array([0.47693288], dtype=float32), array([0.43025023], dtype=float32), array([0.45226678], dtype=float32), array([0.46611202], dtype=float32), array([0.4590944], dtype=float32), array([0.4589015], dtype=float32), array([0.47495726], dtype=float32), array([0.45265305], dtype=float32), array([0.43708107], dtype=float32), array([0.53803706], dtype=float32), array([0.51200587], dtype=float32), array([0.438735], dtype=float32), array([0.49727046], dtype=float32), array([0.48000446], dtype=float32), array([0.55257016], dtype=float32), array([0.481612], dtype=float32), array([0.53847563], dtype=float32), array([0.518402], dtype=float32), array([0.47543073], dtype=float32), array([0.45793265], dtype=float32), array([0.45549327], dtype=float32), array([0.50181293], dtype=float32), array([0.49407685], dtype=float32), array([0.5878625], dtype=float32), array([0.4079294], dtype=float32), array([0.41971827], dtype=float32), array([0.45054096], dtype=float32), array([0.4785084], dtype=float32), array([0.43862382], dtype=float32), array([0.45538154], dtype=float32), array([0.47512344], dtype=float32), array([0.48071536], dtype=float32), array([0.42904565], dtype=float32), array([0.46477053], dtype=float32), array([0.42598963], dtype=float32), array([0.49067402], dtype=float32), array([0.48298338], dtype=float32), array([0.46323195], dtype=float32), array([0.47777987], dtype=float32), array([0.4914321], dtype=float32), array([0.5627481], dtype=float32), array([0.4669096], dtype=float32), array([0.46869537], dtype=float32), array([0.4958453], dtype=float32), array([0.48691496], dtype=float32), array([0.5632111], dtype=float32), array([0.4695036], dtype=float32), array([0.5099509], dtype=float32), array([0.5256162], dtype=float32), array([0.43825212], dtype=float32), array([0.5341851], dtype=float32), array([0.4411332], dtype=float32), array([0.41329283], dtype=float32), array([0.4389676], dtype=float32), array([0.510648], dtype=float32), array([0.4944178], dtype=float32), array([0.49831086], dtype=float32), array([0.51123077], dtype=float32), array([0.45266938], dtype=float32), array([0.4872074], dtype=float32), array([0.39218757], dtype=float32), array([0.5039133], dtype=float32), array([0.6017082], dtype=float32), array([0.46044132], dtype=float32), array([0.47378886], dtype=float32), array([0.5136508], dtype=float32), array([0.5015856], dtype=float32), array([0.46837243], dtype=float32), array([0.5251282], dtype=float32), array([0.52335], dtype=float32), array([0.41187507], dtype=float32), array([0.5606081], dtype=float32), array([0.43328863], dtype=float32), array([0.5289215], dtype=float32), array([0.51823425], dtype=float32), array([0.44723362], dtype=float32), array([0.4701471], dtype=float32), array([0.5224694], dtype=float32), array([0.49440476], dtype=float32), array([0.47872928], dtype=float32), array([0.36468488], dtype=float32), array([0.48391283], dtype=float32), array([0.4749197], dtype=float32), array([0.52708894], dtype=float32), array([0.45497096], dtype=float32), array([0.51840985], dtype=float32), array([0.5035006], dtype=float32), array([0.47880942], dtype=float32), array([0.5246548], dtype=float32), array([0.5241153], dtype=float32), array([0.44330117], dtype=float32), array([0.473244], dtype=float32), array([0.4556734], dtype=float32), array([0.5057513], dtype=float32), array([0.43981355], dtype=float32), array([0.49144593], dtype=float32), array([0.4590663], dtype=float32), array([0.49993694], dtype=float32), array([0.4782472], dtype=float32), array([0.49909934], dtype=float32), array([0.5538195], dtype=float32), array([0.48728862], dtype=float32), array([0.3989702], dtype=float32), array([0.5000615], dtype=float32), array([0.4452135], dtype=float32), array([0.49161416], dtype=float32), array([0.57607955], dtype=float32), array([0.46202615], dtype=float32), array([0.4920895], dtype=float32), array([0.47690755], dtype=float32), array([0.4805561], dtype=float32), array([0.4679033], dtype=float32), array([0.5245906], dtype=float32), array([0.56517446], dtype=float32), array([0.48565254], dtype=float32), array([0.4978943], dtype=float32), array([0.5963411], dtype=float32), array([0.5093023], dtype=float32), array([0.5077428], dtype=float32), array([0.4889011], dtype=float32), array([0.45946756], dtype=float32), array([0.5151503], dtype=float32), array([0.54438025], dtype=float32), array([0.49209827], dtype=float32), array([0.5110634], dtype=float32), array([0.55712897], dtype=float32), array([0.50770676], dtype=float32), array([0.45497647], dtype=float32), array([0.5358325], dtype=float32), array([0.50457853], dtype=float32), array([0.4697822], dtype=float32), array([0.45372897], dtype=float32), array([0.4764012], dtype=float32), array([0.5012935], dtype=float32), array([0.4646817], dtype=float32), array([0.47789812], dtype=float32), array([0.47298655], dtype=float32), array([0.508278], dtype=float32), array([0.5339438], dtype=float32), array([0.43623692], dtype=float32), array([0.5549061], dtype=float32), array([0.45176426], dtype=float32), array([0.46120375], dtype=float32), array([0.5032116], dtype=float32), array([0.49190015], dtype=float32), array([0.48768428], dtype=float32), array([0.5140593], dtype=float32), array([0.44462287], dtype=float32), array([0.45426962], dtype=float32)]\n"
          ]
        }
      ]
    },
    {
      "cell_type": "code",
      "metadata": {
        "id": "lQBdinuCtTKZ"
      },
      "source": [
        ""
      ],
      "execution_count": null,
      "outputs": []
    },
    {
      "cell_type": "code",
      "metadata": {
        "colab": {
          "base_uri": "https://localhost:8080/"
        },
        "id": "vVYFYDWpqND_",
        "outputId": "c663c2c0-655b-4cc3-f535-fa88678c6471"
      },
      "source": [
        "s= [2, 3, 1, 4, 5]\n",
        "li= []\n",
        "for i in range(len(s)):\n",
        "    li.append([s[i], i])\n",
        "li.sort()\n",
        "sort_index= []\n",
        "for x in li:\n",
        "    sort_index.append(x[1])\n",
        "print(sort_index)"
      ],
      "execution_count": null,
      "outputs": [
        {
          "output_type": "stream",
          "name": "stdout",
          "text": [
            "[2, 0, 1, 3, 4]\n"
          ]
        }
      ]
    },
    {
      "cell_type": "code",
      "metadata": {
        "colab": {
          "base_uri": "https://localhost:8080/",
          "height": 168
        },
        "id": "RjkGSglLMTX5",
        "outputId": "fda4fd0b-a5d5-4744-fec1-4eae09f7d25f"
      },
      "source": [
        "model.predict(x_gene[:5])"
      ],
      "execution_count": null,
      "outputs": [
        {
          "output_type": "error",
          "ename": "NameError",
          "evalue": "ignored",
          "traceback": [
            "\u001b[0;31m---------------------------------------------------------------------------\u001b[0m",
            "\u001b[0;31mNameError\u001b[0m                                 Traceback (most recent call last)",
            "\u001b[0;32m<ipython-input-115-720accef652b>\u001b[0m in \u001b[0;36m<module>\u001b[0;34m()\u001b[0m\n\u001b[0;32m----> 1\u001b[0;31m \u001b[0mmodel\u001b[0m\u001b[0;34m.\u001b[0m\u001b[0mpredict\u001b[0m\u001b[0;34m(\u001b[0m\u001b[0me\u001b[0m \u001b[0;34m**\u001b[0m \u001b[0mx_gene\u001b[0m\u001b[0;34m[\u001b[0m\u001b[0;34m:\u001b[0m\u001b[0;36m5\u001b[0m\u001b[0;34m]\u001b[0m\u001b[0;34m)\u001b[0m\u001b[0;34m\u001b[0m\u001b[0;34m\u001b[0m\u001b[0m\n\u001b[0m",
            "\u001b[0;31mNameError\u001b[0m: name 'e' is not defined"
          ]
        }
      ]
    },
    {
      "cell_type": "code",
      "metadata": {
        "colab": {
          "base_uri": "https://localhost:8080/"
        },
        "id": "FFCjVWrwTEmY",
        "outputId": "e213310f-9106-48f3-9e07-77dad6ae5041"
      },
      "source": [
        "model2.predict(x_gene[:5])"
      ],
      "execution_count": null,
      "outputs": [
        {
          "output_type": "execute_result",
          "data": {
            "text/plain": [
              "array([[-0.6727374],\n",
              "       [-0.7422793],\n",
              "       [-0.8232801],\n",
              "       [-0.7195953],\n",
              "       [-0.7240437]], dtype=float32)"
            ]
          },
          "metadata": {},
          "execution_count": 113
        }
      ]
    },
    {
      "cell_type": "code",
      "metadata": {
        "id": "Ouj1e_pZaEaZ"
      },
      "source": [
        "surv = model.predict_surv_df(x_gene)"
      ],
      "execution_count": null,
      "outputs": []
    },
    {
      "cell_type": "code",
      "metadata": {
        "colab": {
          "base_uri": "https://localhost:8080/",
          "height": 279
        },
        "id": "oZjwhmDjqf3P",
        "outputId": "57a194d2-8151-41a7-e8b1-c6b65b9b1723"
      },
      "source": [
        "surv.iloc[:, :10].plot()\n",
        "plt.ylabel('S(t | x)')\n",
        "_ = plt.xlabel('Time')"
      ],
      "execution_count": null,
      "outputs": [
        {
          "output_type": "display_data",
          "data": {
            "image/png": "[encoded data removed]",
            "text/plain": [
              "<Figure size 432x288 with 1 Axes>"
            ]
          },
          "metadata": {
            "needs_background": "light"
          }
        }
      ]
    }
  ]
}