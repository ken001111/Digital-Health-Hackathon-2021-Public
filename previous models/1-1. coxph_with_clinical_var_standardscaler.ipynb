{
  "nbformat": 4,
  "nbformat_minor": 0,
  "metadata": {
    "colab": {
      "name": "coxph-with-clinical-var-standardscaler.ipynb",
      "provenance": [],
      "collapsed_sections": [],
      "toc_visible": true
    },
    "kernelspec": {
      "name": "python3",
      "display_name": "Python 3"
    },
    "language_info": {
      "name": "python"
    }
  },
  "cells": [
    {
      "cell_type": "markdown",
      "metadata": {
        "id": "L91UX-HYY5Qr"
      },
      "source": [
        "# Pycox - CoxPH Model\n",
        "- Network : 3 Hidden Layers, Linear with ReLU functions\n",
        "- Input Variables : G1 ~ G300, Var1 ~ Var10, Treatment\n",
        "- Output Variables : time, event\n",
        "- Scaler : StandardScaler -> Var1 ~ Var10"
      ]
    },
    {
      "cell_type": "code",
      "metadata": {
        "colab": {
          "base_uri": "https://localhost:8080/"
        },
        "id": "vlcJyLq91wdA",
        "outputId": "c4426b40-478d-42a8-a45a-ab021b22a531"
      },
      "source": [
        "pip install pycox"
      ],
      "execution_count": null,
      "outputs": [
        {
          "output_type": "stream",
          "name": "stdout",
          "text": [
            "Requirement already satisfied: pycox in /usr/local/lib/python3.7/dist-packages (0.2.2)\n",
            "Requirement already satisfied: feather-format>=0.4.0 in /usr/local/lib/python3.7/dist-packages (from pycox) (0.4.1)\n",
            "Requirement already satisfied: py7zr>=0.11.3 in /usr/local/lib/python3.7/dist-packages (from pycox) (0.16.1)\n",
            "Requirement already satisfied: scikit-learn>=0.21.2 in /usr/local/lib/python3.7/dist-packages (from pycox) (0.22.2.post1)\n",
            "Requirement already satisfied: requests>=2.22.0 in /usr/local/lib/python3.7/dist-packages (from pycox) (2.23.0)\n",
            "Requirement already satisfied: h5py>=2.9.0 in /usr/local/lib/python3.7/dist-packages (from pycox) (3.1.0)\n",
            "Requirement already satisfied: torchtuples>=0.2.0 in /usr/local/lib/python3.7/dist-packages (from pycox) (0.2.2)\n",
            "Requirement already satisfied: numba>=0.44 in /usr/local/lib/python3.7/dist-packages (from pycox) (0.51.2)\n",
            "Requirement already satisfied: pyarrow>=0.4.0 in /usr/local/lib/python3.7/dist-packages (from feather-format>=0.4.0->pycox) (3.0.0)\n",
            "Requirement already satisfied: cached-property in /usr/local/lib/python3.7/dist-packages (from h5py>=2.9.0->pycox) (1.5.2)\n",
            "Requirement already satisfied: numpy>=1.14.5 in /usr/local/lib/python3.7/dist-packages (from h5py>=2.9.0->pycox) (1.19.5)\n",
            "Requirement already satisfied: llvmlite<0.35,>=0.34.0.dev0 in /usr/local/lib/python3.7/dist-packages (from numba>=0.44->pycox) (0.34.0)\n",
            "Requirement already satisfied: setuptools in /usr/local/lib/python3.7/dist-packages (from numba>=0.44->pycox) (57.4.0)\n",
            "Requirement already satisfied: brotli>=1.0.9 in /usr/local/lib/python3.7/dist-packages (from py7zr>=0.11.3->pycox) (1.0.9)\n",
            "Requirement already satisfied: pyzstd<0.15.0,>=0.14.4 in /usr/local/lib/python3.7/dist-packages (from py7zr>=0.11.3->pycox) (0.14.4)\n",
            "Requirement already satisfied: multivolumefile>=0.2.3 in /usr/local/lib/python3.7/dist-packages (from py7zr>=0.11.3->pycox) (0.2.3)\n",
            "Requirement already satisfied: pyppmd>=0.14.0 in /usr/local/lib/python3.7/dist-packages (from py7zr>=0.11.3->pycox) (0.16.1)\n",
            "Requirement already satisfied: importlib-metadata in /usr/local/lib/python3.7/dist-packages (from py7zr>=0.11.3->pycox) (4.6.4)\n",
            "Requirement already satisfied: pycryptodomex>=3.6.6 in /usr/local/lib/python3.7/dist-packages (from py7zr>=0.11.3->pycox) (3.10.1)\n",
            "Requirement already satisfied: bcj-cffi<0.6.0,>=0.5.1 in /usr/local/lib/python3.7/dist-packages (from py7zr>=0.11.3->pycox) (0.5.1)\n",
            "Requirement already satisfied: texttable in /usr/local/lib/python3.7/dist-packages (from py7zr>=0.11.3->pycox) (1.6.4)\n",
            "Requirement already satisfied: cffi>=1.14.0 in /usr/local/lib/python3.7/dist-packages (from bcj-cffi<0.6.0,>=0.5.1->py7zr>=0.11.3->pycox) (1.14.6)\n",
            "Requirement already satisfied: pycparser in /usr/local/lib/python3.7/dist-packages (from cffi>=1.14.0->bcj-cffi<0.6.0,>=0.5.1->py7zr>=0.11.3->pycox) (2.20)\n",
            "Requirement already satisfied: urllib3!=1.25.0,!=1.25.1,<1.26,>=1.21.1 in /usr/local/lib/python3.7/dist-packages (from requests>=2.22.0->pycox) (1.24.3)\n",
            "Requirement already satisfied: certifi>=2017.4.17 in /usr/local/lib/python3.7/dist-packages (from requests>=2.22.0->pycox) (2021.5.30)\n",
            "Requirement already satisfied: chardet<4,>=3.0.2 in /usr/local/lib/python3.7/dist-packages (from requests>=2.22.0->pycox) (3.0.4)\n",
            "Requirement already satisfied: idna<3,>=2.5 in /usr/local/lib/python3.7/dist-packages (from requests>=2.22.0->pycox) (2.10)\n",
            "Requirement already satisfied: joblib>=0.11 in /usr/local/lib/python3.7/dist-packages (from scikit-learn>=0.21.2->pycox) (1.0.1)\n",
            "Requirement already satisfied: scipy>=0.17.0 in /usr/local/lib/python3.7/dist-packages (from scikit-learn>=0.21.2->pycox) (1.4.1)\n",
            "Requirement already satisfied: pandas>=0.24.2 in /usr/local/lib/python3.7/dist-packages (from torchtuples>=0.2.0->pycox) (1.1.5)\n",
            "Requirement already satisfied: matplotlib>=3.0.3 in /usr/local/lib/python3.7/dist-packages (from torchtuples>=0.2.0->pycox) (3.2.2)\n",
            "Requirement already satisfied: kiwisolver>=1.0.1 in /usr/local/lib/python3.7/dist-packages (from matplotlib>=3.0.3->torchtuples>=0.2.0->pycox) (1.3.1)\n",
            "Requirement already satisfied: cycler>=0.10 in /usr/local/lib/python3.7/dist-packages (from matplotlib>=3.0.3->torchtuples>=0.2.0->pycox) (0.10.0)\n",
            "Requirement already satisfied: python-dateutil>=2.1 in /usr/local/lib/python3.7/dist-packages (from matplotlib>=3.0.3->torchtuples>=0.2.0->pycox) (2.8.2)\n",
            "Requirement already satisfied: pyparsing!=2.0.4,!=2.1.2,!=2.1.6,>=2.0.1 in /usr/local/lib/python3.7/dist-packages (from matplotlib>=3.0.3->torchtuples>=0.2.0->pycox) (2.4.7)\n",
            "Requirement already satisfied: six in /usr/local/lib/python3.7/dist-packages (from cycler>=0.10->matplotlib>=3.0.3->torchtuples>=0.2.0->pycox) (1.15.0)\n",
            "Requirement already satisfied: pytz>=2017.2 in /usr/local/lib/python3.7/dist-packages (from pandas>=0.24.2->torchtuples>=0.2.0->pycox) (2018.9)\n",
            "Requirement already satisfied: typing-extensions>=3.6.4 in /usr/local/lib/python3.7/dist-packages (from importlib-metadata->py7zr>=0.11.3->pycox) (3.7.4.3)\n",
            "Requirement already satisfied: zipp>=0.5 in /usr/local/lib/python3.7/dist-packages (from importlib-metadata->py7zr>=0.11.3->pycox) (3.5.0)\n"
          ]
        }
      ]
    },
    {
      "cell_type": "code",
      "metadata": {
        "id": "8j42Q8682S-J"
      },
      "source": [
        "import numpy as np\n",
        "import matplotlib.pyplot as plt\n",
        "from sklearn.preprocessing import StandardScaler\n",
        "from sklearn_pandas import DataFrameMapper\n",
        "import pandas as pd\n",
        "\n",
        "import torch\n",
        "import torchtuples as tt\n",
        "\n",
        "from pycox.models import CoxPH\n",
        "from pycox.evaluation import EvalSurv"
      ],
      "execution_count": null,
      "outputs": []
    },
    {
      "cell_type": "markdown",
      "metadata": {
        "id": "zOyFOsuvkXqN"
      },
      "source": [
        "- all-in-one.csv 파일은 유전자 변이 유무, 임상 변수, 생존 기간, 사망 여부, 치료 유무가 열로 존재하는 파일\n",
        "- test-data-treat-and-untreat.csv 파일은 all-in-one의 열은 같은 602개의 데이터.\n",
        "  - (0번째 행) : 유전자 변이 모두 0, 치료 0\n",
        "  - (1번째 행) : 유전자 변이 모두 0, 치료 1\n",
        "  - (2~301번째 행) : 유전자 변이 n-1에만 1, 치료 0\n",
        "  - (302~601번재 행) : 유전자 변이 n-301에만 1, 치료 1\n",
        "- pandas 라이브러리에 있는 csv 파일을 DataFrame으로 바꾸어주는 read_csv 함수를 이용하여 파일을 읽어 들임.\n",
        "- DataFrame은 표를 나타내는 데이터 타입임."
      ]
    },
    {
      "cell_type": "code",
      "metadata": {
        "id": "x3Ww7lpV2Uor"
      },
      "source": [
        "dataset = pd.read_csv('/content/all-in-one.csv')\n",
        "dataset_for_hr = pd.read_csv('/content/test-data-treat-and-untreat.csv')"
      ],
      "execution_count": null,
      "outputs": []
    },
    {
      "cell_type": "markdown",
      "metadata": {
        "id": "twdq_J1Ym9gf"
      },
      "source": [
        "- 위에서 읽어들인 dataset 중에서 20%는 검증(_val -> validation)을 위해 sampling 한다.\n",
        "- 남은 80%의 데이터에서도 20%는 테스트(_test)를 위해 sampling 한다."
      ]
    },
    {
      "cell_type": "code",
      "metadata": {
        "id": "z4vLVwYM24xW"
      },
      "source": [
        "dataset_val = dataset.sample(frac=0.2)\n",
        "dataset_train = dataset.drop(dataset_val.index)\n",
        "dataset_test = dataset_train.sample(frac=0.2)\n",
        "dataset_train = dataset_train.drop(dataset_test.index)"
      ],
      "execution_count": null,
      "outputs": []
    },
    {
      "cell_type": "markdown",
      "metadata": {
        "id": "UX1Ddl463deJ"
      },
      "source": [
        "- columns_standardize : 임상변수 - 0~9사이의 값을 표준화\n",
        "- columns_leave : 유전자 변이 유무 + 치료 유무 - 0과 1로 표현돼 있기 때문에 표준화 필요 없음.\n",
        "- DataFrameMapper는 pandas DataFrame에서 원하는 열을 뽑아서 리스트로 만들어줌.\n",
        "- 리스트로 만들때 StandardScaler()가 포함된 열은 표준화를 시킨 뒤, 그리고 None이면 갖고 있는 값을 그대로 넣음."
      ]
    },
    {
      "cell_type": "code",
      "metadata": {
        "id": "LHBg3yDH3Xzf"
      },
      "source": [
        "columns_standardize = ['Var' + str(i) for i in range(1,11)]\n",
        "columns_leave = ['G' + str(i) for i in range(1,301)]\n",
        "columns_leave += ['Treatment']\n",
        "\n",
        "standardize = [([col], StandardScaler()) for col in columns_standardize]\n",
        "leave = [(col, None) for col in columns_leave]\n",
        "\n",
        "x_mapper = DataFrameMapper(leave + standardize)"
      ],
      "execution_count": null,
      "outputs": []
    },
    {
      "cell_type": "markdown",
      "metadata": {
        "id": "RZHTUBBSmWTc"
      },
      "source": [
        "- 위에서 만든 DataFrameMapper로 DataFrame 중 x(입력) 데이터를 모델이 학습할 수 있게끔 리스트 형식으로 바꾸어 준다.\n",
        "\n"
      ]
    },
    {
      "cell_type": "code",
      "metadata": {
        "id": "o4UrVswf3phZ"
      },
      "source": [
        "x_train = x_mapper.fit_transform(dataset_train).astype('float32')\n",
        "x_val = x_mapper.transform(dataset_val).astype('float32')\n",
        "x_for_hr = x_mapper.transform(dataset_for_hr).astype('float32')"
      ],
      "execution_count": null,
      "outputs": []
    },
    {
      "cell_type": "markdown",
      "metadata": {
        "id": "W4PCVeJGmx21"
      },
      "source": [
        "- DataFrame (표)에서 Y(출력)데이터인 time(생존기간)과 event(사망여부)를 뽑아 출력 데이터를 추린다.\n",
        "- 검증(Validation)을 위한 입력-출력 세트 val을 만든다."
      ]
    },
    {
      "cell_type": "code",
      "metadata": {
        "id": "UGTF5V3y4Yot"
      },
      "source": [
        "get_target = lambda df: (df['time'].values, df['event'].values)\n",
        "y_train = get_target(dataset_train)\n",
        "y_val = get_target(dataset_val)\n",
        "\n",
        "durations_test, events_test = get_target(dataset_test)\n",
        "val = x_val, y_val"
      ],
      "execution_count": null,
      "outputs": []
    },
    {
      "cell_type": "markdown",
      "metadata": {
        "id": "J-rPa9mWn1I4"
      },
      "source": [
        "- in_features : 입력데이터의 개수 (x_train.shape : 311 = 300(유전자) + 10(임상변수) + 1(치료유무))\n",
        "- num_nodes : 우리가 사용하는 torch에서는 필요없음. (직접 숫자를 쓰기 때문에)\n",
        "- out_features : 출력노드의 개수\n",
        "- dropout : 제거하는 노드 비율 (?) (정확하지 않음 확인 필요)\n",
        "\n",
        "- net : 우리가 설정할 네트워크 (현재는 hidden layer가 3개)"
      ]
    },
    {
      "cell_type": "code",
      "metadata": {
        "id": "iJHZogmj5a-4"
      },
      "source": [
        "in_features = x_train.shape[1]\n",
        "# num_nodes = [32, 32]\n",
        "out_features = 1\n",
        "batch_norm = True\n",
        "dropout = 0.1\n",
        "output_bias = False\n",
        "\n",
        "net = torch.nn.Sequential(\n",
        "    torch.nn.Linear(in_features, 32),\n",
        "    torch.nn.ReLU(),\n",
        "    torch.nn.BatchNorm1d(32),\n",
        "    torch.nn.Dropout(0.1),\n",
        "    \n",
        "    torch.nn.Linear(32, 32),\n",
        "    torch.nn.ReLU(),\n",
        "    torch.nn.BatchNorm1d(32),\n",
        "    torch.nn.Dropout(0.1),\n",
        "\n",
        "    torch.nn.Linear(32, 32),\n",
        "    torch.nn.ReLU(),\n",
        "    torch.nn.BatchNorm1d(32),\n",
        "    torch.nn.Dropout(0.1),\n",
        "\n",
        "    \n",
        "    torch.nn.Linear(32, out_features)\n",
        ")"
      ],
      "execution_count": null,
      "outputs": []
    },
    {
      "cell_type": "markdown",
      "metadata": {
        "id": "rhhHsQ7FodHn"
      },
      "source": [
        "- CoxPH 모델 생성, net은 위에서 설계한 네트워크로, optimizer은 Adam 기법으로 (!= SGD)"
      ]
    },
    {
      "cell_type": "code",
      "metadata": {
        "id": "Cd2yOAOz5jME"
      },
      "source": [
        "model = CoxPH(net, tt.optim.Adam)"
      ],
      "execution_count": null,
      "outputs": []
    },
    {
      "cell_type": "markdown",
      "metadata": {
        "id": "G5F-ICzbope3"
      },
      "source": [
        "- batch_size : 한 번의 학습에서 이용할 데이터 개수가 256\n",
        "- lrfinder : 이 모델에서 적절한 학습률을 찾아주는 함수\n",
        "- lrfinder.plot()을 하면 그래프를 그려줌."
      ]
    },
    {
      "cell_type": "code",
      "metadata": {
        "colab": {
          "base_uri": "https://localhost:8080/",
          "height": 283
        },
        "id": "XWAwzoys5kTa",
        "outputId": "46ea7871-4655-43d8-bef5-e947644b5448"
      },
      "source": [
        "batch_size = 256\n",
        "lrfinder = model.lr_finder(x_train, y_train, batch_size, tolerance=10)\n",
        "_ = lrfinder.plot()"
      ],
      "execution_count": null,
      "outputs": [
        {
          "output_type": "display_data",
          "data": {
            "image/png": "[encoded data removed]",
            "text/plain": [
              "<Figure size 432x288 with 1 Axes>"
            ]
          },
          "metadata": {
            "needs_background": "light"
          }
        }
      ]
    },
    {
      "cell_type": "markdown",
      "metadata": {
        "id": "ICxtCmzWo7xq"
      },
      "source": [
        "-lrfinder.get_best_lr() : lrfinder가 추천하는 학습률 return"
      ]
    },
    {
      "cell_type": "code",
      "metadata": {
        "colab": {
          "base_uri": "https://localhost:8080/"
        },
        "id": "ptRgtHIx50ia",
        "outputId": "25dc6d75-7239-4c18-cd22-c4094ee7f769"
      },
      "source": [
        "lrfinder.get_best_lr()"
      ],
      "execution_count": null,
      "outputs": [
        {
          "output_type": "execute_result",
          "data": {
            "text/plain": [
              "0.10722672220103299"
            ]
          },
          "metadata": {},
          "execution_count": 33
        }
      ]
    },
    {
      "cell_type": "markdown",
      "metadata": {
        "id": "seTVYUaZpbXV"
      },
      "source": [
        "- 위에서 얻은 학습률로 optimizer을 설정함"
      ]
    },
    {
      "cell_type": "code",
      "metadata": {
        "id": "r1mFYII8523C"
      },
      "source": [
        "model.optimizer.set_lr(lrfinder.get_best_lr())"
      ],
      "execution_count": null,
      "outputs": []
    },
    {
      "cell_type": "markdown",
      "metadata": {
        "id": "MTfaVNxRpf8B"
      },
      "source": [
        "- 512번 학습\n",
        "- EarlyStopping() 함수는 학습에 진전이 없을 때 학습을 멈추게 하는 함수\n",
        "- verbose는 뭔지 아직 모르겠음."
      ]
    },
    {
      "cell_type": "code",
      "metadata": {
        "id": "EKeYRiRt5_t-"
      },
      "source": [
        "epochs = 512\n",
        "callbacks = [tt.callbacks.EarlyStopping()]\n",
        "verbose = True"
      ],
      "execution_count": null,
      "outputs": []
    },
    {
      "cell_type": "markdown",
      "metadata": {
        "id": "yiY0gDY5pvbB"
      },
      "source": [
        "- 모델을 학습시키면서 log를 기록"
      ]
    },
    {
      "cell_type": "code",
      "metadata": {
        "colab": {
          "base_uri": "https://localhost:8080/"
        },
        "id": "RHBJBTJW6CAM",
        "outputId": "29909a41-3d7e-458f-a390-a28e8a44429a"
      },
      "source": [
        "%%time\n",
        "log = model.fit(x_train, y_train, batch_size, epochs, callbacks, verbose,\n",
        "                val_data=val, val_batch_size=batch_size)"
      ],
      "execution_count": null,
      "outputs": [
        {
          "output_type": "stream",
          "name": "stdout",
          "text": [
            "0:\t[0s / 0s],\t\ttrain_loss: 4.4435,\tval_loss: 5.4265\n",
            "1:\t[0s / 0s],\t\ttrain_loss: 4.0234,\tval_loss: 6.2559\n",
            "2:\t[0s / 0s],\t\ttrain_loss: 3.8597,\tval_loss: 5.4391\n",
            "3:\t[0s / 0s],\t\ttrain_loss: 3.7864,\tval_loss: 4.3871\n",
            "4:\t[0s / 0s],\t\ttrain_loss: 3.6886,\tval_loss: 4.1027\n",
            "5:\t[0s / 0s],\t\ttrain_loss: 3.6650,\tval_loss: 3.7497\n",
            "6:\t[0s / 0s],\t\ttrain_loss: 3.5664,\tval_loss: 3.6337\n",
            "7:\t[0s / 0s],\t\ttrain_loss: 3.3970,\tval_loss: 3.6649\n",
            "8:\t[0s / 0s],\t\ttrain_loss: 3.3246,\tval_loss: 3.7850\n",
            "9:\t[0s / 0s],\t\ttrain_loss: 3.2676,\tval_loss: 3.5907\n",
            "10:\t[0s / 0s],\t\ttrain_loss: 3.1849,\tval_loss: 3.5235\n",
            "11:\t[0s / 0s],\t\ttrain_loss: 3.3432,\tval_loss: 3.5273\n",
            "12:\t[0s / 0s],\t\ttrain_loss: 3.1632,\tval_loss: 3.5191\n",
            "13:\t[0s / 0s],\t\ttrain_loss: 3.2484,\tval_loss: 3.5452\n",
            "14:\t[0s / 0s],\t\ttrain_loss: 3.1682,\tval_loss: 3.4782\n",
            "15:\t[0s / 0s],\t\ttrain_loss: 3.1759,\tval_loss: 3.3776\n",
            "16:\t[0s / 0s],\t\ttrain_loss: 3.0451,\tval_loss: 3.3698\n",
            "17:\t[0s / 0s],\t\ttrain_loss: 3.0648,\tval_loss: 3.4126\n",
            "18:\t[0s / 0s],\t\ttrain_loss: 3.0245,\tval_loss: 3.3981\n",
            "19:\t[0s / 0s],\t\ttrain_loss: 2.9667,\tval_loss: 3.3397\n",
            "20:\t[0s / 0s],\t\ttrain_loss: 2.9848,\tval_loss: 3.2607\n",
            "21:\t[0s / 0s],\t\ttrain_loss: 2.9473,\tval_loss: 3.2938\n",
            "22:\t[0s / 0s],\t\ttrain_loss: 2.9543,\tval_loss: 3.2760\n",
            "23:\t[0s / 0s],\t\ttrain_loss: 2.9395,\tval_loss: 3.3089\n",
            "24:\t[0s / 0s],\t\ttrain_loss: 3.0620,\tval_loss: 3.3895\n",
            "25:\t[0s / 0s],\t\ttrain_loss: 3.0309,\tval_loss: 3.3317\n",
            "26:\t[0s / 0s],\t\ttrain_loss: 2.9717,\tval_loss: 3.3955\n",
            "27:\t[0s / 0s],\t\ttrain_loss: 2.8645,\tval_loss: 3.4807\n",
            "28:\t[0s / 0s],\t\ttrain_loss: 2.8615,\tval_loss: 3.3238\n",
            "29:\t[0s / 0s],\t\ttrain_loss: 2.8591,\tval_loss: 3.2504\n",
            "30:\t[0s / 0s],\t\ttrain_loss: 2.8231,\tval_loss: 3.2141\n",
            "31:\t[0s / 0s],\t\ttrain_loss: 2.8580,\tval_loss: 3.1370\n",
            "32:\t[0s / 0s],\t\ttrain_loss: 2.8021,\tval_loss: 3.1634\n",
            "33:\t[0s / 0s],\t\ttrain_loss: 2.8690,\tval_loss: 3.2195\n",
            "34:\t[0s / 0s],\t\ttrain_loss: 2.7628,\tval_loss: 3.1800\n",
            "35:\t[0s / 0s],\t\ttrain_loss: 2.8109,\tval_loss: 3.1519\n",
            "36:\t[0s / 0s],\t\ttrain_loss: 2.7665,\tval_loss: 3.1847\n",
            "37:\t[0s / 0s],\t\ttrain_loss: 2.7400,\tval_loss: 3.1860\n",
            "38:\t[0s / 0s],\t\ttrain_loss: 2.7531,\tval_loss: 3.1847\n",
            "39:\t[0s / 0s],\t\ttrain_loss: 2.7702,\tval_loss: 3.3016\n",
            "40:\t[0s / 0s],\t\ttrain_loss: 2.7949,\tval_loss: 3.1708\n",
            "41:\t[0s / 0s],\t\ttrain_loss: 2.6965,\tval_loss: 3.1236\n",
            "42:\t[0s / 0s],\t\ttrain_loss: 2.6818,\tval_loss: 3.0600\n",
            "43:\t[0s / 0s],\t\ttrain_loss: 2.6953,\tval_loss: 3.0473\n",
            "44:\t[0s / 0s],\t\ttrain_loss: 2.7098,\tval_loss: 3.0411\n",
            "45:\t[0s / 0s],\t\ttrain_loss: 2.7156,\tval_loss: 3.0311\n",
            "46:\t[0s / 0s],\t\ttrain_loss: 2.7107,\tval_loss: 3.0819\n",
            "47:\t[0s / 1s],\t\ttrain_loss: 2.6801,\tval_loss: 3.1453\n",
            "48:\t[0s / 1s],\t\ttrain_loss: 2.7620,\tval_loss: 3.1647\n",
            "49:\t[0s / 1s],\t\ttrain_loss: 2.6935,\tval_loss: 3.1128\n",
            "50:\t[0s / 1s],\t\ttrain_loss: 2.7955,\tval_loss: 3.1690\n",
            "51:\t[0s / 1s],\t\ttrain_loss: 2.6990,\tval_loss: 3.1645\n",
            "52:\t[0s / 1s],\t\ttrain_loss: 2.6482,\tval_loss: 3.1520\n",
            "53:\t[0s / 1s],\t\ttrain_loss: 2.6960,\tval_loss: 3.1287\n",
            "54:\t[0s / 1s],\t\ttrain_loss: 2.6497,\tval_loss: 3.1706\n",
            "55:\t[0s / 1s],\t\ttrain_loss: 2.6283,\tval_loss: 3.1822\n",
            "CPU times: user 1.15 s, sys: 12.3 ms, total: 1.16 s\n",
            "Wall time: 1.18 s\n"
          ]
        }
      ]
    },
    {
      "cell_type": "markdown",
      "metadata": {
        "id": "ICGiAoGQp1S4"
      },
      "source": [
        "- 찍힌 log를 그래프로 그림"
      ]
    },
    {
      "cell_type": "code",
      "metadata": {
        "colab": {
          "base_uri": "https://localhost:8080/",
          "height": 265
        },
        "id": "MoO8pJ4H6IV-",
        "outputId": "ca3e17be-4d68-4aaa-f753-d168a5eb83c1"
      },
      "source": [
        "_ = log.plot()"
      ],
      "execution_count": null,
      "outputs": [
        {
          "output_type": "display_data",
          "data": {
            "image/png": "[encoded data removed]",
            "text/plain": [
              "<Figure size 432x288 with 1 Axes>"
            ]
          },
          "metadata": {
            "needs_background": "light"
          }
        }
      ]
    },
    {
      "cell_type": "markdown",
      "metadata": {
        "id": "8aJVYTRRp5GJ"
      },
      "source": [
        "- 생존 함수를 그리기 위해서 baseline_hazard를 compute하는 이 함수를 호출해야 한다고 함."
      ]
    },
    {
      "cell_type": "code",
      "metadata": {
        "id": "QSs3D1aK6LaT"
      },
      "source": [
        "_ = model.compute_baseline_hazards()"
      ],
      "execution_count": null,
      "outputs": []
    },
    {
      "cell_type": "markdown",
      "metadata": {
        "id": "lBthPw8TqDZT"
      },
      "source": [
        "- model.predict함수는 입력 데이터에 대한 log partial hazard를 구해줌.\n",
        "- partial_hazard : predict 함수로 얻은 지수부분에 e를 취해 e^log_partial_hazard 값들을 리스트로 얻음.\n",
        "- treat_hr : 300개의 유전자 변이에 대해서 치료가 0일때와 1일때 위험비를 계산해서 추가함.\n",
        "- for문 설명 : 빈 리스트에 300개를 추가할건데 G1부터 G300까지 각각 치료했을 때/치료하지 않았을 때 위험비를 저장\n",
        "- 치료 유무에 따른 위험비값을 기준으로 오름차순 정렬\n",
        "- 위 값이 작을 수록 치료했을 때 위험률이 낮은 것이므로 유전자 앞의 10개 print"
      ]
    },
    {
      "cell_type": "code",
      "metadata": {
        "colab": {
          "base_uri": "https://localhost:8080/"
        },
        "id": "oERvGUxMenib",
        "outputId": "4f067251-cf12-4c6b-99c2-56074304fc5e"
      },
      "source": [
        "log_partial_hazard = model.predict(x_for_hr)\n",
        "partial_hazard = [np.exp(i) for i in log_partial_hazard]\n",
        "\n",
        "treat_hr = []\n",
        "# ratio with treated and untreated\n",
        "for i in range(300):\n",
        "  treat_hr.append([partial_hazard[i+302]/partial_hazard[i+2],'G' + str(i+1)])\n",
        "treat_hr.sort()\n",
        "treat_hr[:10]"
      ],
      "execution_count": null,
      "outputs": [
        {
          "output_type": "execute_result",
          "data": {
            "text/plain": [
              "[[array([0.24201596], dtype=float32), 'G32'],\n",
              " [array([0.24465278], dtype=float32), 'G90'],\n",
              " [array([0.24582176], dtype=float32), 'G49'],\n",
              " [array([0.24584708], dtype=float32), 'G255'],\n",
              " [array([0.24967404], dtype=float32), 'G172'],\n",
              " [array([0.25540537], dtype=float32), 'G115'],\n",
              " [array([0.25622627], dtype=float32), 'G230'],\n",
              " [array([0.25653243], dtype=float32), 'G3'],\n",
              " [array([0.25805667], dtype=float32), 'G178'],\n",
              " [array([0.25881702], dtype=float32), 'G82']]"
            ]
          },
          "metadata": {},
          "execution_count": 65
        }
      ]
    }
  ]
}