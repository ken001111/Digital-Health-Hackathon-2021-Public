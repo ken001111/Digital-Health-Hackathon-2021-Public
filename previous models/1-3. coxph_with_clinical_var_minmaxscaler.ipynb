{
  "nbformat": 4,
  "nbformat_minor": 0,
  "metadata": {
    "colab": {
      "name": "coxph-with-clinical-var-minmaxscaler.ipynb",
      "provenance": [],
      "collapsed_sections": []
    },
    "kernelspec": {
      "name": "python3",
      "display_name": "Python 3"
    },
    "language_info": {
      "name": "python"
    }
  },
  "cells": [
    {
      "cell_type": "markdown",
      "metadata": {
        "id": "L91UX-HYY5Qr"
      },
      "source": [
        "# Pycox - CoxPH Model\n",
        "- Network : 3 Hidden Layers, Linear with ReLU functions\n",
        "- Input Variables : G1 ~ G300, Var1 ~ Var10, Treatment\n",
        "- Output Variables : time, event\n",
        "- Scaler : MinMaxScaler -> Var1 ~ Var10\n",
        "\n"
      ]
    },
    {
      "cell_type": "code",
      "metadata": {
        "id": "vlcJyLq91wdA",
        "colab": {
          "base_uri": "https://localhost:8080/"
        },
        "outputId": "958eefdb-cc2b-4997-9f4b-180c3b60db7a"
      },
      "source": [
        "pip install pycox"
      ],
      "execution_count": 25,
      "outputs": [
        {
          "output_type": "stream",
          "name": "stdout",
          "text": [
            "Requirement already satisfied: pycox in /usr/local/lib/python3.7/dist-packages (0.2.2)\n",
            "Requirement already satisfied: h5py>=2.9.0 in /usr/local/lib/python3.7/dist-packages (from pycox) (3.1.0)\n",
            "Requirement already satisfied: numba>=0.44 in /usr/local/lib/python3.7/dist-packages (from pycox) (0.51.2)\n",
            "Requirement already satisfied: py7zr>=0.11.3 in /usr/local/lib/python3.7/dist-packages (from pycox) (0.16.1)\n",
            "Requirement already satisfied: torchtuples>=0.2.0 in /usr/local/lib/python3.7/dist-packages (from pycox) (0.2.2)\n",
            "Requirement already satisfied: requests>=2.22.0 in /usr/local/lib/python3.7/dist-packages (from pycox) (2.23.0)\n",
            "Requirement already satisfied: feather-format>=0.4.0 in /usr/local/lib/python3.7/dist-packages (from pycox) (0.4.1)\n",
            "Requirement already satisfied: scikit-learn>=0.21.2 in /usr/local/lib/python3.7/dist-packages (from pycox) (0.22.2.post1)\n",
            "Requirement already satisfied: pyarrow>=0.4.0 in /usr/local/lib/python3.7/dist-packages (from feather-format>=0.4.0->pycox) (3.0.0)\n",
            "Requirement already satisfied: cached-property in /usr/local/lib/python3.7/dist-packages (from h5py>=2.9.0->pycox) (1.5.2)\n",
            "Requirement already satisfied: numpy>=1.14.5 in /usr/local/lib/python3.7/dist-packages (from h5py>=2.9.0->pycox) (1.19.5)\n",
            "Requirement already satisfied: llvmlite<0.35,>=0.34.0.dev0 in /usr/local/lib/python3.7/dist-packages (from numba>=0.44->pycox) (0.34.0)\n",
            "Requirement already satisfied: setuptools in /usr/local/lib/python3.7/dist-packages (from numba>=0.44->pycox) (57.4.0)\n",
            "Requirement already satisfied: pyzstd<0.15.0,>=0.14.4 in /usr/local/lib/python3.7/dist-packages (from py7zr>=0.11.3->pycox) (0.14.4)\n",
            "Requirement already satisfied: multivolumefile>=0.2.3 in /usr/local/lib/python3.7/dist-packages (from py7zr>=0.11.3->pycox) (0.2.3)\n",
            "Requirement already satisfied: brotli>=1.0.9 in /usr/local/lib/python3.7/dist-packages (from py7zr>=0.11.3->pycox) (1.0.9)\n",
            "Requirement already satisfied: pycryptodomex>=3.6.6 in /usr/local/lib/python3.7/dist-packages (from py7zr>=0.11.3->pycox) (3.10.1)\n",
            "Requirement already satisfied: texttable in /usr/local/lib/python3.7/dist-packages (from py7zr>=0.11.3->pycox) (1.6.4)\n",
            "Requirement already satisfied: importlib-metadata in /usr/local/lib/python3.7/dist-packages (from py7zr>=0.11.3->pycox) (4.6.4)\n",
            "Requirement already satisfied: bcj-cffi<0.6.0,>=0.5.1 in /usr/local/lib/python3.7/dist-packages (from py7zr>=0.11.3->pycox) (0.5.1)\n",
            "Requirement already satisfied: pyppmd>=0.14.0 in /usr/local/lib/python3.7/dist-packages (from py7zr>=0.11.3->pycox) (0.16.1)\n",
            "Requirement already satisfied: cffi>=1.14.0 in /usr/local/lib/python3.7/dist-packages (from bcj-cffi<0.6.0,>=0.5.1->py7zr>=0.11.3->pycox) (1.14.6)\n",
            "Requirement already satisfied: pycparser in /usr/local/lib/python3.7/dist-packages (from cffi>=1.14.0->bcj-cffi<0.6.0,>=0.5.1->py7zr>=0.11.3->pycox) (2.20)\n",
            "Requirement already satisfied: idna<3,>=2.5 in /usr/local/lib/python3.7/dist-packages (from requests>=2.22.0->pycox) (2.10)\n",
            "Requirement already satisfied: urllib3!=1.25.0,!=1.25.1,<1.26,>=1.21.1 in /usr/local/lib/python3.7/dist-packages (from requests>=2.22.0->pycox) (1.24.3)\n",
            "Requirement already satisfied: certifi>=2017.4.17 in /usr/local/lib/python3.7/dist-packages (from requests>=2.22.0->pycox) (2021.5.30)\n",
            "Requirement already satisfied: chardet<4,>=3.0.2 in /usr/local/lib/python3.7/dist-packages (from requests>=2.22.0->pycox) (3.0.4)\n",
            "Requirement already satisfied: scipy>=0.17.0 in /usr/local/lib/python3.7/dist-packages (from scikit-learn>=0.21.2->pycox) (1.4.1)\n",
            "Requirement already satisfied: joblib>=0.11 in /usr/local/lib/python3.7/dist-packages (from scikit-learn>=0.21.2->pycox) (1.0.1)\n",
            "Requirement already satisfied: pandas>=0.24.2 in /usr/local/lib/python3.7/dist-packages (from torchtuples>=0.2.0->pycox) (1.1.5)\n",
            "Requirement already satisfied: matplotlib>=3.0.3 in /usr/local/lib/python3.7/dist-packages (from torchtuples>=0.2.0->pycox) (3.2.2)\n",
            "Requirement already satisfied: python-dateutil>=2.1 in /usr/local/lib/python3.7/dist-packages (from matplotlib>=3.0.3->torchtuples>=0.2.0->pycox) (2.8.2)\n",
            "Requirement already satisfied: pyparsing!=2.0.4,!=2.1.2,!=2.1.6,>=2.0.1 in /usr/local/lib/python3.7/dist-packages (from matplotlib>=3.0.3->torchtuples>=0.2.0->pycox) (2.4.7)\n",
            "Requirement already satisfied: kiwisolver>=1.0.1 in /usr/local/lib/python3.7/dist-packages (from matplotlib>=3.0.3->torchtuples>=0.2.0->pycox) (1.3.1)\n",
            "Requirement already satisfied: cycler>=0.10 in /usr/local/lib/python3.7/dist-packages (from matplotlib>=3.0.3->torchtuples>=0.2.0->pycox) (0.10.0)\n",
            "Requirement already satisfied: six in /usr/local/lib/python3.7/dist-packages (from cycler>=0.10->matplotlib>=3.0.3->torchtuples>=0.2.0->pycox) (1.15.0)\n",
            "Requirement already satisfied: pytz>=2017.2 in /usr/local/lib/python3.7/dist-packages (from pandas>=0.24.2->torchtuples>=0.2.0->pycox) (2018.9)\n",
            "Requirement already satisfied: typing-extensions>=3.6.4 in /usr/local/lib/python3.7/dist-packages (from importlib-metadata->py7zr>=0.11.3->pycox) (3.7.4.3)\n",
            "Requirement already satisfied: zipp>=0.5 in /usr/local/lib/python3.7/dist-packages (from importlib-metadata->py7zr>=0.11.3->pycox) (3.5.0)\n"
          ]
        }
      ]
    },
    {
      "cell_type": "code",
      "metadata": {
        "id": "8j42Q8682S-J"
      },
      "source": [
        "import numpy as np\n",
        "import matplotlib.pyplot as plt\n",
        "from sklearn.preprocessing import StandardScaler\n",
        "from sklearn.preprocessing import MinMaxScaler\n",
        "from sklearn_pandas import DataFrameMapper\n",
        "import pandas as pd\n",
        "\n",
        "import torch\n",
        "import torchtuples as tt\n",
        "\n",
        "from pycox.models import CoxPH\n",
        "from pycox.evaluation import EvalSurv"
      ],
      "execution_count": 26,
      "outputs": []
    },
    {
      "cell_type": "markdown",
      "metadata": {
        "id": "zOyFOsuvkXqN"
      },
      "source": [
        "- all-in-one.csv 파일은 유전자 변이 유무, 임상 변수, 생존 기간, 사망 여부, 치료 유무가 열로 존재하는 파일\n",
        "- test-data-treat-and-untreat.csv 파일은 all-in-one의 열은 같은 602개의 데이터.\n",
        "  - (0번째 행) : 유전자 변이 모두 0, 치료 0\n",
        "  - (1번째 행) : 유전자 변이 모두 0, 치료 1\n",
        "  - (2~301번째 행) : 유전자 변이 n-1에만 1, 치료 0\n",
        "  - (302~601번재 행) : 유전자 변이 n-301에만 1, 치료 1\n",
        "- pandas 라이브러리에 있는 csv 파일을 DataFrame으로 바꾸어주는 read_csv 함수를 이용하여 파일을 읽어 들임.\n",
        "- DataFrame은 표를 나타내는 데이터 타입임."
      ]
    },
    {
      "cell_type": "code",
      "metadata": {
        "id": "x3Ww7lpV2Uor"
      },
      "source": [
        "dataset = pd.read_csv('/content/all-in-one.csv')\n",
        "dataset_for_hr = pd.read_csv('/content/test-data-treat-and-untreat.csv')"
      ],
      "execution_count": 27,
      "outputs": []
    },
    {
      "cell_type": "markdown",
      "metadata": {
        "id": "twdq_J1Ym9gf"
      },
      "source": [
        "- 위에서 읽어들인 dataset 중에서 20%는 검증(_val -> validation)을 위해 sampling 한다.\n",
        "- 남은 80%의 데이터에서도 20%는 테스트(_test)를 위해 sampling 한다."
      ]
    },
    {
      "cell_type": "code",
      "metadata": {
        "id": "z4vLVwYM24xW"
      },
      "source": [
        "dataset_val = dataset.sample(frac=0.2)\n",
        "dataset_train = dataset.drop(dataset_val.index)\n",
        "dataset_test = dataset_train.sample(frac=0.2)\n",
        "dataset_train = dataset_train.drop(dataset_test.index)"
      ],
      "execution_count": 28,
      "outputs": []
    },
    {
      "cell_type": "markdown",
      "metadata": {
        "id": "UX1Ddl463deJ"
      },
      "source": [
        "- columns_standardize : 임상변수 - 0~9사이의 값을 표준화\n",
        "- columns_leave : 유전자 변이 유무 + 치료 유무 - 0과 1로 표현돼 있기 때문에 표준화 필요 없음.\n",
        "- DataFrameMapper는 pandas DataFrame에서 원하는 열을 뽑아서 리스트로 만들어줌.\n",
        "- 리스트로 만들때 StandardScaler()가 포함된 열은 표준화를 시킨 뒤, 그리고 None이면 갖고 있는 값을 그대로 넣음."
      ]
    },
    {
      "cell_type": "code",
      "metadata": {
        "id": "LHBg3yDH3Xzf"
      },
      "source": [
        "columns_standardize = ['Var' + str(i) for i in range(1,11)]\n",
        "columns_leave = ['G' + str(i) for i in range(1,301)]\n",
        "columns_leave += ['Treatment']\n",
        "\n",
        "# standardize = [([col], StandardScaler()) for col in columns_standardize]\n",
        "standardize = [([col], MinMaxScaler()) for col in columns_standardize]\n",
        "\n",
        "leave = [(col, None) for col in columns_leave]\n",
        "\n",
        "x_mapper = DataFrameMapper(leave + standardize)"
      ],
      "execution_count": 29,
      "outputs": []
    },
    {
      "cell_type": "markdown",
      "metadata": {
        "id": "RZHTUBBSmWTc"
      },
      "source": [
        "- 위에서 만든 DataFrameMapper로 DataFrame 중 x(입력) 데이터를 모델이 학습할 수 있게끔 리스트 형식으로 바꾸어 준다.\n",
        "\n"
      ]
    },
    {
      "cell_type": "code",
      "metadata": {
        "id": "o4UrVswf3phZ"
      },
      "source": [
        "x_train = x_mapper.fit_transform(dataset_train).astype('float32')\n",
        "x_val = x_mapper.transform(dataset_val).astype('float32')\n",
        "x_for_hr = x_mapper.transform(dataset_for_hr).astype('float32')"
      ],
      "execution_count": 30,
      "outputs": []
    },
    {
      "cell_type": "markdown",
      "metadata": {
        "id": "W4PCVeJGmx21"
      },
      "source": [
        "- DataFrame (표)에서 Y(출력)데이터인 time(생존기간)과 event(사망여부)를 뽑아 출력 데이터를 추린다.\n",
        "- 검증(Validation)을 위한 입력-출력 세트 val을 만든다."
      ]
    },
    {
      "cell_type": "code",
      "metadata": {
        "id": "UGTF5V3y4Yot"
      },
      "source": [
        "get_target = lambda df: (df['time'].values, df['event'].values)\n",
        "y_train = get_target(dataset_train)\n",
        "y_val = get_target(dataset_val)\n",
        "\n",
        "durations_test, events_test = get_target(dataset_test)\n",
        "val = x_val, y_val"
      ],
      "execution_count": 31,
      "outputs": []
    },
    {
      "cell_type": "markdown",
      "metadata": {
        "id": "J-rPa9mWn1I4"
      },
      "source": [
        "- in_features : 입력데이터의 개수 (x_train.shape : 311 = 300(유전자) + 10(임상변수) + 1(치료유무))\n",
        "- num_nodes : 우리가 사용하는 torch에서는 필요없음. (직접 숫자를 쓰기 때문에)\n",
        "- out_features : 출력노드의 개수\n",
        "- dropout : 제거하는 노드 비율 (?) (정확하지 않음 확인 필요)\n",
        "\n",
        "- net : 우리가 설정할 네트워크 (현재는 hidden layer가 3개)"
      ]
    },
    {
      "cell_type": "code",
      "metadata": {
        "id": "iJHZogmj5a-4"
      },
      "source": [
        "in_features = x_train.shape[1]\n",
        "# num_nodes = [32, 32]\n",
        "out_features = 1\n",
        "batch_norm = True\n",
        "dropout = 0.1\n",
        "output_bias = False\n",
        "nodes = 311\n",
        "\n",
        "net = torch.nn.Sequential(\n",
        "    torch.nn.Linear(in_features, nodes),\n",
        "    torch.nn.ReLU(),\n",
        "    torch.nn.BatchNorm1d(nodes),\n",
        "    torch.nn.Dropout(0.1),\n",
        "    \n",
        "    torch.nn.Linear(nodes, nodes),\n",
        "    torch.nn.ReLU(),\n",
        "    torch.nn.BatchNorm1d(nodes),\n",
        "    torch.nn.Dropout(0.1),\n",
        "\n",
        "    torch.nn.Linear(nodes, nodes),\n",
        "    torch.nn.ReLU(),\n",
        "    torch.nn.BatchNorm1d(nodes),\n",
        "    torch.nn.Dropout(0.1),\n",
        "\n",
        "    \n",
        "    torch.nn.Linear(nodes, out_features)\n",
        ")"
      ],
      "execution_count": 32,
      "outputs": []
    },
    {
      "cell_type": "markdown",
      "metadata": {
        "id": "rhhHsQ7FodHn"
      },
      "source": [
        "- CoxPH 모델 생성, net은 위에서 설계한 네트워크로, optimizer은 Adam 기법으로 (!= SGD)"
      ]
    },
    {
      "cell_type": "code",
      "metadata": {
        "id": "Cd2yOAOz5jME"
      },
      "source": [
        "model = CoxPH(net, tt.optim.Adam)"
      ],
      "execution_count": 33,
      "outputs": []
    },
    {
      "cell_type": "markdown",
      "metadata": {
        "id": "G5F-ICzbope3"
      },
      "source": [
        "- batch_size : 한 번의 학습에서 이용할 데이터 개수가 256\n",
        "- lrfinder : 이 모델에서 적절한 학습률을 찾아주는 함수\n",
        "- lrfinder.plot()을 하면 그래프를 그려줌."
      ]
    },
    {
      "cell_type": "code",
      "metadata": {
        "colab": {
          "base_uri": "https://localhost:8080/",
          "height": 283
        },
        "id": "XWAwzoys5kTa",
        "outputId": "80a136d8-e938-4678-c2b4-7cf89a519132"
      },
      "source": [
        "batch_size = 256\n",
        "lrfinder = model.lr_finder(x_train, y_train, batch_size, tolerance=10)\n",
        "_ = lrfinder.plot()"
      ],
      "execution_count": 34,
      "outputs": [
        {
          "output_type": "display_data",
          "data": {
            "image/png": "[encoded data removed]",
            "text/plain": [
              "<Figure size 432x288 with 1 Axes>"
            ]
          },
          "metadata": {
            "needs_background": "light"
          }
        }
      ]
    },
    {
      "cell_type": "markdown",
      "metadata": {
        "id": "ICxtCmzWo7xq"
      },
      "source": [
        "-lrfinder.get_best_lr() : lrfinder가 추천하는 학습률 return"
      ]
    },
    {
      "cell_type": "code",
      "metadata": {
        "colab": {
          "base_uri": "https://localhost:8080/"
        },
        "id": "ptRgtHIx50ia",
        "outputId": "dc9891ea-eede-46b4-d360-8b2782a95409"
      },
      "source": [
        "lrfinder.get_best_lr()"
      ],
      "execution_count": 35,
      "outputs": [
        {
          "output_type": "execute_result",
          "data": {
            "text/plain": [
              "0.006579332246575716"
            ]
          },
          "metadata": {},
          "execution_count": 35
        }
      ]
    },
    {
      "cell_type": "markdown",
      "metadata": {
        "id": "seTVYUaZpbXV"
      },
      "source": [
        "- 위에서 얻은 학습률로 optimizer을 설정함"
      ]
    },
    {
      "cell_type": "code",
      "metadata": {
        "id": "r1mFYII8523C"
      },
      "source": [
        "model.optimizer.set_lr(lrfinder.get_best_lr())"
      ],
      "execution_count": 36,
      "outputs": []
    },
    {
      "cell_type": "markdown",
      "metadata": {
        "id": "MTfaVNxRpf8B"
      },
      "source": [
        "- 512번 학습\n",
        "- EarlyStopping() 함수는 학습에 진전이 없을 때 학습을 멈추게 하는 함수\n",
        "- verbose는 뭔지 아직 모르겠음."
      ]
    },
    {
      "cell_type": "code",
      "metadata": {
        "id": "EKeYRiRt5_t-"
      },
      "source": [
        "epochs = 512\n",
        "callbacks = [tt.callbacks.EarlyStopping()]\n",
        "verbose = True"
      ],
      "execution_count": 37,
      "outputs": []
    },
    {
      "cell_type": "markdown",
      "metadata": {
        "id": "yiY0gDY5pvbB"
      },
      "source": [
        "- 모델을 학습시키면서 log를 기록"
      ]
    },
    {
      "cell_type": "code",
      "metadata": {
        "colab": {
          "base_uri": "https://localhost:8080/"
        },
        "id": "RHBJBTJW6CAM",
        "outputId": "38181c56-76cd-4703-ecbf-d935c4f79176"
      },
      "source": [
        "%%time\n",
        "log = model.fit(x_train, y_train, batch_size, epochs, callbacks, verbose,\n",
        "                val_data=val, val_batch_size=batch_size)"
      ],
      "execution_count": 38,
      "outputs": [
        {
          "output_type": "stream",
          "name": "stdout",
          "text": [
            "0:\t[0s / 0s],\t\ttrain_loss: 4.9113,\tval_loss: 4.2870\n",
            "1:\t[0s / 0s],\t\ttrain_loss: 4.5652,\tval_loss: 4.2841\n",
            "2:\t[0s / 0s],\t\ttrain_loss: 4.2776,\tval_loss: 4.2843\n",
            "3:\t[0s / 0s],\t\ttrain_loss: 4.0288,\tval_loss: 4.2626\n",
            "4:\t[0s / 0s],\t\ttrain_loss: 3.8158,\tval_loss: 4.2313\n",
            "5:\t[0s / 0s],\t\ttrain_loss: 3.6578,\tval_loss: 4.2195\n",
            "6:\t[0s / 0s],\t\ttrain_loss: 3.3963,\tval_loss: 4.1859\n",
            "7:\t[0s / 0s],\t\ttrain_loss: 3.2403,\tval_loss: 4.1664\n",
            "8:\t[0s / 0s],\t\ttrain_loss: 3.1524,\tval_loss: 4.3064\n",
            "9:\t[0s / 0s],\t\ttrain_loss: 3.0233,\tval_loss: 4.5347\n",
            "10:\t[0s / 0s],\t\ttrain_loss: 3.0461,\tval_loss: 4.5361\n",
            "11:\t[0s / 0s],\t\ttrain_loss: 2.9924,\tval_loss: 4.5292\n",
            "12:\t[0s / 0s],\t\ttrain_loss: 2.9321,\tval_loss: 4.5162\n",
            "13:\t[0s / 0s],\t\ttrain_loss: 2.9258,\tval_loss: 4.6571\n",
            "14:\t[0s / 1s],\t\ttrain_loss: 2.8482,\tval_loss: 4.8851\n",
            "15:\t[0s / 1s],\t\ttrain_loss: 2.7909,\tval_loss: 4.9207\n",
            "16:\t[0s / 1s],\t\ttrain_loss: 2.7454,\tval_loss: 4.8217\n",
            "17:\t[0s / 1s],\t\ttrain_loss: 2.7682,\tval_loss: 4.7575\n",
            "CPU times: user 1.18 s, sys: 49 ms, total: 1.23 s\n",
            "Wall time: 1.25 s\n"
          ]
        }
      ]
    },
    {
      "cell_type": "markdown",
      "metadata": {
        "id": "ICGiAoGQp1S4"
      },
      "source": [
        "- 찍힌 log를 그래프로 그림"
      ]
    },
    {
      "cell_type": "code",
      "metadata": {
        "colab": {
          "base_uri": "https://localhost:8080/",
          "height": 267
        },
        "id": "MoO8pJ4H6IV-",
        "outputId": "bb851a3d-67ee-41ff-8e44-921d7ec7b7a2"
      },
      "source": [
        "_ = log.plot()"
      ],
      "execution_count": 39,
      "outputs": [
        {
          "output_type": "display_data",
          "data": {
            "image/png": "[encoded data removed]",
            "text/plain": [
              "<Figure size 432x288 with 1 Axes>"
            ]
          },
          "metadata": {
            "needs_background": "light"
          }
        }
      ]
    },
    {
      "cell_type": "markdown",
      "metadata": {
        "id": "8aJVYTRRp5GJ"
      },
      "source": [
        "- 생존 함수를 그리기 위해서 baseline_hazard를 compute하는 이 함수를 호출해야 한다고 함."
      ]
    },
    {
      "cell_type": "code",
      "metadata": {
        "id": "QSs3D1aK6LaT"
      },
      "source": [
        "_ = model.compute_baseline_hazards()"
      ],
      "execution_count": 40,
      "outputs": []
    },
    {
      "cell_type": "markdown",
      "metadata": {
        "id": "lBthPw8TqDZT"
      },
      "source": [
        "- model.predict함수는 입력 데이터에 대한 log partial hazard를 구해줌.\n",
        "- partial_hazard : predict 함수로 얻은 지수부분에 e를 취해 e^log_partial_hazard 값들을 리스트로 얻음.\n",
        "- treat_hr : 300개의 유전자 변이에 대해서 치료가 0일때와 1일때 위험비를 계산해서 추가함.\n",
        "- for문 설명 : 빈 리스트에 300개를 추가할건데 G1부터 G300까지 각각 치료했을 때/치료하지 않았을 때 위험비를 저장\n",
        "- 치료 유무에 따른 위험비값을 기준으로 오름차순 정렬\n",
        "- 위 값이 작을 수록 치료했을 때 위험률이 낮은 것이므로 유전자 앞의 10개 print\n",
        "- 밑 두 알고리즘은 순서가 같게 나올 수 밖에 없음(밑의 알고리즘의 모든 항에서 분모 분자를 치료 여부에 따른 baseline hazard 값으로 나눠준것이기 때문)"
      ]
    },
    {
      "cell_type": "code",
      "metadata": {
        "colab": {
          "base_uri": "https://localhost:8080/"
        },
        "id": "RtfI8GXtoe31",
        "outputId": "7fd42b94-3a9c-4fe0-d240-fc3fc0141595"
      },
      "source": [
        "base_untreat = partial_hazard[0]\n",
        "base_treat = partial_hazard[1]\n",
        "\n",
        "lee = []\n",
        "for i in range(300):\n",
        "  lee.append([(partial_hazard[i+302]/base_treat)/(partial_hazard[i+2]/base_untreat), 'G' + str(i+1)])\n",
        "lee.sort()\n",
        "lee[:10]"
      ],
      "execution_count": 44,
      "outputs": [
        {
          "output_type": "execute_result",
          "data": {
            "text/plain": [
              "[[array([0.6775736], dtype=float32), 'G129'],\n",
              " [array([0.7228191], dtype=float32), 'G259'],\n",
              " [array([0.7238082], dtype=float32), 'G270'],\n",
              " [array([0.7367035], dtype=float32), 'G281'],\n",
              " [array([0.7373321], dtype=float32), 'G151'],\n",
              " [array([0.74438703], dtype=float32), 'G62'],\n",
              " [array([0.7722718], dtype=float32), 'G243'],\n",
              " [array([0.77431643], dtype=float32), 'G179'],\n",
              " [array([0.777427], dtype=float32), 'G30'],\n",
              " [array([0.77755195], dtype=float32), 'G59']]"
            ]
          },
          "metadata": {},
          "execution_count": 44
        }
      ]
    },
    {
      "cell_type": "code",
      "metadata": {
        "colab": {
          "base_uri": "https://localhost:8080/"
        },
        "id": "oERvGUxMenib",
        "outputId": "9dd284f1-c80a-4eb1-9c5e-7a2847c05ec4"
      },
      "source": [
        "log_partial_hazard = model.predict(x_for_hr)\n",
        "partial_hazard = [np.exp(i) for i in log_partial_hazard]\n",
        "\n",
        "treat_hr = []\n",
        "# ratio with treated and untreated\n",
        "for i in range(300):\n",
        "  treat_hr.append([partial_hazard[i+302]/partial_hazard[i+2],'G' + str(i+1)])\n",
        "treat_hr.sort()\n",
        "treat_hr[:10]"
      ],
      "execution_count": 42,
      "outputs": [
        {
          "output_type": "execute_result",
          "data": {
            "text/plain": [
              "[[array([0.20731464], dtype=float32), 'G129'],\n",
              " [array([0.22115822], dtype=float32), 'G259'],\n",
              " [array([0.22146086], dtype=float32), 'G270'],\n",
              " [array([0.22540638], dtype=float32), 'G281'],\n",
              " [array([0.2255987], dtype=float32), 'G151'],\n",
              " [array([0.22775728], dtype=float32), 'G62'],\n",
              " [array([0.23628908], dtype=float32), 'G243'],\n",
              " [array([0.23691468], dtype=float32), 'G179'],\n",
              " [array([0.2378664], dtype=float32), 'G30'],\n",
              " [array([0.23790465], dtype=float32), 'G59']]"
            ]
          },
          "metadata": {},
          "execution_count": 42
        }
      ]
    },
    {
      "cell_type": "code",
      "metadata": {
        "id": "xSJdVsq8HZmH",
        "outputId": "a48ef1b6-4e59-48ee-99b2-98e1df118ea1",
        "colab": {
          "base_uri": "https://localhost:8080/"
        }
      },
      "source": [
        "partial_hazard"
      ],
      "execution_count": 43,
      "outputs": [
        {
          "output_type": "execute_result",
          "data": {
            "text/plain": [
              "[array([1.9355932], dtype=float32),\n",
              " array([0.59222615], dtype=float32),\n",
              " array([1.6940686], dtype=float32),\n",
              " array([1.1678175], dtype=float32),\n",
              " array([1.882911], dtype=float32),\n",
              " array([2.278436], dtype=float32),\n",
              " array([4.0829945], dtype=float32),\n",
              " array([0.90692747], dtype=float32),\n",
              " array([4.1785526], dtype=float32),\n",
              " array([2.1434145], dtype=float32),\n",
              " array([2.2933981], dtype=float32),\n",
              " array([2.4603539], dtype=float32),\n",
              " array([2.6900322], dtype=float32),\n",
              " array([3.6594071], dtype=float32),\n",
              " array([1.3015677], dtype=float32),\n",
              " array([1.7017257], dtype=float32),\n",
              " array([2.018528], dtype=float32),\n",
              " array([3.1850204], dtype=float32),\n",
              " array([1.6171846], dtype=float32),\n",
              " array([1.931347], dtype=float32),\n",
              " array([2.6273022], dtype=float32),\n",
              " array([2.7425928], dtype=float32),\n",
              " array([2.0734298], dtype=float32),\n",
              " array([4.51283], dtype=float32),\n",
              " array([1.7764654], dtype=float32),\n",
              " array([2.6853278], dtype=float32),\n",
              " array([2.3373487], dtype=float32),\n",
              " array([1.8340545], dtype=float32),\n",
              " array([3.1606784], dtype=float32),\n",
              " array([1.6056631], dtype=float32),\n",
              " array([2.4789023], dtype=float32),\n",
              " array([3.9516168], dtype=float32),\n",
              " array([2.3407955], dtype=float32),\n",
              " array([1.6100309], dtype=float32),\n",
              " array([2.7013416], dtype=float32),\n",
              " array([2.1085098], dtype=float32),\n",
              " array([1.9605078], dtype=float32),\n",
              " array([2.018426], dtype=float32),\n",
              " array([2.0127487], dtype=float32),\n",
              " array([1.2231231], dtype=float32),\n",
              " array([2.19878], dtype=float32),\n",
              " array([1.131736], dtype=float32),\n",
              " array([1.6220053], dtype=float32),\n",
              " array([3.2640996], dtype=float32),\n",
              " array([1.7356888], dtype=float32),\n",
              " array([1.9483616], dtype=float32),\n",
              " array([1.0567632], dtype=float32),\n",
              " array([4.631143], dtype=float32),\n",
              " array([2.283781], dtype=float32),\n",
              " array([1.890378], dtype=float32),\n",
              " array([2.3254697], dtype=float32),\n",
              " array([1.3626748], dtype=float32),\n",
              " array([1.9289584], dtype=float32),\n",
              " array([1.2335759], dtype=float32),\n",
              " array([2.1282017], dtype=float32),\n",
              " array([2.45204], dtype=float32),\n",
              " array([2.4207535], dtype=float32),\n",
              " array([1.7252082], dtype=float32),\n",
              " array([2.188814], dtype=float32),\n",
              " array([1.8842686], dtype=float32),\n",
              " array([3.9853094], dtype=float32),\n",
              " array([2.3784013], dtype=float32),\n",
              " array([2.1994722], dtype=float32),\n",
              " array([3.6019049], dtype=float32),\n",
              " array([3.9699032], dtype=float32),\n",
              " array([2.4027076], dtype=float32),\n",
              " array([2.346138], dtype=float32),\n",
              " array([3.3319871], dtype=float32),\n",
              " array([2.4594326], dtype=float32),\n",
              " array([1.144959], dtype=float32),\n",
              " array([2.2386808], dtype=float32),\n",
              " array([1.4072392], dtype=float32),\n",
              " array([3.1335034], dtype=float32),\n",
              " array([1.8007069], dtype=float32),\n",
              " array([2.6689003], dtype=float32),\n",
              " array([2.0313518], dtype=float32),\n",
              " array([1.0449445], dtype=float32),\n",
              " array([2.531536], dtype=float32),\n",
              " array([3.699296], dtype=float32),\n",
              " array([1.5975575], dtype=float32),\n",
              " array([1.326552], dtype=float32),\n",
              " array([1.7902747], dtype=float32),\n",
              " array([2.4010835], dtype=float32),\n",
              " array([3.0325181], dtype=float32),\n",
              " array([1.3265692], dtype=float32),\n",
              " array([2.1992686], dtype=float32),\n",
              " array([2.234162], dtype=float32),\n",
              " array([2.30621], dtype=float32),\n",
              " array([3.226051], dtype=float32),\n",
              " array([0.8359005], dtype=float32),\n",
              " array([4.056914], dtype=float32),\n",
              " array([2.5607018], dtype=float32),\n",
              " array([3.4507532], dtype=float32),\n",
              " array([1.4720585], dtype=float32),\n",
              " array([2.2550077], dtype=float32),\n",
              " array([4.3869853], dtype=float32),\n",
              " array([2.3563335], dtype=float32),\n",
              " array([2.020845], dtype=float32),\n",
              " array([1.407922], dtype=float32),\n",
              " array([1.5571461], dtype=float32),\n",
              " array([3.4999385], dtype=float32),\n",
              " array([2.0471835], dtype=float32),\n",
              " array([1.8130374], dtype=float32),\n",
              " array([3.9144673], dtype=float32),\n",
              " array([2.2789266], dtype=float32),\n",
              " array([2.6713865], dtype=float32),\n",
              " array([3.0613086], dtype=float32),\n",
              " array([1.9278123], dtype=float32),\n",
              " array([2.7764711], dtype=float32),\n",
              " array([5.8660283], dtype=float32),\n",
              " array([2.7078497], dtype=float32),\n",
              " array([2.7665946], dtype=float32),\n",
              " array([2.6781127], dtype=float32),\n",
              " array([1.7509499], dtype=float32),\n",
              " array([2.5154293], dtype=float32),\n",
              " array([2.146399], dtype=float32),\n",
              " array([1.8863488], dtype=float32),\n",
              " array([2.6372178], dtype=float32),\n",
              " array([2.9026687], dtype=float32),\n",
              " array([4.312814], dtype=float32),\n",
              " array([2.231644], dtype=float32),\n",
              " array([2.1096194], dtype=float32),\n",
              " array([3.7362971], dtype=float32),\n",
              " array([1.8178517], dtype=float32),\n",
              " array([2.0236773], dtype=float32),\n",
              " array([1.3875862], dtype=float32),\n",
              " array([2.4697359], dtype=float32),\n",
              " array([1.9135197], dtype=float32),\n",
              " array([1.4183834], dtype=float32),\n",
              " array([3.982758], dtype=float32),\n",
              " array([4.1177816], dtype=float32),\n",
              " array([2.097307], dtype=float32),\n",
              " array([1.5210916], dtype=float32),\n",
              " array([3.2774587], dtype=float32),\n",
              " array([1.6506138], dtype=float32),\n",
              " array([1.3878943], dtype=float32),\n",
              " array([2.5184], dtype=float32),\n",
              " array([1.4535489], dtype=float32),\n",
              " array([1.5661455], dtype=float32),\n",
              " array([4.6427135], dtype=float32),\n",
              " array([2.5856955], dtype=float32),\n",
              " array([1.4751093], dtype=float32),\n",
              " array([2.193956], dtype=float32),\n",
              " array([1.5865941], dtype=float32),\n",
              " array([2.357649], dtype=float32),\n",
              " array([1.9435165], dtype=float32),\n",
              " array([2.9004693], dtype=float32),\n",
              " array([2.7216892], dtype=float32),\n",
              " array([2.3594365], dtype=float32),\n",
              " array([1.3671424], dtype=float32),\n",
              " array([1.4074562], dtype=float32),\n",
              " array([1.703868], dtype=float32),\n",
              " array([4.142443], dtype=float32),\n",
              " array([2.2490034], dtype=float32),\n",
              " array([1.5953044], dtype=float32),\n",
              " array([2.3103108], dtype=float32),\n",
              " array([1.5229667], dtype=float32),\n",
              " array([1.1760898], dtype=float32),\n",
              " array([1.5710152], dtype=float32),\n",
              " array([3.2309203], dtype=float32),\n",
              " array([2.5727594], dtype=float32),\n",
              " array([2.587524], dtype=float32),\n",
              " array([2.0227334], dtype=float32),\n",
              " array([3.7869554], dtype=float32),\n",
              " array([2.328047], dtype=float32),\n",
              " array([1.1715945], dtype=float32),\n",
              " array([2.0924087], dtype=float32),\n",
              " array([2.7534382], dtype=float32),\n",
              " array([3.1818833], dtype=float32),\n",
              " array([2.031302], dtype=float32),\n",
              " array([1.4350877], dtype=float32),\n",
              " array([1.4692323], dtype=float32),\n",
              " array([1.2106009], dtype=float32),\n",
              " array([2.075256], dtype=float32),\n",
              " array([1.724454], dtype=float32),\n",
              " array([1.4794372], dtype=float32),\n",
              " array([1.948558], dtype=float32),\n",
              " array([3.3156874], dtype=float32),\n",
              " array([3.5592365], dtype=float32),\n",
              " array([1.7165308], dtype=float32),\n",
              " array([2.7337058], dtype=float32),\n",
              " array([2.4961655], dtype=float32),\n",
              " array([2.7989774], dtype=float32),\n",
              " array([1.1903082], dtype=float32),\n",
              " array([2.1032436], dtype=float32),\n",
              " array([1.9699215], dtype=float32),\n",
              " array([2.721625], dtype=float32),\n",
              " array([3.243247], dtype=float32),\n",
              " array([2.414914], dtype=float32),\n",
              " array([2.5770395], dtype=float32),\n",
              " array([3.2922804], dtype=float32),\n",
              " array([1.8796773], dtype=float32),\n",
              " array([1.3910071], dtype=float32),\n",
              " array([2.253134], dtype=float32),\n",
              " array([1.3230481], dtype=float32),\n",
              " array([2.2178295], dtype=float32),\n",
              " array([1.749138], dtype=float32),\n",
              " array([2.584158], dtype=float32),\n",
              " array([3.172495], dtype=float32),\n",
              " array([3.3380222], dtype=float32),\n",
              " array([1.7012948], dtype=float32),\n",
              " array([3.128653], dtype=float32),\n",
              " array([1.846234], dtype=float32),\n",
              " array([2.668294], dtype=float32),\n",
              " array([2.1950274], dtype=float32),\n",
              " array([1.2021159], dtype=float32),\n",
              " array([1.1237688], dtype=float32),\n",
              " array([1.4978635], dtype=float32),\n",
              " array([2.9641883], dtype=float32),\n",
              " array([1.5728667], dtype=float32),\n",
              " array([3.9184153], dtype=float32),\n",
              " array([5.0172753], dtype=float32),\n",
              " array([1.6043062], dtype=float32),\n",
              " array([1.7422711], dtype=float32),\n",
              " array([2.374573], dtype=float32),\n",
              " array([1.2900414], dtype=float32),\n",
              " array([2.8547177], dtype=float32),\n",
              " array([2.8438656], dtype=float32),\n",
              " array([2.2520978], dtype=float32),\n",
              " array([1.6349145], dtype=float32),\n",
              " array([2.0988865], dtype=float32),\n",
              " array([2.9486344], dtype=float32),\n",
              " array([2.2700927], dtype=float32),\n",
              " array([2.722308], dtype=float32),\n",
              " array([2.422718], dtype=float32),\n",
              " array([2.8628647], dtype=float32),\n",
              " array([1.778874], dtype=float32),\n",
              " array([2.8089793], dtype=float32),\n",
              " array([3.2768886], dtype=float32),\n",
              " array([3.079856], dtype=float32),\n",
              " array([1.6386585], dtype=float32),\n",
              " array([1.7470723], dtype=float32),\n",
              " array([2.0175297], dtype=float32),\n",
              " array([2.1596434], dtype=float32),\n",
              " array([2.7049456], dtype=float32),\n",
              " array([1.6409422], dtype=float32),\n",
              " array([2.9649525], dtype=float32),\n",
              " array([1.5133486], dtype=float32),\n",
              " array([2.1358452], dtype=float32),\n",
              " array([2.8039165], dtype=float32),\n",
              " array([2.6206229], dtype=float32),\n",
              " array([4.529299], dtype=float32),\n",
              " array([1.7391936], dtype=float32),\n",
              " array([2.3453598], dtype=float32),\n",
              " array([4.620063], dtype=float32),\n",
              " array([3.1642635], dtype=float32),\n",
              " array([2.5125587], dtype=float32),\n",
              " array([2.358916], dtype=float32),\n",
              " array([1.5415314], dtype=float32),\n",
              " array([2.6846633], dtype=float32),\n",
              " array([1.803689], dtype=float32),\n",
              " array([1.680146], dtype=float32),\n",
              " array([1.6925919], dtype=float32),\n",
              " array([1.5579934], dtype=float32),\n",
              " array([2.222555], dtype=float32),\n",
              " array([1.3171343], dtype=float32),\n",
              " array([1.1651791], dtype=float32),\n",
              " array([3.0513358], dtype=float32),\n",
              " array([2.8021321], dtype=float32),\n",
              " array([3.4690478], dtype=float32),\n",
              " array([5.0145664], dtype=float32),\n",
              " array([2.1565692], dtype=float32),\n",
              " array([2.0236588], dtype=float32),\n",
              " array([2.9509838], dtype=float32),\n",
              " array([2.4783363], dtype=float32),\n",
              " array([1.860661], dtype=float32),\n",
              " array([2.4967394], dtype=float32),\n",
              " array([2.0939276], dtype=float32),\n",
              " array([1.48042], dtype=float32),\n",
              " array([2.1218119], dtype=float32),\n",
              " array([3.447886], dtype=float32),\n",
              " array([3.5841172], dtype=float32),\n",
              " array([2.688558], dtype=float32),\n",
              " array([1.7124777], dtype=float32),\n",
              " array([3.817266], dtype=float32),\n",
              " array([1.2876425], dtype=float32),\n",
              " array([2.3700445], dtype=float32),\n",
              " array([2.7324748], dtype=float32),\n",
              " array([1.9662801], dtype=float32),\n",
              " array([3.2081645], dtype=float32),\n",
              " array([1.7671336], dtype=float32),\n",
              " array([3.0468469], dtype=float32),\n",
              " array([2.6807692], dtype=float32),\n",
              " array([1.6664647], dtype=float32),\n",
              " array([3.2846532], dtype=float32),\n",
              " array([2.599021], dtype=float32),\n",
              " array([3.7906954], dtype=float32),\n",
              " array([2.674503], dtype=float32),\n",
              " array([1.2526234], dtype=float32),\n",
              " array([2.4164896], dtype=float32),\n",
              " array([4.0791397], dtype=float32),\n",
              " array([1.8406162], dtype=float32),\n",
              " array([1.6631107], dtype=float32),\n",
              " array([5.06184], dtype=float32),\n",
              " array([3.4808419], dtype=float32),\n",
              " array([2.081136], dtype=float32),\n",
              " array([1.5575856], dtype=float32),\n",
              " array([1.6574188], dtype=float32),\n",
              " array([3.207593], dtype=float32),\n",
              " array([3.211811], dtype=float32),\n",
              " array([4.8034873], dtype=float32),\n",
              " array([1.9552265], dtype=float32),\n",
              " array([0.47174773], dtype=float32),\n",
              " array([0.43385044], dtype=float32),\n",
              " array([0.5854682], dtype=float32),\n",
              " array([0.76248914], dtype=float32),\n",
              " array([1.1100445], dtype=float32),\n",
              " array([0.3279534], dtype=float32),\n",
              " array([1.1027519], dtype=float32),\n",
              " array([0.5332187], dtype=float32),\n",
              " array([0.65678483], dtype=float32),\n",
              " array([0.7926318], dtype=float32),\n",
              " array([0.6572397], dtype=float32),\n",
              " array([1.066241], dtype=float32),\n",
              " array([0.42404914], dtype=float32),\n",
              " array([0.5400166], dtype=float32),\n",
              " array([0.61888885], dtype=float32),\n",
              " array([0.95782125], dtype=float32),\n",
              " array([0.5504044], dtype=float32),\n",
              " array([0.56613135], dtype=float32),\n",
              " array([0.81106657], dtype=float32),\n",
              " array([0.7330055], dtype=float32),\n",
              " array([0.6899859], dtype=float32),\n",
              " array([1.4789574], dtype=float32),\n",
              " array([0.54515696], dtype=float32),\n",
              " array([0.6397706], dtype=float32),\n",
              " array([0.7587061], dtype=float32),\n",
              " array([0.6329577], dtype=float32),\n",
              " array([0.82536197], dtype=float32),\n",
              " array([0.5023845], dtype=float32),\n",
              " array([0.6536091], dtype=float32),\n",
              " array([0.93995684], dtype=float32),\n",
              " array([0.7651431], dtype=float32),\n",
              " array([0.5067488], dtype=float32),\n",
              " array([0.75858796], dtype=float32),\n",
              " array([0.6367439], dtype=float32),\n",
              " array([0.55384856], dtype=float32),\n",
              " array([0.6646029], dtype=float32),\n",
              " array([0.6523714], dtype=float32),\n",
              " array([0.41729903], dtype=float32),\n",
              " array([0.63096166], dtype=float32),\n",
              " array([0.40457693], dtype=float32),\n",
              " array([0.56434685], dtype=float32),\n",
              " array([1.0474917], dtype=float32),\n",
              " array([0.5913236], dtype=float32),\n",
              " array([0.6404699], dtype=float32),\n",
              " array([0.39832363], dtype=float32),\n",
              " array([1.1850682], dtype=float32),\n",
              " array([0.7304932], dtype=float32),\n",
              " array([0.5245854], dtype=float32),\n",
              " array([0.65496314], dtype=float32),\n",
              " array([0.40944496], dtype=float32),\n",
              " array([0.5807723], dtype=float32),\n",
              " array([0.44868204], dtype=float32),\n",
              " array([0.74081975], dtype=float32),\n",
              " array([0.7008715], dtype=float32),\n",
              " array([0.7599741], dtype=float32),\n",
              " array([0.53948855], dtype=float32),\n",
              " array([0.62815756], dtype=float32),\n",
              " array([0.63686883], dtype=float32),\n",
              " array([0.94812363], dtype=float32),\n",
              " array([0.7291519], dtype=float32),\n",
              " array([0.86617696], dtype=float32),\n",
              " array([0.82036006], dtype=float32),\n",
              " array([0.9566743], dtype=float32),\n",
              " array([0.72502035], dtype=float32),\n",
              " array([0.7016634], dtype=float32),\n",
              " array([1.0652928], dtype=float32),\n",
              " array([0.7342654], dtype=float32),\n",
              " array([0.42280138], dtype=float32),\n",
              " array([0.68200755], dtype=float32),\n",
              " array([0.47116348], dtype=float32),\n",
              " array([1.0254072], dtype=float32),\n",
              " array([0.6617406], dtype=float32),\n",
              " array([0.8198623], dtype=float32),\n",
              " array([0.5831097], dtype=float32),\n",
              " array([0.34360442], dtype=float32),\n",
              " array([0.9062], dtype=float32),\n",
              " array([1.1953651], dtype=float32),\n",
              " array([0.67392695], dtype=float32),\n",
              " array([0.43762735], dtype=float32),\n",
              " array([0.6404453], dtype=float32),\n",
              " array([0.6796016], dtype=float32),\n",
              " array([0.90337235], dtype=float32),\n",
              " array([0.39808902], dtype=float32),\n",
              " array([0.7504325], dtype=float32),\n",
              " array([0.72511524], dtype=float32),\n",
              " array([0.6555216], dtype=float32),\n",
              " array([0.91116136], dtype=float32),\n",
              " array([0.3050228], dtype=float32),\n",
              " array([1.1199428], dtype=float32),\n",
              " array([0.7889599], dtype=float32),\n",
              " array([1.0535241], dtype=float32),\n",
              " array([0.4523532], dtype=float32),\n",
              " array([0.728667], dtype=float32),\n",
              " array([1.158915], dtype=float32),\n",
              " array([0.65156716], dtype=float32),\n",
              " array([0.7009622], dtype=float32),\n",
              " array([0.45400202], dtype=float32),\n",
              " array([0.4810154], dtype=float32),\n",
              " array([0.96532637], dtype=float32),\n",
              " array([0.57450616], dtype=float32),\n",
              " array([0.50325054], dtype=float32),\n",
              " array([0.99379843], dtype=float32),\n",
              " array([0.7504079], dtype=float32),\n",
              " array([0.750371], dtype=float32),\n",
              " array([0.8989486], dtype=float32),\n",
              " array([0.69754404], dtype=float32),\n",
              " array([0.7852722], dtype=float32),\n",
              " array([1.577588], dtype=float32),\n",
              " array([0.8564181], dtype=float32),\n",
              " array([0.8510572], dtype=float32),\n",
              " array([0.70313656], dtype=float32),\n",
              " array([0.58997273], dtype=float32),\n",
              " array([0.6998408], dtype=float32),\n",
              " array([0.6690407], dtype=float32),\n",
              " array([0.53781366], dtype=float32),\n",
              " array([0.74786246], dtype=float32),\n",
              " array([0.8720445], dtype=float32),\n",
              " array([1.2109706], dtype=float32),\n",
              " array([0.6313065], dtype=float32),\n",
              " array([0.582119], dtype=float32),\n",
              " array([1.0385998], dtype=float32),\n",
              " array([0.5641253], dtype=float32),\n",
              " array([0.6127559], dtype=float32),\n",
              " array([0.4827304], dtype=float32),\n",
              " array([0.8869512], dtype=float32),\n",
              " array([0.5544826], dtype=float32),\n",
              " array([0.51953053], dtype=float32),\n",
              " array([0.9998703], dtype=float32),\n",
              " array([0.85367644], dtype=float32),\n",
              " array([0.6140636], dtype=float32),\n",
              " array([0.46855447], dtype=float32),\n",
              " array([0.7929624], dtype=float32),\n",
              " array([0.51270866], dtype=float32),\n",
              " array([0.4932483], dtype=float32),\n",
              " array([0.71404374], dtype=float32),\n",
              " array([0.4802004], dtype=float32),\n",
              " array([0.38392007], dtype=float32),\n",
              " array([1.254643], dtype=float32),\n",
              " array([0.7993901], dtype=float32),\n",
              " array([0.4497686], dtype=float32),\n",
              " array([0.6957391], dtype=float32),\n",
              " array([0.46405265], dtype=float32),\n",
              " array([0.7955786], dtype=float32),\n",
              " array([0.5424177], dtype=float32),\n",
              " array([0.8361468], dtype=float32),\n",
              " array([0.9738183], dtype=float32),\n",
              " array([0.7413422], dtype=float32),\n",
              " array([0.43646395], dtype=float32),\n",
              " array([0.41026565], dtype=float32),\n",
              " array([0.5509694], dtype=float32),\n",
              " array([0.9345298], dtype=float32),\n",
              " array([0.7671671], dtype=float32),\n",
              " array([0.72659874], dtype=float32),\n",
              " array([0.5913597], dtype=float32),\n",
              " array([0.5450547], dtype=float32),\n",
              " array([0.44559583], dtype=float32),\n",
              " array([0.4898242], dtype=float32),\n",
              " array([0.84107083], dtype=float32),\n",
              " array([0.8432886], dtype=float32),\n",
              " array([0.63489574], dtype=float32),\n",
              " array([0.5871088], dtype=float32),\n",
              " array([1.1670943], dtype=float32),\n",
              " array([0.6567858], dtype=float32),\n",
              " array([0.36749023], dtype=float32),\n",
              " array([0.6324713], dtype=float32),\n",
              " array([0.78902763], dtype=float32),\n",
              " array([0.8924342], dtype=float32),\n",
              " array([0.5157145], dtype=float32),\n",
              " array([0.47609553], dtype=float32),\n",
              " array([0.4496281], dtype=float32),\n",
              " array([0.4162729], dtype=float32),\n",
              " array([0.70582134], dtype=float32),\n",
              " array([0.62295955], dtype=float32),\n",
              " array([0.5074227], dtype=float32),\n",
              " array([0.6149966], dtype=float32),\n",
              " array([1.0000066], dtype=float32),\n",
              " array([1.0134984], dtype=float32),\n",
              " array([0.59182775], dtype=float32),\n",
              " array([0.647655], dtype=float32),\n",
              " array([0.59508514], dtype=float32),\n",
              " array([0.8952843], dtype=float32),\n",
              " array([0.4072214], dtype=float32),\n",
              " array([0.62876725], dtype=float32),\n",
              " array([0.58410954], dtype=float32),\n",
              " array([0.8597482], dtype=float32),\n",
              " array([0.9268343], dtype=float32),\n",
              " array([0.6839227], dtype=float32),\n",
              " array([0.8393912], dtype=float32),\n",
              " array([1.0078781], dtype=float32),\n",
              " array([0.7239128], dtype=float32),\n",
              " array([0.44665655], dtype=float32),\n",
              " array([0.6370637], dtype=float32),\n",
              " array([0.4001941], dtype=float32),\n",
              " array([0.6577133], dtype=float32),\n",
              " array([0.55599284], dtype=float32),\n",
              " array([0.68289703], dtype=float32),\n",
              " array([0.8856916], dtype=float32),\n",
              " array([0.89651155], dtype=float32),\n",
              " array([0.573693], dtype=float32),\n",
              " array([0.86438966], dtype=float32),\n",
              " array([0.5450421], dtype=float32),\n",
              " array([0.87538654], dtype=float32),\n",
              " array([0.6743493], dtype=float32),\n",
              " array([0.37778488], dtype=float32),\n",
              " array([0.31946257], dtype=float32),\n",
              " array([0.4458516], dtype=float32),\n",
              " array([0.7094882], dtype=float32),\n",
              " array([0.46780527], dtype=float32),\n",
              " array([1.0689749], dtype=float32),\n",
              " array([1.2310526], dtype=float32),\n",
              " array([0.5156004], dtype=float32),\n",
              " array([0.50147814], dtype=float32),\n",
              " array([0.58627355], dtype=float32),\n",
              " array([0.46044147], dtype=float32),\n",
              " array([0.8570001], dtype=float32),\n",
              " array([0.8544866], dtype=float32),\n",
              " array([0.69420993], dtype=float32),\n",
              " array([0.544272], dtype=float32),\n",
              " array([0.63301796], dtype=float32),\n",
              " array([0.85849977], dtype=float32),\n",
              " array([0.659316], dtype=float32),\n",
              " array([0.79150015], dtype=float32),\n",
              " array([0.60577995], dtype=float32),\n",
              " array([1.0719621], dtype=float32),\n",
              " array([0.5491425], dtype=float32),\n",
              " array([0.80700713], dtype=float32),\n",
              " array([0.9338156], dtype=float32),\n",
              " array([0.76389545], dtype=float32),\n",
              " array([0.5965855], dtype=float32),\n",
              " array([0.6186971], dtype=float32),\n",
              " array([0.6894247], dtype=float32),\n",
              " array([0.69027597], dtype=float32),\n",
              " array([0.8408599], dtype=float32),\n",
              " array([0.44877043], dtype=float32),\n",
              " array([0.95887387], dtype=float32),\n",
              " array([0.4294783], dtype=float32),\n",
              " array([0.8013494], dtype=float32),\n",
              " array([0.8497504], dtype=float32),\n",
              " array([0.8151649], dtype=float32),\n",
              " array([1.438], dtype=float32),\n",
              " array([0.51980054], dtype=float32),\n",
              " array([0.75099015], dtype=float32),\n",
              " array([1.0916704], dtype=float32),\n",
              " array([0.8539947], dtype=float32),\n",
              " array([0.7687498], dtype=float32),\n",
              " array([0.92352724], dtype=float32),\n",
              " array([0.45208743], dtype=float32),\n",
              " array([0.8870105], dtype=float32),\n",
              " array([0.57352275], dtype=float32),\n",
              " array([0.5055574], dtype=float32),\n",
              " array([0.67679054], dtype=float32),\n",
              " array([0.45715493], dtype=float32),\n",
              " array([0.7196183], dtype=float32),\n",
              " array([0.4177723], dtype=float32),\n",
              " array([0.38172498], dtype=float32),\n",
              " array([0.7371441], dtype=float32),\n",
              " array([0.8144811], dtype=float32),\n",
              " array([0.9838815], dtype=float32),\n",
              " array([1.1090126], dtype=float32),\n",
              " array([0.74652296], dtype=float32),\n",
              " array([0.55128723], dtype=float32),\n",
              " array([0.77216005], dtype=float32),\n",
              " array([0.7650465], dtype=float32),\n",
              " array([0.54253906], dtype=float32),\n",
              " array([0.6796139], dtype=float32),\n",
              " array([0.64504075], dtype=float32),\n",
              " array([0.5371939], dtype=float32),\n",
              " array([0.73217005], dtype=float32),\n",
              " array([0.98785704], dtype=float32),\n",
              " array([0.7937417], dtype=float32),\n",
              " array([0.7089211], dtype=float32),\n",
              " array([0.55150616], dtype=float32),\n",
              " array([0.9297728], dtype=float32),\n",
              " array([0.40195432], dtype=float32),\n",
              " array([0.7286042], dtype=float32),\n",
              " array([0.7871544], dtype=float32),\n",
              " array([0.58832145], dtype=float32),\n",
              " array([0.8973803], dtype=float32),\n",
              " array([0.55764383], dtype=float32),\n",
              " array([0.8416687], dtype=float32),\n",
              " array([0.6042625], dtype=float32),\n",
              " array([0.47801656], dtype=float32),\n",
              " array([0.999167], dtype=float32),\n",
              " array([0.70940596], dtype=float32),\n",
              " array([1.0781168], dtype=float32),\n",
              " array([0.85975975], dtype=float32),\n",
              " array([0.41800988], dtype=float32),\n",
              " array([0.72750306], dtype=float32),\n",
              " array([1.1796461], dtype=float32),\n",
              " array([0.6692189], dtype=float32),\n",
              " array([0.5093126], dtype=float32),\n",
              " array([1.4851698], dtype=float32),\n",
              " array([1.0040808], dtype=float32),\n",
              " array([0.6788315], dtype=float32),\n",
              " array([0.5133718], dtype=float32),\n",
              " array([0.4509425], dtype=float32),\n",
              " array([0.8384664], dtype=float32),\n",
              " array([0.7809112], dtype=float32),\n",
              " array([1.3038508], dtype=float32),\n",
              " array([0.6538697], dtype=float32)]"
            ]
          },
          "metadata": {},
          "execution_count": 43
        }
      ]
    }
  ]
}